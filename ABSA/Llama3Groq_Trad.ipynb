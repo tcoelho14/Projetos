{
  "cells": [
    {
      "cell_type": "code",
      "execution_count": null,
      "metadata": {
        "colab": {
          "base_uri": "https://localhost:8080/"
        },
        "id": "fY6O_jr-riSj",
        "outputId": "21d496ee-4fee-4883-c79a-993e3b3b4ad1"
      },
      "outputs": [
        {
          "name": "stdout",
          "output_type": "stream",
          "text": [
            "Collecting groq\n",
            "  Downloading groq-0.8.0-py3-none-any.whl (105 kB)\n",
            "\u001b[2K     \u001b[90m━━━━━━━━━━━━━━━━━━━━━━━━━━━━━━━━━━━━━━━━\u001b[0m \u001b[32m105.4/105.4 kB\u001b[0m \u001b[31m941.3 kB/s\u001b[0m eta \u001b[36m0:00:00\u001b[0m\n",
            "\u001b[?25hRequirement already satisfied: anyio<5,>=3.5.0 in /usr/local/lib/python3.10/dist-packages (from groq) (3.7.1)\n",
            "Requirement already satisfied: distro<2,>=1.7.0 in /usr/lib/python3/dist-packages (from groq) (1.7.0)\n",
            "Collecting httpx<1,>=0.23.0 (from groq)\n",
            "  Downloading httpx-0.27.0-py3-none-any.whl (75 kB)\n",
            "\u001b[2K     \u001b[90m━━━━━━━━━━━━━━━━━━━━━━━━━━━━━━━━━━━━━━━━\u001b[0m \u001b[32m75.6/75.6 kB\u001b[0m \u001b[31m4.4 MB/s\u001b[0m eta \u001b[36m0:00:00\u001b[0m\n",
            "\u001b[?25hRequirement already satisfied: pydantic<3,>=1.9.0 in /usr/local/lib/python3.10/dist-packages (from groq) (2.7.1)\n",
            "Requirement already satisfied: sniffio in /usr/local/lib/python3.10/dist-packages (from groq) (1.3.1)\n",
            "Requirement already satisfied: typing-extensions<5,>=4.7 in /usr/local/lib/python3.10/dist-packages (from groq) (4.11.0)\n",
            "Requirement already satisfied: idna>=2.8 in /usr/local/lib/python3.10/dist-packages (from anyio<5,>=3.5.0->groq) (3.7)\n",
            "Requirement already satisfied: exceptiongroup in /usr/local/lib/python3.10/dist-packages (from anyio<5,>=3.5.0->groq) (1.2.1)\n",
            "Requirement already satisfied: certifi in /usr/local/lib/python3.10/dist-packages (from httpx<1,>=0.23.0->groq) (2024.2.2)\n",
            "Collecting httpcore==1.* (from httpx<1,>=0.23.0->groq)\n",
            "  Downloading httpcore-1.0.5-py3-none-any.whl (77 kB)\n",
            "\u001b[2K     \u001b[90m━━━━━━━━━━━━━━━━━━━━━━━━━━━━━━━━━━━━━━━━\u001b[0m \u001b[32m77.9/77.9 kB\u001b[0m \u001b[31m4.7 MB/s\u001b[0m eta \u001b[36m0:00:00\u001b[0m\n",
            "\u001b[?25hCollecting h11<0.15,>=0.13 (from httpcore==1.*->httpx<1,>=0.23.0->groq)\n",
            "  Downloading h11-0.14.0-py3-none-any.whl (58 kB)\n",
            "\u001b[2K     \u001b[90m━━━━━━━━━━━━━━━━━━━━━━━━━━━━━━━━━━━━━━━━\u001b[0m \u001b[32m58.3/58.3 kB\u001b[0m \u001b[31m3.8 MB/s\u001b[0m eta \u001b[36m0:00:00\u001b[0m\n",
            "\u001b[?25hRequirement already satisfied: annotated-types>=0.4.0 in /usr/local/lib/python3.10/dist-packages (from pydantic<3,>=1.9.0->groq) (0.7.0)\n",
            "Requirement already satisfied: pydantic-core==2.18.2 in /usr/local/lib/python3.10/dist-packages (from pydantic<3,>=1.9.0->groq) (2.18.2)\n",
            "Installing collected packages: h11, httpcore, httpx, groq\n",
            "Successfully installed groq-0.8.0 h11-0.14.0 httpcore-1.0.5 httpx-0.27.0\n"
          ]
        }
      ],
      "source": [
        "!pip install groq"
      ]
    },
    {
      "cell_type": "code",
      "execution_count": null,
      "metadata": {
        "id": "lJc7PCFusIl7"
      },
      "outputs": [],
      "source": [
        "import pandas as pd"
      ]
    },
    {
      "cell_type": "code",
      "execution_count": null,
      "metadata": {
        "id": "yvaDSO2QtqoQ"
      },
      "outputs": [],
      "source": [
        "file = 'FLH_Language_Detected.xlsx'"
      ]
    },
    {
      "cell_type": "code",
      "execution_count": null,
      "metadata": {
        "id": "jYOAedTDtqG4"
      },
      "outputs": [],
      "source": [
        "res = pd.read_excel(file, 'Reservas')\n",
        "prop = pd.read_excel(file, 'Propriedades')\n",
        "guests = pd.read_excel(file, 'Hóspedes')\n",
        "data = pd.read_excel(file, 'Reviews - geral')\n",
        "reviews2 = pd.read_excel(file, 'Reviews - detalhe')"
      ]
    },
    {
      "cell_type": "code",
      "execution_count": null,
      "metadata": {
        "id": "vwLYMq3W9Anu"
      },
      "outputs": [],
      "source": [
        "def count_words(text):\n",
        "    return len(text.split())\n",
        "\n",
        "# Filter the dataframe\n",
        "data = data[data['Comments'].apply(count_words) > 4]"
      ]
    },
    {
      "cell_type": "code",
      "execution_count": null,
      "metadata": {
        "colab": {
          "base_uri": "https://localhost:8080/"
        },
        "id": "_xE3U-369BTC",
        "outputId": "2d517049-541e-449d-fdfe-d22d3265fbf3"
      },
      "outputs": [
        {
          "name": "stderr",
          "output_type": "stream",
          "text": [
            "<ipython-input-6-02f1332f6b3e>:1: SettingWithCopyWarning: \n",
            "A value is trying to be set on a copy of a slice from a DataFrame\n",
            "\n",
            "See the caveats in the documentation: https://pandas.pydata.org/pandas-docs/stable/user_guide/indexing.html#returning-a-view-versus-a-copy\n",
            "  data.dropna(subset=['Comments'], inplace=True)\n"
          ]
        }
      ],
      "source": [
        "data.dropna(subset=['Comments'], inplace=True)"
      ]
    },
    {
      "cell_type": "code",
      "execution_count": null,
      "metadata": {
        "id": "f2PojuNpriVF"
      },
      "outputs": [],
      "source": [
        "import os\n",
        "from google.colab import userdata\n",
        "GROQ_API_TOKEN = userdata.get('GROQ_API_KEY')\n",
        "\n",
        "os.environ[\"GROQ_API_KEY\"] = GROQ_API_TOKEN"
      ]
    },
    {
      "cell_type": "code",
      "execution_count": null,
      "metadata": {
        "id": "-GYMDYc0eXRi"
      },
      "outputs": [],
      "source": [
        "filtered_data = data[data['ReservationId'].isin(guests[guests['GuestCountry'].isin(['FR', 'ES', 'PT'])]['ReservationId'])]\n"
      ]
    },
    {
      "cell_type": "code",
      "execution_count": null,
      "metadata": {
        "colab": {
          "base_uri": "https://localhost:8080/"
        },
        "id": "2p5B4OWSUGf9",
        "outputId": "4eae2441-df27-48a2-fe11-8b86826880e2"
      },
      "outputs": [
        {
          "data": {
            "text/plain": [
              "11244"
            ]
          },
          "execution_count": 9,
          "metadata": {},
          "output_type": "execute_result"
        }
      ],
      "source": [
        "len(data)"
      ]
    },
    {
      "cell_type": "code",
      "execution_count": null,
      "metadata": {
        "id": "s987KYByT5N7"
      },
      "outputs": [],
      "source": [
        "data1 = data[:2000]\n"
      ]
    },
    {
      "cell_type": "code",
      "execution_count": null,
      "metadata": {
        "id": "SILSBfK1riXY"
      },
      "outputs": [],
      "source": [
        "import os\n",
        "import pandas as pd\n",
        "from tqdm import tqdm\n",
        "from groq import Groq\n",
        "\n",
        "# Initialize Groq client\n",
        "client = Groq(\n",
        "    api_key=os.environ.get(\"GROQ_API_KEY\"),\n",
        ")\n",
        "\n",
        "# Function to translate using Groq\n",
        "def llama3_70b(prompt, temperature=0.0):\n",
        "    chat_completion = client.chat.completions.create(\n",
        "        messages=[\n",
        "            {\n",
        "                \"role\": \"user\",\n",
        "                \"content\": prompt,\n",
        "            }\n",
        "        ],\n",
        "        model=\"llama3-70b-8192\",\n",
        "        temperature=temperature,\n",
        "    )\n",
        "    return chat_completion.choices[0].message.content\n",
        "\n",
        "# Translate function for each row\n",
        "def translate_row(row):\n",
        "    comment = row['Comments']\n",
        "    prompt = \"Translate the following review to English.If the text is already in english just paste it as it is. The answer should only be the translation, nothing more.\"\n",
        "    prompt_text = f\"{prompt} '''{comment}'''\"\n",
        "    translated_comment = llama3_70b(prompt_text)\n",
        "    return translated_comment\n",
        "\n",
        "\n",
        "\n"
      ]
    },
    {
      "cell_type": "code",
      "execution_count": null,
      "metadata": {
        "colab": {
          "base_uri": "https://localhost:8080/"
        },
        "id": "P-u-3dvBoK2n",
        "outputId": "982729b7-a00f-4833-fb0d-72eadd1f9611"
      },
      "outputs": [
        {
          "name": "stderr",
          "output_type": "stream",
          "text": [
            "<ipython-input-14-47a680cb6ee8>:1: SettingWithCopyWarning: \n",
            "A value is trying to be set on a copy of a slice from a DataFrame.\n",
            "Try using .loc[row_indexer,col_indexer] = value instead\n",
            "\n",
            "See the caveats in the documentation: https://pandas.pydata.org/pandas-docs/stable/user_guide/indexing.html#returning-a-view-versus-a-copy\n",
            "  data1['EngTrad'] = ''\n",
            "Translating Comments: 100%|██████████| 2000/2000 [1:18:50<00:00,  2.37s/it]\n",
            "<ipython-input-14-47a680cb6ee8>:5: SettingWithCopyWarning: \n",
            "A value is trying to be set on a copy of a slice from a DataFrame.\n",
            "Try using .loc[row_indexer,col_indexer] = value instead\n",
            "\n",
            "See the caveats in the documentation: https://pandas.pydata.org/pandas-docs/stable/user_guide/indexing.html#returning-a-view-versus-a-copy\n",
            "  data1['EngTrad'] = data1.progress_apply(translate_row, axis=1)\n"
          ]
        }
      ],
      "source": [
        "data1['EngTrad'] = ''\n",
        "\n",
        "# Apply translate_row function to each row and store the result in 'EngTrad' column\n",
        "tqdm.pandas(desc=\"Translating Comments\")\n",
        "data1['EngTrad'] = data1.progress_apply(translate_row, axis=1)"
      ]
    },
    {
      "cell_type": "code",
      "execution_count": null,
      "metadata": {
        "id": "PEz9hKyvxbSJ"
      },
      "outputs": [],
      "source": [
        "data1.to_excel('llama3-trad-2000.xlsx',index=False)"
      ]
    },
    {
      "cell_type": "code",
      "execution_count": null,
      "metadata": {
        "id": "X2YqmMX-cYcR"
      },
      "outputs": [],
      "source": [
        "data2 = data[2000:4000]\n",
        "data3 = data[4000:6000]\n",
        "data4 = data[6000:8000]\n",
        "data5 = data[8000:10000]\n",
        "data6 = data[10000:]"
      ]
    },
    {
      "cell_type": "code",
      "execution_count": null,
      "metadata": {
        "colab": {
          "base_uri": "https://localhost:8080/"
        },
        "id": "O4KGdZM1-lll",
        "outputId": "11b46bd5-c65c-48ff-e589-1d2757d1815e"
      },
      "outputs": [
        {
          "name": "stderr",
          "output_type": "stream",
          "text": [
            "<ipython-input-13-4deaadce9144>:1: SettingWithCopyWarning: \n",
            "A value is trying to be set on a copy of a slice from a DataFrame.\n",
            "Try using .loc[row_indexer,col_indexer] = value instead\n",
            "\n",
            "See the caveats in the documentation: https://pandas.pydata.org/pandas-docs/stable/user_guide/indexing.html#returning-a-view-versus-a-copy\n",
            "  data2['EngTrad'] = ''\n",
            "Translating Comments: 100%|██████████| 2000/2000 [1:46:24<00:00,  3.19s/it]\n",
            "<ipython-input-13-4deaadce9144>:5: SettingWithCopyWarning: \n",
            "A value is trying to be set on a copy of a slice from a DataFrame.\n",
            "Try using .loc[row_indexer,col_indexer] = value instead\n",
            "\n",
            "See the caveats in the documentation: https://pandas.pydata.org/pandas-docs/stable/user_guide/indexing.html#returning-a-view-versus-a-copy\n",
            "  data2['EngTrad'] = data2.progress_apply(translate_row, axis=1)\n"
          ]
        }
      ],
      "source": [
        "data2['EngTrad'] = ''\n",
        "\n",
        "# Apply translate_row function to each row and store the result in 'EngTrad' column\n",
        "tqdm.pandas(desc=\"Translating Comments\")\n",
        "data2['EngTrad'] = data2.progress_apply(translate_row, axis=1)"
      ]
    },
    {
      "cell_type": "code",
      "execution_count": null,
      "metadata": {
        "id": "jdOknrvVUeFp"
      },
      "outputs": [],
      "source": [
        "data2.to_excel('llama3-trad-4000.xlsx',index=False)"
      ]
    },
    {
      "cell_type": "code",
      "execution_count": null,
      "metadata": {
        "colab": {
          "base_uri": "https://localhost:8080/"
        },
        "id": "PX0fdq95UhTG",
        "outputId": "ab6db69f-1cd6-461e-9938-667fc8014c7a"
      },
      "outputs": [
        {
          "name": "stderr",
          "output_type": "stream",
          "text": [
            "<ipython-input-15-12d7eb3aadb2>:1: SettingWithCopyWarning: \n",
            "A value is trying to be set on a copy of a slice from a DataFrame.\n",
            "Try using .loc[row_indexer,col_indexer] = value instead\n",
            "\n",
            "See the caveats in the documentation: https://pandas.pydata.org/pandas-docs/stable/user_guide/indexing.html#returning-a-view-versus-a-copy\n",
            "  data3['EngTrad'] = ''\n",
            "Translating Comments: 100%|██████████| 2000/2000 [3:35:46<00:00,  6.47s/it]\n",
            "<ipython-input-15-12d7eb3aadb2>:5: SettingWithCopyWarning: \n",
            "A value is trying to be set on a copy of a slice from a DataFrame.\n",
            "Try using .loc[row_indexer,col_indexer] = value instead\n",
            "\n",
            "See the caveats in the documentation: https://pandas.pydata.org/pandas-docs/stable/user_guide/indexing.html#returning-a-view-versus-a-copy\n",
            "  data3['EngTrad'] = data3.progress_apply(translate_row, axis=1)\n"
          ]
        }
      ],
      "source": [
        "data3['EngTrad'] = ''\n",
        "\n",
        "# Apply translate_row function to each row and store the result in 'EngTrad' column\n",
        "tqdm.pandas(desc=\"Translating Comments\")\n",
        "data3['EngTrad'] = data3.progress_apply(translate_row, axis=1)"
      ]
    },
    {
      "cell_type": "code",
      "execution_count": null,
      "metadata": {
        "id": "v9WJcF13UpW5"
      },
      "outputs": [],
      "source": [
        "data3.to_excel('llama3-trad-6000.xlsx',index=False)"
      ]
    },
    {
      "cell_type": "code",
      "execution_count": null,
      "metadata": {
        "colab": {
          "base_uri": "https://localhost:8080/"
        },
        "id": "abgvrayBU13h",
        "outputId": "db9425c6-4966-4155-cd26-66749e566d57"
      },
      "outputs": [
        {
          "name": "stderr",
          "output_type": "stream",
          "text": [
            "<ipython-input-14-2953af1fb437>:1: SettingWithCopyWarning: \n",
            "A value is trying to be set on a copy of a slice from a DataFrame.\n",
            "Try using .loc[row_indexer,col_indexer] = value instead\n",
            "\n",
            "See the caveats in the documentation: https://pandas.pydata.org/pandas-docs/stable/user_guide/indexing.html#returning-a-view-versus-a-copy\n",
            "  data4['EngTrad'] = ''\n",
            "Translating Comments: 100%|██████████| 2000/2000 [3:37:21<00:00,  6.52s/it]\n",
            "<ipython-input-14-2953af1fb437>:5: SettingWithCopyWarning: \n",
            "A value is trying to be set on a copy of a slice from a DataFrame.\n",
            "Try using .loc[row_indexer,col_indexer] = value instead\n",
            "\n",
            "See the caveats in the documentation: https://pandas.pydata.org/pandas-docs/stable/user_guide/indexing.html#returning-a-view-versus-a-copy\n",
            "  data4['EngTrad'] = data4.progress_apply(translate_row, axis=1)\n"
          ]
        }
      ],
      "source": [
        "data4['EngTrad'] = ''\n",
        "\n",
        "# Apply translate_row function to each row and store the result in 'EngTrad' column\n",
        "tqdm.pandas(desc=\"Translating Comments\")\n",
        "data4['EngTrad'] = data4.progress_apply(translate_row, axis=1)"
      ]
    },
    {
      "cell_type": "code",
      "execution_count": null,
      "metadata": {
        "id": "qtHzpcRkU6MB"
      },
      "outputs": [],
      "source": [
        "data4.to_excel('llama3-trad-8000.xlsx',index=False)"
      ]
    },
    {
      "cell_type": "code",
      "execution_count": null,
      "metadata": {
        "colab": {
          "background_save": true,
          "base_uri": "https://localhost:8080/"
        },
        "id": "guYzF0-OU8Dm",
        "outputId": "c56b028d-08d0-4670-cd97-5b1e1f805857"
      },
      "outputs": [
        {
          "name": "stderr",
          "output_type": "stream",
          "text": [
            "<ipython-input-16-a8b96bc85806>:1: SettingWithCopyWarning: \n",
            "A value is trying to be set on a copy of a slice from a DataFrame.\n",
            "Try using .loc[row_indexer,col_indexer] = value instead\n",
            "\n",
            "See the caveats in the documentation: https://pandas.pydata.org/pandas-docs/stable/user_guide/indexing.html#returning-a-view-versus-a-copy\n",
            "  data5['EngTrad'] = ''\n",
            "Translating Comments:  83%|████████▎ | 1656/2000 [2:59:58<37:21,  6.52s/it]"
          ]
        }
      ],
      "source": [
        "data5['EngTrad'] = ''\n",
        "\n",
        "# Apply translate_row function to each row and store the result in 'EngTrad' column\n",
        "tqdm.pandas(desc=\"Translating Comments\")\n",
        "data5['EngTrad'] = data5.progress_apply(translate_row, axis=1)"
      ]
    },
    {
      "cell_type": "code",
      "execution_count": null,
      "metadata": {
        "id": "YNQoAmVUc7Uo"
      },
      "outputs": [],
      "source": [
        "data5.to_excel('llama3-trad-10k.xlsx',index=False)"
      ]
    },
    {
      "cell_type": "code",
      "execution_count": null,
      "metadata": {
        "id": "C3IrCJJ1cr6u"
      },
      "outputs": [],
      "source": [
        "data6['EngTrad'] = ''\n",
        "\n",
        "# Apply translate_row function to each row and store the result in 'EngTrad' column\n",
        "tqdm.pandas(desc=\"Translating Comments\")\n",
        "data6['EngTrad'] = data6.progress_apply(translate_row, axis=1)"
      ]
    },
    {
      "cell_type": "code",
      "execution_count": null,
      "metadata": {
        "id": "D9e3JSvhc9Qe"
      },
      "outputs": [],
      "source": [
        "data6.to_excel('llama3-trad-rest.xlsx',index=False)"
      ]
    },
    {
      "cell_type": "code",
      "execution_count": null,
      "metadata": {
        "id": "LeD0fF5UwDtU"
      },
      "outputs": [],
      "source": [
        "file = 'llama3-trad-2000 (1).xlsx'"
      ]
    },
    {
      "cell_type": "code",
      "execution_count": null,
      "metadata": {
        "id": "2UZnhYTiLyGZ"
      },
      "outputs": [],
      "source": [
        "data1 = pd.read_excel(file)"
      ]
    },
    {
      "cell_type": "code",
      "execution_count": null,
      "metadata": {
        "id": "CItyKHh3L33f"
      },
      "outputs": [],
      "source": [
        "file = 'llama3-trad-4000.xlsx'"
      ]
    },
    {
      "cell_type": "code",
      "execution_count": null,
      "metadata": {
        "id": "pYeJZCWWL31g"
      },
      "outputs": [],
      "source": [
        "data2 = pd.read_excel(file)"
      ]
    },
    {
      "cell_type": "code",
      "execution_count": null,
      "metadata": {
        "id": "tiqfXzQQL3zc"
      },
      "outputs": [],
      "source": [
        "file = 'llama3-trad-6000.xlsx'"
      ]
    },
    {
      "cell_type": "code",
      "execution_count": null,
      "metadata": {
        "id": "zo0gNCxqL3xN"
      },
      "outputs": [],
      "source": [
        "data3 = pd.read_excel(file)"
      ]
    },
    {
      "cell_type": "code",
      "execution_count": null,
      "metadata": {
        "id": "ISIoNzrNL3vN"
      },
      "outputs": [],
      "source": [
        "file = 'llama3-trad-8000.xlsx'"
      ]
    },
    {
      "cell_type": "code",
      "execution_count": null,
      "metadata": {
        "id": "xa3cftDQL3tN"
      },
      "outputs": [],
      "source": [
        "data4 = pd.read_excel(file)"
      ]
    },
    {
      "cell_type": "code",
      "execution_count": null,
      "metadata": {
        "id": "DdKX5MM1L3q9"
      },
      "outputs": [],
      "source": [
        "file = 'llama3-trad-10k.xlsx'"
      ]
    },
    {
      "cell_type": "code",
      "execution_count": null,
      "metadata": {
        "id": "eT42M_vyL3o9"
      },
      "outputs": [],
      "source": [
        "data5 = pd.read_excel(file)"
      ]
    },
    {
      "cell_type": "code",
      "execution_count": null,
      "metadata": {
        "id": "_TLTur0nL3md"
      },
      "outputs": [],
      "source": [
        "file = 'llama3-trad-rest.xlsx'"
      ]
    },
    {
      "cell_type": "code",
      "execution_count": null,
      "metadata": {
        "id": "gjYnQdDqL3kO"
      },
      "outputs": [],
      "source": [
        "data6 = pd.read_excel(file)"
      ]
    },
    {
      "cell_type": "code",
      "execution_count": null,
      "metadata": {
        "id": "BDlBYD0dL3hu"
      },
      "outputs": [],
      "source": [
        "dfs = [data1, data2, data3, data4, data5, data6]\n",
        "\n",
        "# Concatenate (merge) all DataFrames in the list together\n",
        "merged_df = pd.concat(dfs, ignore_index=False)"
      ]
    },
    {
      "cell_type": "code",
      "execution_count": null,
      "metadata": {
        "colab": {
          "base_uri": "https://localhost:8080/",
          "height": 423
        },
        "id": "utU2f8MCL3e9",
        "outputId": "3ecfcfd5-f855-453c-f84d-181cf6149398"
      },
      "outputs": [
        {
          "data": {
            "application/vnd.google.colaboratory.intrinsic+json": {
              "summary": "{\n  \"name\": \"merged_df\",\n  \"rows\": 11244,\n  \"fields\": [\n    {\n      \"column\": \"ReservationId\",\n      \"properties\": {\n        \"dtype\": \"number\",\n        \"std\": 919961388.7365389,\n        \"min\": 0.0,\n        \"max\": 1879192620.0,\n        \"num_unique_values\": 10472,\n        \"samples\": [\n          40071.0,\n          1812033792.0,\n          1879077468.0\n        ],\n        \"semantic_type\": \"\",\n        \"description\": \"\"\n      }\n    },\n    {\n      \"column\": \"RatingValue\",\n      \"properties\": {\n        \"dtype\": \"number\",\n        \"std\": 2.126463816398421,\n        \"min\": 1.0,\n        \"max\": 44.0,\n        \"num_unique_values\": 9,\n        \"samples\": [\n          1.0,\n          10.0,\n          5.0\n        ],\n        \"semantic_type\": \"\",\n        \"description\": \"\"\n      }\n    },\n    {\n      \"column\": \"Comments\",\n      \"properties\": {\n        \"dtype\": \"string\",\n        \"num_unique_values\": 11221,\n        \"samples\": [\n          \"5 jours dans un superbe appartement, situ\\u00e9 en plein c\\u0153ur de Lisbonne. Les prestations sont exceptionnelles avec beaucoup d`espace. La d\\u00e9coration est raffin\\u00e9e et la cuisine tr\\u00e8s bien \\u00e9quip\\u00e9e. La salle \\u00e0 manger est charmante par ses dimensions. Tout est cosi !  L`isolation phonique est excellente \\u00e9galement, et aucun bruit de la ville ne p\\u00e9n\\u00e8tre.    ...et une bouteille de vin ros\\u00e9 pour l`accueil !  Un lieu parfait pour d\\u00e9couvrir Lisbonne !\",\n          \"We very much enjoyed our stay in this amazing roof-top flat.  The views are amazing, and the access to the rooftop terrace is fantastic.  We stayed two nights and were able to enjoy the sunset from the terrace on our last night in Lisbon.  Coming from San Francisco, we especially appreciated the sister city similarities.  Lisbon is a wonderful city and we loved it!  We are a family of four  with 2 adult children, and loved the generous living space as well as all the very comfortable beds.  The apartment wasn`t quite ready when we arrived at 3pm, but the cleaning service arrived a couple of hours later as we were leaving to go out.  Everything was in great shape when we returned, but unfortunately there was no hot water for the first 24 hours.  They got it fixed for the remaining day of our stay and all went really well otherwise.  Good washer, great kitchen, views from every room to die for.  Wonderful neighborhood--loved being able to go up the street to very lively neighborhoods with many restaurants and the best gelato in the world at Santini!  Be sure to pick up breads and goodies at A Padaria Portuguesa also just up the hill.  Excellent!!  Super convenient to transportation--train station at the bottom of the hill across the street, including stops for Tram 28 to Alfama, etc., and also Tram 15 and buses to Belem just at the bottom of the street.  Also AeroBus stops at the bottom of the hill just across the street, so definitely the best way to get to and from the airport for great price.  You can pay on the bus.  \",\n          \"The place was clean and check-in + check-out was easy but the location on the website is not accurate and there was a bad smell in the bathroom and in the master bedroom.\"\n        ],\n        \"semantic_type\": \"\",\n        \"description\": \"\"\n      }\n    },\n    {\n      \"column\": \"Language\",\n      \"properties\": {\n        \"dtype\": \"category\",\n        \"num_unique_values\": 25,\n        \"samples\": [\n          \"__label__slv_Latn\",\n          \"__label__kor_Hang\",\n          \"__label__eng_Latn\"\n        ],\n        \"semantic_type\": \"\",\n        \"description\": \"\"\n      }\n    },\n    {\n      \"column\": \"EngTrad\",\n      \"properties\": {\n        \"dtype\": \"string\",\n        \"num_unique_values\": 11113,\n        \"samples\": [\n          \"\\\"Excellent stay with an exceptional host. A technical problem in the house resulted in excellent proactivity and dynamism from the host. A very welcoming, clean, and stylish house. A welcome pack that's a nice touch! I recommend 100%!!!!\\\"\",\n          \"\\\"Very good quality-price ratio! Perfect for a weekend!\\\"\",\n          \"\\\"Apparently superb with an exceptional view !!!\\\"\"\n        ],\n        \"semantic_type\": \"\",\n        \"description\": \"\"\n      }\n    }\n  ]\n}",
              "type": "dataframe",
              "variable_name": "merged_df"
            },
            "text/html": [
              "\n",
              "  <div id=\"df-a6b397ef-97f4-4942-b38b-0f5ca7224baa\" class=\"colab-df-container\">\n",
              "    <div>\n",
              "<style scoped>\n",
              "    .dataframe tbody tr th:only-of-type {\n",
              "        vertical-align: middle;\n",
              "    }\n",
              "\n",
              "    .dataframe tbody tr th {\n",
              "        vertical-align: top;\n",
              "    }\n",
              "\n",
              "    .dataframe thead th {\n",
              "        text-align: right;\n",
              "    }\n",
              "</style>\n",
              "<table border=\"1\" class=\"dataframe\">\n",
              "  <thead>\n",
              "    <tr style=\"text-align: right;\">\n",
              "      <th></th>\n",
              "      <th>ReservationId</th>\n",
              "      <th>RatingValue</th>\n",
              "      <th>Comments</th>\n",
              "      <th>Language</th>\n",
              "      <th>EngTrad</th>\n",
              "    </tr>\n",
              "  </thead>\n",
              "  <tbody>\n",
              "    <tr>\n",
              "      <th>0</th>\n",
              "      <td>1.879141e+09</td>\n",
              "      <td>8.0</td>\n",
              "      <td>Very nice place, it was spacious and good loca...</td>\n",
              "      <td>__label__eng_Latn</td>\n",
              "      <td>Very nice place, it was spacious and well-loca...</td>\n",
              "    </tr>\n",
              "    <tr>\n",
              "      <th>1</th>\n",
              "      <td>1.879141e+09</td>\n",
              "      <td>8.0</td>\n",
              "      <td>Casa muito espaçosa, com ótima vista e relativ...</td>\n",
              "      <td>__label__por_Latn</td>\n",
              "      <td>\"Very spacious house, with great views and rel...</td>\n",
              "    </tr>\n",
              "    <tr>\n",
              "      <th>2</th>\n",
              "      <td>1.879139e+09</td>\n",
              "      <td>10.0</td>\n",
              "      <td>We only stayed for a few days but the place is...</td>\n",
              "      <td>__label__eng_Latn</td>\n",
              "      <td>''We only stayed for a few days but the place ...</td>\n",
              "    </tr>\n",
              "    <tr>\n",
              "      <th>3</th>\n",
              "      <td>1.879130e+09</td>\n",
              "      <td>8.0</td>\n",
              "      <td>Un sitio agradable, lo mejor la terraza y las ...</td>\n",
              "      <td>__label__spa_Latn</td>\n",
              "      <td>\"A pleasant site, the best part is the terrace...</td>\n",
              "    </tr>\n",
              "    <tr>\n",
              "      <th>4</th>\n",
              "      <td>1.879139e+09</td>\n",
              "      <td>10.0</td>\n",
              "      <td>Wonderful spacious apt, comfortable furniture,...</td>\n",
              "      <td>__label__eng_Latn</td>\n",
              "      <td>'''Wonderful spacious apt, comfortable furnitu...</td>\n",
              "    </tr>\n",
              "    <tr>\n",
              "      <th>...</th>\n",
              "      <td>...</td>\n",
              "      <td>...</td>\n",
              "      <td>...</td>\n",
              "      <td>...</td>\n",
              "      <td>...</td>\n",
              "    </tr>\n",
              "    <tr>\n",
              "      <th>1239</th>\n",
              "      <td>1.879192e+09</td>\n",
              "      <td>3.0</td>\n",
              "      <td>Infelizmente o apartamento não estava muito li...</td>\n",
              "      <td>__label__por_Latn</td>\n",
              "      <td>\"Unfortunately, the apartment was not very cle...</td>\n",
              "    </tr>\n",
              "    <tr>\n",
              "      <th>1240</th>\n",
              "      <td>1.879179e+09</td>\n",
              "      <td>5.0</td>\n",
              "      <td>Apartamento claro e limpo, muito boas instalaç...</td>\n",
              "      <td>__label__por_Latn</td>\n",
              "      <td>\"Clear and clean apartment, very good faciliti...</td>\n",
              "    </tr>\n",
              "    <tr>\n",
              "      <th>1241</th>\n",
              "      <td>1.879188e+09</td>\n",
              "      <td>2.0</td>\n",
              "      <td>o apartamento não vale o dinheiro.esta é minha...</td>\n",
              "      <td>__label__por_Latn</td>\n",
              "      <td>\"The apartment is not worth the money. This is...</td>\n",
              "    </tr>\n",
              "    <tr>\n",
              "      <th>1242</th>\n",
              "      <td>1.879179e+09</td>\n",
              "      <td>5.0</td>\n",
              "      <td>A comunicação foi muito suave, o lugar é incrí...</td>\n",
              "      <td>__label__por_Latn</td>\n",
              "      <td>\"Communication was very smooth, the place is i...</td>\n",
              "    </tr>\n",
              "    <tr>\n",
              "      <th>1243</th>\n",
              "      <td>1.879180e+09</td>\n",
              "      <td>4.0</td>\n",
              "      <td>pro: melhor localização no centro da cidade, o...</td>\n",
              "      <td>__label__por_Latn</td>\n",
              "      <td>\"Pro: best location in the city center, the ap...</td>\n",
              "    </tr>\n",
              "  </tbody>\n",
              "</table>\n",
              "<p>11244 rows × 5 columns</p>\n",
              "</div>\n",
              "    <div class=\"colab-df-buttons\">\n",
              "\n",
              "  <div class=\"colab-df-container\">\n",
              "    <button class=\"colab-df-convert\" onclick=\"convertToInteractive('df-a6b397ef-97f4-4942-b38b-0f5ca7224baa')\"\n",
              "            title=\"Convert this dataframe to an interactive table.\"\n",
              "            style=\"display:none;\">\n",
              "\n",
              "  <svg xmlns=\"http://www.w3.org/2000/svg\" height=\"24px\" viewBox=\"0 -960 960 960\">\n",
              "    <path d=\"M120-120v-720h720v720H120Zm60-500h600v-160H180v160Zm220 220h160v-160H400v160Zm0 220h160v-160H400v160ZM180-400h160v-160H180v160Zm440 0h160v-160H620v160ZM180-180h160v-160H180v160Zm440 0h160v-160H620v160Z\"/>\n",
              "  </svg>\n",
              "    </button>\n",
              "\n",
              "  <style>\n",
              "    .colab-df-container {\n",
              "      display:flex;\n",
              "      gap: 12px;\n",
              "    }\n",
              "\n",
              "    .colab-df-convert {\n",
              "      background-color: #E8F0FE;\n",
              "      border: none;\n",
              "      border-radius: 50%;\n",
              "      cursor: pointer;\n",
              "      display: none;\n",
              "      fill: #1967D2;\n",
              "      height: 32px;\n",
              "      padding: 0 0 0 0;\n",
              "      width: 32px;\n",
              "    }\n",
              "\n",
              "    .colab-df-convert:hover {\n",
              "      background-color: #E2EBFA;\n",
              "      box-shadow: 0px 1px 2px rgba(60, 64, 67, 0.3), 0px 1px 3px 1px rgba(60, 64, 67, 0.15);\n",
              "      fill: #174EA6;\n",
              "    }\n",
              "\n",
              "    .colab-df-buttons div {\n",
              "      margin-bottom: 4px;\n",
              "    }\n",
              "\n",
              "    [theme=dark] .colab-df-convert {\n",
              "      background-color: #3B4455;\n",
              "      fill: #D2E3FC;\n",
              "    }\n",
              "\n",
              "    [theme=dark] .colab-df-convert:hover {\n",
              "      background-color: #434B5C;\n",
              "      box-shadow: 0px 1px 3px 1px rgba(0, 0, 0, 0.15);\n",
              "      filter: drop-shadow(0px 1px 2px rgba(0, 0, 0, 0.3));\n",
              "      fill: #FFFFFF;\n",
              "    }\n",
              "  </style>\n",
              "\n",
              "    <script>\n",
              "      const buttonEl =\n",
              "        document.querySelector('#df-a6b397ef-97f4-4942-b38b-0f5ca7224baa button.colab-df-convert');\n",
              "      buttonEl.style.display =\n",
              "        google.colab.kernel.accessAllowed ? 'block' : 'none';\n",
              "\n",
              "      async function convertToInteractive(key) {\n",
              "        const element = document.querySelector('#df-a6b397ef-97f4-4942-b38b-0f5ca7224baa');\n",
              "        const dataTable =\n",
              "          await google.colab.kernel.invokeFunction('convertToInteractive',\n",
              "                                                    [key], {});\n",
              "        if (!dataTable) return;\n",
              "\n",
              "        const docLinkHtml = 'Like what you see? Visit the ' +\n",
              "          '<a target=\"_blank\" href=https://colab.research.google.com/notebooks/data_table.ipynb>data table notebook</a>'\n",
              "          + ' to learn more about interactive tables.';\n",
              "        element.innerHTML = '';\n",
              "        dataTable['output_type'] = 'display_data';\n",
              "        await google.colab.output.renderOutput(dataTable, element);\n",
              "        const docLink = document.createElement('div');\n",
              "        docLink.innerHTML = docLinkHtml;\n",
              "        element.appendChild(docLink);\n",
              "      }\n",
              "    </script>\n",
              "  </div>\n",
              "\n",
              "\n",
              "<div id=\"df-c18543a9-c5bd-48f4-9c9e-ddae2d535ea0\">\n",
              "  <button class=\"colab-df-quickchart\" onclick=\"quickchart('df-c18543a9-c5bd-48f4-9c9e-ddae2d535ea0')\"\n",
              "            title=\"Suggest charts\"\n",
              "            style=\"display:none;\">\n",
              "\n",
              "<svg xmlns=\"http://www.w3.org/2000/svg\" height=\"24px\"viewBox=\"0 0 24 24\"\n",
              "     width=\"24px\">\n",
              "    <g>\n",
              "        <path d=\"M19 3H5c-1.1 0-2 .9-2 2v14c0 1.1.9 2 2 2h14c1.1 0 2-.9 2-2V5c0-1.1-.9-2-2-2zM9 17H7v-7h2v7zm4 0h-2V7h2v10zm4 0h-2v-4h2v4z\"/>\n",
              "    </g>\n",
              "</svg>\n",
              "  </button>\n",
              "\n",
              "<style>\n",
              "  .colab-df-quickchart {\n",
              "      --bg-color: #E8F0FE;\n",
              "      --fill-color: #1967D2;\n",
              "      --hover-bg-color: #E2EBFA;\n",
              "      --hover-fill-color: #174EA6;\n",
              "      --disabled-fill-color: #AAA;\n",
              "      --disabled-bg-color: #DDD;\n",
              "  }\n",
              "\n",
              "  [theme=dark] .colab-df-quickchart {\n",
              "      --bg-color: #3B4455;\n",
              "      --fill-color: #D2E3FC;\n",
              "      --hover-bg-color: #434B5C;\n",
              "      --hover-fill-color: #FFFFFF;\n",
              "      --disabled-bg-color: #3B4455;\n",
              "      --disabled-fill-color: #666;\n",
              "  }\n",
              "\n",
              "  .colab-df-quickchart {\n",
              "    background-color: var(--bg-color);\n",
              "    border: none;\n",
              "    border-radius: 50%;\n",
              "    cursor: pointer;\n",
              "    display: none;\n",
              "    fill: var(--fill-color);\n",
              "    height: 32px;\n",
              "    padding: 0;\n",
              "    width: 32px;\n",
              "  }\n",
              "\n",
              "  .colab-df-quickchart:hover {\n",
              "    background-color: var(--hover-bg-color);\n",
              "    box-shadow: 0 1px 2px rgba(60, 64, 67, 0.3), 0 1px 3px 1px rgba(60, 64, 67, 0.15);\n",
              "    fill: var(--button-hover-fill-color);\n",
              "  }\n",
              "\n",
              "  .colab-df-quickchart-complete:disabled,\n",
              "  .colab-df-quickchart-complete:disabled:hover {\n",
              "    background-color: var(--disabled-bg-color);\n",
              "    fill: var(--disabled-fill-color);\n",
              "    box-shadow: none;\n",
              "  }\n",
              "\n",
              "  .colab-df-spinner {\n",
              "    border: 2px solid var(--fill-color);\n",
              "    border-color: transparent;\n",
              "    border-bottom-color: var(--fill-color);\n",
              "    animation:\n",
              "      spin 1s steps(1) infinite;\n",
              "  }\n",
              "\n",
              "  @keyframes spin {\n",
              "    0% {\n",
              "      border-color: transparent;\n",
              "      border-bottom-color: var(--fill-color);\n",
              "      border-left-color: var(--fill-color);\n",
              "    }\n",
              "    20% {\n",
              "      border-color: transparent;\n",
              "      border-left-color: var(--fill-color);\n",
              "      border-top-color: var(--fill-color);\n",
              "    }\n",
              "    30% {\n",
              "      border-color: transparent;\n",
              "      border-left-color: var(--fill-color);\n",
              "      border-top-color: var(--fill-color);\n",
              "      border-right-color: var(--fill-color);\n",
              "    }\n",
              "    40% {\n",
              "      border-color: transparent;\n",
              "      border-right-color: var(--fill-color);\n",
              "      border-top-color: var(--fill-color);\n",
              "    }\n",
              "    60% {\n",
              "      border-color: transparent;\n",
              "      border-right-color: var(--fill-color);\n",
              "    }\n",
              "    80% {\n",
              "      border-color: transparent;\n",
              "      border-right-color: var(--fill-color);\n",
              "      border-bottom-color: var(--fill-color);\n",
              "    }\n",
              "    90% {\n",
              "      border-color: transparent;\n",
              "      border-bottom-color: var(--fill-color);\n",
              "    }\n",
              "  }\n",
              "</style>\n",
              "\n",
              "  <script>\n",
              "    async function quickchart(key) {\n",
              "      const quickchartButtonEl =\n",
              "        document.querySelector('#' + key + ' button');\n",
              "      quickchartButtonEl.disabled = true;  // To prevent multiple clicks.\n",
              "      quickchartButtonEl.classList.add('colab-df-spinner');\n",
              "      try {\n",
              "        const charts = await google.colab.kernel.invokeFunction(\n",
              "            'suggestCharts', [key], {});\n",
              "      } catch (error) {\n",
              "        console.error('Error during call to suggestCharts:', error);\n",
              "      }\n",
              "      quickchartButtonEl.classList.remove('colab-df-spinner');\n",
              "      quickchartButtonEl.classList.add('colab-df-quickchart-complete');\n",
              "    }\n",
              "    (() => {\n",
              "      let quickchartButtonEl =\n",
              "        document.querySelector('#df-c18543a9-c5bd-48f4-9c9e-ddae2d535ea0 button');\n",
              "      quickchartButtonEl.style.display =\n",
              "        google.colab.kernel.accessAllowed ? 'block' : 'none';\n",
              "    })();\n",
              "  </script>\n",
              "</div>\n",
              "    </div>\n",
              "  </div>\n"
            ],
            "text/plain": [
              "      ReservationId  RatingValue  \\\n",
              "0      1.879141e+09          8.0   \n",
              "1      1.879141e+09          8.0   \n",
              "2      1.879139e+09         10.0   \n",
              "3      1.879130e+09          8.0   \n",
              "4      1.879139e+09         10.0   \n",
              "...             ...          ...   \n",
              "1239   1.879192e+09          3.0   \n",
              "1240   1.879179e+09          5.0   \n",
              "1241   1.879188e+09          2.0   \n",
              "1242   1.879179e+09          5.0   \n",
              "1243   1.879180e+09          4.0   \n",
              "\n",
              "                                               Comments           Language  \\\n",
              "0     Very nice place, it was spacious and good loca...  __label__eng_Latn   \n",
              "1     Casa muito espaçosa, com ótima vista e relativ...  __label__por_Latn   \n",
              "2     We only stayed for a few days but the place is...  __label__eng_Latn   \n",
              "3     Un sitio agradable, lo mejor la terraza y las ...  __label__spa_Latn   \n",
              "4     Wonderful spacious apt, comfortable furniture,...  __label__eng_Latn   \n",
              "...                                                 ...                ...   \n",
              "1239  Infelizmente o apartamento não estava muito li...  __label__por_Latn   \n",
              "1240  Apartamento claro e limpo, muito boas instalaç...  __label__por_Latn   \n",
              "1241  o apartamento não vale o dinheiro.esta é minha...  __label__por_Latn   \n",
              "1242  A comunicação foi muito suave, o lugar é incrí...  __label__por_Latn   \n",
              "1243  pro: melhor localização no centro da cidade, o...  __label__por_Latn   \n",
              "\n",
              "                                                EngTrad  \n",
              "0     Very nice place, it was spacious and well-loca...  \n",
              "1     \"Very spacious house, with great views and rel...  \n",
              "2     ''We only stayed for a few days but the place ...  \n",
              "3     \"A pleasant site, the best part is the terrace...  \n",
              "4     '''Wonderful spacious apt, comfortable furnitu...  \n",
              "...                                                 ...  \n",
              "1239  \"Unfortunately, the apartment was not very cle...  \n",
              "1240  \"Clear and clean apartment, very good faciliti...  \n",
              "1241  \"The apartment is not worth the money. This is...  \n",
              "1242  \"Communication was very smooth, the place is i...  \n",
              "1243  \"Pro: best location in the city center, the ap...  \n",
              "\n",
              "[11244 rows x 5 columns]"
            ]
          },
          "execution_count": 36,
          "metadata": {},
          "output_type": "execute_result"
        }
      ],
      "source": [
        "merged_df"
      ]
    },
    {
      "cell_type": "code",
      "execution_count": null,
      "metadata": {
        "id": "ZZpWcVNhMizl"
      },
      "outputs": [],
      "source": [
        "data = merged_df"
      ]
    },
    {
      "cell_type": "code",
      "execution_count": null,
      "metadata": {
        "colab": {
          "base_uri": "https://localhost:8080/",
          "height": 423
        },
        "id": "3xJ46n_3M-MC",
        "outputId": "8f7250f3-ee36-4cf3-c834-f4f06cf342fc"
      },
      "outputs": [
        {
          "data": {
            "application/vnd.google.colaboratory.intrinsic+json": {
              "summary": "{\n  \"name\": \"data\",\n  \"rows\": 11244,\n  \"fields\": [\n    {\n      \"column\": \"ReservationId\",\n      \"properties\": {\n        \"dtype\": \"number\",\n        \"std\": 919961388.7365389,\n        \"min\": 0.0,\n        \"max\": 1879192620.0,\n        \"num_unique_values\": 10472,\n        \"samples\": [\n          40071.0,\n          1812033792.0,\n          1879077468.0\n        ],\n        \"semantic_type\": \"\",\n        \"description\": \"\"\n      }\n    },\n    {\n      \"column\": \"RatingValue\",\n      \"properties\": {\n        \"dtype\": \"number\",\n        \"std\": 2.126463816398421,\n        \"min\": 1.0,\n        \"max\": 44.0,\n        \"num_unique_values\": 9,\n        \"samples\": [\n          1.0,\n          10.0,\n          5.0\n        ],\n        \"semantic_type\": \"\",\n        \"description\": \"\"\n      }\n    },\n    {\n      \"column\": \"Comments\",\n      \"properties\": {\n        \"dtype\": \"string\",\n        \"num_unique_values\": 11221,\n        \"samples\": [\n          \"5 jours dans un superbe appartement, situ\\u00e9 en plein c\\u0153ur de Lisbonne. Les prestations sont exceptionnelles avec beaucoup d`espace. La d\\u00e9coration est raffin\\u00e9e et la cuisine tr\\u00e8s bien \\u00e9quip\\u00e9e. La salle \\u00e0 manger est charmante par ses dimensions. Tout est cosi !  L`isolation phonique est excellente \\u00e9galement, et aucun bruit de la ville ne p\\u00e9n\\u00e8tre.    ...et une bouteille de vin ros\\u00e9 pour l`accueil !  Un lieu parfait pour d\\u00e9couvrir Lisbonne !\",\n          \"We very much enjoyed our stay in this amazing roof-top flat.  The views are amazing, and the access to the rooftop terrace is fantastic.  We stayed two nights and were able to enjoy the sunset from the terrace on our last night in Lisbon.  Coming from San Francisco, we especially appreciated the sister city similarities.  Lisbon is a wonderful city and we loved it!  We are a family of four  with 2 adult children, and loved the generous living space as well as all the very comfortable beds.  The apartment wasn`t quite ready when we arrived at 3pm, but the cleaning service arrived a couple of hours later as we were leaving to go out.  Everything was in great shape when we returned, but unfortunately there was no hot water for the first 24 hours.  They got it fixed for the remaining day of our stay and all went really well otherwise.  Good washer, great kitchen, views from every room to die for.  Wonderful neighborhood--loved being able to go up the street to very lively neighborhoods with many restaurants and the best gelato in the world at Santini!  Be sure to pick up breads and goodies at A Padaria Portuguesa also just up the hill.  Excellent!!  Super convenient to transportation--train station at the bottom of the hill across the street, including stops for Tram 28 to Alfama, etc., and also Tram 15 and buses to Belem just at the bottom of the street.  Also AeroBus stops at the bottom of the hill just across the street, so definitely the best way to get to and from the airport for great price.  You can pay on the bus.  \",\n          \"The place was clean and check-in + check-out was easy but the location on the website is not accurate and there was a bad smell in the bathroom and in the master bedroom.\"\n        ],\n        \"semantic_type\": \"\",\n        \"description\": \"\"\n      }\n    },\n    {\n      \"column\": \"Language\",\n      \"properties\": {\n        \"dtype\": \"category\",\n        \"num_unique_values\": 25,\n        \"samples\": [\n          \"__label__slv_Latn\",\n          \"__label__kor_Hang\",\n          \"__label__eng_Latn\"\n        ],\n        \"semantic_type\": \"\",\n        \"description\": \"\"\n      }\n    },\n    {\n      \"column\": \"EngTrad\",\n      \"properties\": {\n        \"dtype\": \"string\",\n        \"num_unique_values\": 11113,\n        \"samples\": [\n          \"\\\"Excellent stay with an exceptional host. A technical problem in the house resulted in excellent proactivity and dynamism from the host. A very welcoming, clean, and stylish house. A welcome pack that's a nice touch! I recommend 100%!!!!\\\"\",\n          \"\\\"Very good quality-price ratio! Perfect for a weekend!\\\"\",\n          \"\\\"Apparently superb with an exceptional view !!!\\\"\"\n        ],\n        \"semantic_type\": \"\",\n        \"description\": \"\"\n      }\n    }\n  ]\n}",
              "type": "dataframe",
              "variable_name": "data"
            },
            "text/html": [
              "\n",
              "  <div id=\"df-cdc7563c-7389-4651-b136-ee81b4a1bcc5\" class=\"colab-df-container\">\n",
              "    <div>\n",
              "<style scoped>\n",
              "    .dataframe tbody tr th:only-of-type {\n",
              "        vertical-align: middle;\n",
              "    }\n",
              "\n",
              "    .dataframe tbody tr th {\n",
              "        vertical-align: top;\n",
              "    }\n",
              "\n",
              "    .dataframe thead th {\n",
              "        text-align: right;\n",
              "    }\n",
              "</style>\n",
              "<table border=\"1\" class=\"dataframe\">\n",
              "  <thead>\n",
              "    <tr style=\"text-align: right;\">\n",
              "      <th></th>\n",
              "      <th>ReservationId</th>\n",
              "      <th>RatingValue</th>\n",
              "      <th>Comments</th>\n",
              "      <th>Language</th>\n",
              "      <th>EngTrad</th>\n",
              "    </tr>\n",
              "  </thead>\n",
              "  <tbody>\n",
              "    <tr>\n",
              "      <th>0</th>\n",
              "      <td>1.879141e+09</td>\n",
              "      <td>8.0</td>\n",
              "      <td>Very nice place, it was spacious and good loca...</td>\n",
              "      <td>__label__eng_Latn</td>\n",
              "      <td>Very nice place, it was spacious and well-loca...</td>\n",
              "    </tr>\n",
              "    <tr>\n",
              "      <th>1</th>\n",
              "      <td>1.879141e+09</td>\n",
              "      <td>8.0</td>\n",
              "      <td>Casa muito espaçosa, com ótima vista e relativ...</td>\n",
              "      <td>__label__por_Latn</td>\n",
              "      <td>\"Very spacious house, with great views and rel...</td>\n",
              "    </tr>\n",
              "    <tr>\n",
              "      <th>2</th>\n",
              "      <td>1.879139e+09</td>\n",
              "      <td>10.0</td>\n",
              "      <td>We only stayed for a few days but the place is...</td>\n",
              "      <td>__label__eng_Latn</td>\n",
              "      <td>''We only stayed for a few days but the place ...</td>\n",
              "    </tr>\n",
              "    <tr>\n",
              "      <th>3</th>\n",
              "      <td>1.879130e+09</td>\n",
              "      <td>8.0</td>\n",
              "      <td>Un sitio agradable, lo mejor la terraza y las ...</td>\n",
              "      <td>__label__spa_Latn</td>\n",
              "      <td>\"A pleasant site, the best part is the terrace...</td>\n",
              "    </tr>\n",
              "    <tr>\n",
              "      <th>4</th>\n",
              "      <td>1.879139e+09</td>\n",
              "      <td>10.0</td>\n",
              "      <td>Wonderful spacious apt, comfortable furniture,...</td>\n",
              "      <td>__label__eng_Latn</td>\n",
              "      <td>'''Wonderful spacious apt, comfortable furnitu...</td>\n",
              "    </tr>\n",
              "    <tr>\n",
              "      <th>...</th>\n",
              "      <td>...</td>\n",
              "      <td>...</td>\n",
              "      <td>...</td>\n",
              "      <td>...</td>\n",
              "      <td>...</td>\n",
              "    </tr>\n",
              "    <tr>\n",
              "      <th>1239</th>\n",
              "      <td>1.879192e+09</td>\n",
              "      <td>3.0</td>\n",
              "      <td>Infelizmente o apartamento não estava muito li...</td>\n",
              "      <td>__label__por_Latn</td>\n",
              "      <td>\"Unfortunately, the apartment was not very cle...</td>\n",
              "    </tr>\n",
              "    <tr>\n",
              "      <th>1240</th>\n",
              "      <td>1.879179e+09</td>\n",
              "      <td>5.0</td>\n",
              "      <td>Apartamento claro e limpo, muito boas instalaç...</td>\n",
              "      <td>__label__por_Latn</td>\n",
              "      <td>\"Clear and clean apartment, very good faciliti...</td>\n",
              "    </tr>\n",
              "    <tr>\n",
              "      <th>1241</th>\n",
              "      <td>1.879188e+09</td>\n",
              "      <td>2.0</td>\n",
              "      <td>o apartamento não vale o dinheiro.esta é minha...</td>\n",
              "      <td>__label__por_Latn</td>\n",
              "      <td>\"The apartment is not worth the money. This is...</td>\n",
              "    </tr>\n",
              "    <tr>\n",
              "      <th>1242</th>\n",
              "      <td>1.879179e+09</td>\n",
              "      <td>5.0</td>\n",
              "      <td>A comunicação foi muito suave, o lugar é incrí...</td>\n",
              "      <td>__label__por_Latn</td>\n",
              "      <td>\"Communication was very smooth, the place is i...</td>\n",
              "    </tr>\n",
              "    <tr>\n",
              "      <th>1243</th>\n",
              "      <td>1.879180e+09</td>\n",
              "      <td>4.0</td>\n",
              "      <td>pro: melhor localização no centro da cidade, o...</td>\n",
              "      <td>__label__por_Latn</td>\n",
              "      <td>\"Pro: best location in the city center, the ap...</td>\n",
              "    </tr>\n",
              "  </tbody>\n",
              "</table>\n",
              "<p>11244 rows × 5 columns</p>\n",
              "</div>\n",
              "    <div class=\"colab-df-buttons\">\n",
              "\n",
              "  <div class=\"colab-df-container\">\n",
              "    <button class=\"colab-df-convert\" onclick=\"convertToInteractive('df-cdc7563c-7389-4651-b136-ee81b4a1bcc5')\"\n",
              "            title=\"Convert this dataframe to an interactive table.\"\n",
              "            style=\"display:none;\">\n",
              "\n",
              "  <svg xmlns=\"http://www.w3.org/2000/svg\" height=\"24px\" viewBox=\"0 -960 960 960\">\n",
              "    <path d=\"M120-120v-720h720v720H120Zm60-500h600v-160H180v160Zm220 220h160v-160H400v160Zm0 220h160v-160H400v160ZM180-400h160v-160H180v160Zm440 0h160v-160H620v160ZM180-180h160v-160H180v160Zm440 0h160v-160H620v160Z\"/>\n",
              "  </svg>\n",
              "    </button>\n",
              "\n",
              "  <style>\n",
              "    .colab-df-container {\n",
              "      display:flex;\n",
              "      gap: 12px;\n",
              "    }\n",
              "\n",
              "    .colab-df-convert {\n",
              "      background-color: #E8F0FE;\n",
              "      border: none;\n",
              "      border-radius: 50%;\n",
              "      cursor: pointer;\n",
              "      display: none;\n",
              "      fill: #1967D2;\n",
              "      height: 32px;\n",
              "      padding: 0 0 0 0;\n",
              "      width: 32px;\n",
              "    }\n",
              "\n",
              "    .colab-df-convert:hover {\n",
              "      background-color: #E2EBFA;\n",
              "      box-shadow: 0px 1px 2px rgba(60, 64, 67, 0.3), 0px 1px 3px 1px rgba(60, 64, 67, 0.15);\n",
              "      fill: #174EA6;\n",
              "    }\n",
              "\n",
              "    .colab-df-buttons div {\n",
              "      margin-bottom: 4px;\n",
              "    }\n",
              "\n",
              "    [theme=dark] .colab-df-convert {\n",
              "      background-color: #3B4455;\n",
              "      fill: #D2E3FC;\n",
              "    }\n",
              "\n",
              "    [theme=dark] .colab-df-convert:hover {\n",
              "      background-color: #434B5C;\n",
              "      box-shadow: 0px 1px 3px 1px rgba(0, 0, 0, 0.15);\n",
              "      filter: drop-shadow(0px 1px 2px rgba(0, 0, 0, 0.3));\n",
              "      fill: #FFFFFF;\n",
              "    }\n",
              "  </style>\n",
              "\n",
              "    <script>\n",
              "      const buttonEl =\n",
              "        document.querySelector('#df-cdc7563c-7389-4651-b136-ee81b4a1bcc5 button.colab-df-convert');\n",
              "      buttonEl.style.display =\n",
              "        google.colab.kernel.accessAllowed ? 'block' : 'none';\n",
              "\n",
              "      async function convertToInteractive(key) {\n",
              "        const element = document.querySelector('#df-cdc7563c-7389-4651-b136-ee81b4a1bcc5');\n",
              "        const dataTable =\n",
              "          await google.colab.kernel.invokeFunction('convertToInteractive',\n",
              "                                                    [key], {});\n",
              "        if (!dataTable) return;\n",
              "\n",
              "        const docLinkHtml = 'Like what you see? Visit the ' +\n",
              "          '<a target=\"_blank\" href=https://colab.research.google.com/notebooks/data_table.ipynb>data table notebook</a>'\n",
              "          + ' to learn more about interactive tables.';\n",
              "        element.innerHTML = '';\n",
              "        dataTable['output_type'] = 'display_data';\n",
              "        await google.colab.output.renderOutput(dataTable, element);\n",
              "        const docLink = document.createElement('div');\n",
              "        docLink.innerHTML = docLinkHtml;\n",
              "        element.appendChild(docLink);\n",
              "      }\n",
              "    </script>\n",
              "  </div>\n",
              "\n",
              "\n",
              "<div id=\"df-aca8db8b-e123-4e3e-9a53-1628b1ae1581\">\n",
              "  <button class=\"colab-df-quickchart\" onclick=\"quickchart('df-aca8db8b-e123-4e3e-9a53-1628b1ae1581')\"\n",
              "            title=\"Suggest charts\"\n",
              "            style=\"display:none;\">\n",
              "\n",
              "<svg xmlns=\"http://www.w3.org/2000/svg\" height=\"24px\"viewBox=\"0 0 24 24\"\n",
              "     width=\"24px\">\n",
              "    <g>\n",
              "        <path d=\"M19 3H5c-1.1 0-2 .9-2 2v14c0 1.1.9 2 2 2h14c1.1 0 2-.9 2-2V5c0-1.1-.9-2-2-2zM9 17H7v-7h2v7zm4 0h-2V7h2v10zm4 0h-2v-4h2v4z\"/>\n",
              "    </g>\n",
              "</svg>\n",
              "  </button>\n",
              "\n",
              "<style>\n",
              "  .colab-df-quickchart {\n",
              "      --bg-color: #E8F0FE;\n",
              "      --fill-color: #1967D2;\n",
              "      --hover-bg-color: #E2EBFA;\n",
              "      --hover-fill-color: #174EA6;\n",
              "      --disabled-fill-color: #AAA;\n",
              "      --disabled-bg-color: #DDD;\n",
              "  }\n",
              "\n",
              "  [theme=dark] .colab-df-quickchart {\n",
              "      --bg-color: #3B4455;\n",
              "      --fill-color: #D2E3FC;\n",
              "      --hover-bg-color: #434B5C;\n",
              "      --hover-fill-color: #FFFFFF;\n",
              "      --disabled-bg-color: #3B4455;\n",
              "      --disabled-fill-color: #666;\n",
              "  }\n",
              "\n",
              "  .colab-df-quickchart {\n",
              "    background-color: var(--bg-color);\n",
              "    border: none;\n",
              "    border-radius: 50%;\n",
              "    cursor: pointer;\n",
              "    display: none;\n",
              "    fill: var(--fill-color);\n",
              "    height: 32px;\n",
              "    padding: 0;\n",
              "    width: 32px;\n",
              "  }\n",
              "\n",
              "  .colab-df-quickchart:hover {\n",
              "    background-color: var(--hover-bg-color);\n",
              "    box-shadow: 0 1px 2px rgba(60, 64, 67, 0.3), 0 1px 3px 1px rgba(60, 64, 67, 0.15);\n",
              "    fill: var(--button-hover-fill-color);\n",
              "  }\n",
              "\n",
              "  .colab-df-quickchart-complete:disabled,\n",
              "  .colab-df-quickchart-complete:disabled:hover {\n",
              "    background-color: var(--disabled-bg-color);\n",
              "    fill: var(--disabled-fill-color);\n",
              "    box-shadow: none;\n",
              "  }\n",
              "\n",
              "  .colab-df-spinner {\n",
              "    border: 2px solid var(--fill-color);\n",
              "    border-color: transparent;\n",
              "    border-bottom-color: var(--fill-color);\n",
              "    animation:\n",
              "      spin 1s steps(1) infinite;\n",
              "  }\n",
              "\n",
              "  @keyframes spin {\n",
              "    0% {\n",
              "      border-color: transparent;\n",
              "      border-bottom-color: var(--fill-color);\n",
              "      border-left-color: var(--fill-color);\n",
              "    }\n",
              "    20% {\n",
              "      border-color: transparent;\n",
              "      border-left-color: var(--fill-color);\n",
              "      border-top-color: var(--fill-color);\n",
              "    }\n",
              "    30% {\n",
              "      border-color: transparent;\n",
              "      border-left-color: var(--fill-color);\n",
              "      border-top-color: var(--fill-color);\n",
              "      border-right-color: var(--fill-color);\n",
              "    }\n",
              "    40% {\n",
              "      border-color: transparent;\n",
              "      border-right-color: var(--fill-color);\n",
              "      border-top-color: var(--fill-color);\n",
              "    }\n",
              "    60% {\n",
              "      border-color: transparent;\n",
              "      border-right-color: var(--fill-color);\n",
              "    }\n",
              "    80% {\n",
              "      border-color: transparent;\n",
              "      border-right-color: var(--fill-color);\n",
              "      border-bottom-color: var(--fill-color);\n",
              "    }\n",
              "    90% {\n",
              "      border-color: transparent;\n",
              "      border-bottom-color: var(--fill-color);\n",
              "    }\n",
              "  }\n",
              "</style>\n",
              "\n",
              "  <script>\n",
              "    async function quickchart(key) {\n",
              "      const quickchartButtonEl =\n",
              "        document.querySelector('#' + key + ' button');\n",
              "      quickchartButtonEl.disabled = true;  // To prevent multiple clicks.\n",
              "      quickchartButtonEl.classList.add('colab-df-spinner');\n",
              "      try {\n",
              "        const charts = await google.colab.kernel.invokeFunction(\n",
              "            'suggestCharts', [key], {});\n",
              "      } catch (error) {\n",
              "        console.error('Error during call to suggestCharts:', error);\n",
              "      }\n",
              "      quickchartButtonEl.classList.remove('colab-df-spinner');\n",
              "      quickchartButtonEl.classList.add('colab-df-quickchart-complete');\n",
              "    }\n",
              "    (() => {\n",
              "      let quickchartButtonEl =\n",
              "        document.querySelector('#df-aca8db8b-e123-4e3e-9a53-1628b1ae1581 button');\n",
              "      quickchartButtonEl.style.display =\n",
              "        google.colab.kernel.accessAllowed ? 'block' : 'none';\n",
              "    })();\n",
              "  </script>\n",
              "</div>\n",
              "    </div>\n",
              "  </div>\n"
            ],
            "text/plain": [
              "      ReservationId  RatingValue  \\\n",
              "0      1.879141e+09          8.0   \n",
              "1      1.879141e+09          8.0   \n",
              "2      1.879139e+09         10.0   \n",
              "3      1.879130e+09          8.0   \n",
              "4      1.879139e+09         10.0   \n",
              "...             ...          ...   \n",
              "1239   1.879192e+09          3.0   \n",
              "1240   1.879179e+09          5.0   \n",
              "1241   1.879188e+09          2.0   \n",
              "1242   1.879179e+09          5.0   \n",
              "1243   1.879180e+09          4.0   \n",
              "\n",
              "                                               Comments           Language  \\\n",
              "0     Very nice place, it was spacious and good loca...  __label__eng_Latn   \n",
              "1     Casa muito espaçosa, com ótima vista e relativ...  __label__por_Latn   \n",
              "2     We only stayed for a few days but the place is...  __label__eng_Latn   \n",
              "3     Un sitio agradable, lo mejor la terraza y las ...  __label__spa_Latn   \n",
              "4     Wonderful spacious apt, comfortable furniture,...  __label__eng_Latn   \n",
              "...                                                 ...                ...   \n",
              "1239  Infelizmente o apartamento não estava muito li...  __label__por_Latn   \n",
              "1240  Apartamento claro e limpo, muito boas instalaç...  __label__por_Latn   \n",
              "1241  o apartamento não vale o dinheiro.esta é minha...  __label__por_Latn   \n",
              "1242  A comunicação foi muito suave, o lugar é incrí...  __label__por_Latn   \n",
              "1243  pro: melhor localização no centro da cidade, o...  __label__por_Latn   \n",
              "\n",
              "                                                EngTrad  \n",
              "0     Very nice place, it was spacious and well-loca...  \n",
              "1     \"Very spacious house, with great views and rel...  \n",
              "2     ''We only stayed for a few days but the place ...  \n",
              "3     \"A pleasant site, the best part is the terrace...  \n",
              "4     '''Wonderful spacious apt, comfortable furnitu...  \n",
              "...                                                 ...  \n",
              "1239  \"Unfortunately, the apartment was not very cle...  \n",
              "1240  \"Clear and clean apartment, very good faciliti...  \n",
              "1241  \"The apartment is not worth the money. This is...  \n",
              "1242  \"Communication was very smooth, the place is i...  \n",
              "1243  \"Pro: best location in the city center, the ap...  \n",
              "\n",
              "[11244 rows x 5 columns]"
            ]
          },
          "execution_count": 38,
          "metadata": {},
          "output_type": "execute_result"
        }
      ],
      "source": [
        "data"
      ]
    },
    {
      "cell_type": "code",
      "execution_count": null,
      "metadata": {
        "id": "U-lSZiUkNBGD"
      },
      "outputs": [],
      "source": [
        "with pd.ExcelWriter('TradFinal.xlsx') as writer:\n",
        "    res.to_excel(writer, sheet_name=\"Reservas\", index=False)\n",
        "    prop.to_excel(writer, sheet_name=\"Propriedades\", index=False)\n",
        "    guests.to_excel(writer, sheet_name=\"Hóspedes\", index=False)\n",
        "    data.to_excel(writer, sheet_name=\"Reviews - geral\", index=False)\n",
        "    reviews2.to_excel(writer, sheet_name=\"Reviews - detalhe\", index=False)"
      ]
    }
  ],
  "metadata": {
    "colab": {
      "provenance": []
    },
    "kernelspec": {
      "display_name": "Python 3",
      "name": "python3"
    },
    "language_info": {
      "name": "python"
    }
  },
  "nbformat": 4,
  "nbformat_minor": 0
}