{
 "cells": [
  {
   "cell_type": "code",
   "execution_count": 86,
   "id": "adc8be49",
   "metadata": {},
   "outputs": [],
   "source": [
    "import pandas as pd\n",
    "import numpy as np\n",
    "import matplotlib.pyplot as plt\n",
    "import string\n",
    "import re\n",
    "import contractions\n",
    "import nltk\n",
    "from nltk.corpus import stopwords\n",
    "from nltk.tokenize import word_tokenize\n",
    "from nltk.stem import WordNetLemmatizer\n",
    "from textblob import TextBlob\n",
    "import stanfordnlp\n",
    "from wordcloud import WordCloud\n",
    "import matplotlib.pyplot as plt\n",
    "from PIL import Image\n",
    "from sklearn.cluster import KMeans\n",
    "from sklearn.preprocessing import LabelEncoder"
   ]
  },
  {
   "cell_type": "code",
   "execution_count": 2,
   "id": "eb3fcc7e",
   "metadata": {},
   "outputs": [],
   "source": [
    "file = \"PFACD\\\\FLH Reviews(1).xlsx\"\n",
    "\n",
    "\n",
    "\n",
    "res = pd.read_excel(file, 'Reservas')\n",
    "prop = pd.read_excel(file, 'Propriedades')\n",
    "guests = pd.read_excel(file, 'Hóspedes')\n",
    "reviews1 = pd.read_excel(file, 'Reviews - geral')\n",
    "reviews2 = pd.read_excel(file, 'Reviews - detalhe')"
   ]
  },
  {
   "cell_type": "markdown",
   "id": "01dae9ae",
   "metadata": {},
   "source": [
    "## Base de dados Reservas"
   ]
  },
  {
   "cell_type": "code",
   "execution_count": 3,
   "id": "699bfd7b",
   "metadata": {},
   "outputs": [
    {
     "data": {
      "text/html": [
       "<div>\n",
       "<style scoped>\n",
       "    .dataframe tbody tr th:only-of-type {\n",
       "        vertical-align: middle;\n",
       "    }\n",
       "\n",
       "    .dataframe tbody tr th {\n",
       "        vertical-align: top;\n",
       "    }\n",
       "\n",
       "    .dataframe thead th {\n",
       "        text-align: right;\n",
       "    }\n",
       "</style>\n",
       "<table border=\"1\" class=\"dataframe\">\n",
       "  <thead>\n",
       "    <tr style=\"text-align: right;\">\n",
       "      <th></th>\n",
       "      <th>ReservationId</th>\n",
       "      <th>PropertyId</th>\n",
       "      <th>Check_in</th>\n",
       "      <th>Check_Out</th>\n",
       "      <th>Ocupantes</th>\n",
       "      <th>Valor_Reserva</th>\n",
       "      <th>Data_reserva</th>\n",
       "    </tr>\n",
       "  </thead>\n",
       "  <tbody>\n",
       "    <tr>\n",
       "      <th>0</th>\n",
       "      <td>43464</td>\n",
       "      <td>542</td>\n",
       "      <td>2017-10-19</td>\n",
       "      <td>2017-10-22</td>\n",
       "      <td>4</td>\n",
       "      <td>241.53</td>\n",
       "      <td>2017-10-19</td>\n",
       "    </tr>\n",
       "    <tr>\n",
       "      <th>1</th>\n",
       "      <td>53670</td>\n",
       "      <td>415</td>\n",
       "      <td>2018-03-19</td>\n",
       "      <td>2018-03-22</td>\n",
       "      <td>2</td>\n",
       "      <td>151.32</td>\n",
       "      <td>2018-03-18</td>\n",
       "    </tr>\n",
       "    <tr>\n",
       "      <th>2</th>\n",
       "      <td>52032</td>\n",
       "      <td>172</td>\n",
       "      <td>2018-04-08</td>\n",
       "      <td>2018-04-12</td>\n",
       "      <td>4</td>\n",
       "      <td>263.84</td>\n",
       "      <td>2018-03-01</td>\n",
       "    </tr>\n",
       "    <tr>\n",
       "      <th>3</th>\n",
       "      <td>53437</td>\n",
       "      <td>472</td>\n",
       "      <td>2018-04-20</td>\n",
       "      <td>2018-04-23</td>\n",
       "      <td>8</td>\n",
       "      <td>1379.34</td>\n",
       "      <td>2018-03-16</td>\n",
       "    </tr>\n",
       "    <tr>\n",
       "      <th>4</th>\n",
       "      <td>49332</td>\n",
       "      <td>612</td>\n",
       "      <td>2018-05-01</td>\n",
       "      <td>2018-05-04</td>\n",
       "      <td>2</td>\n",
       "      <td>241.53</td>\n",
       "      <td>2018-01-30</td>\n",
       "    </tr>\n",
       "    <tr>\n",
       "      <th>...</th>\n",
       "      <td>...</td>\n",
       "      <td>...</td>\n",
       "      <td>...</td>\n",
       "      <td>...</td>\n",
       "      <td>...</td>\n",
       "      <td>...</td>\n",
       "      <td>...</td>\n",
       "    </tr>\n",
       "    <tr>\n",
       "      <th>9160</th>\n",
       "      <td>1879187225</td>\n",
       "      <td>675</td>\n",
       "      <td>2021-12-31</td>\n",
       "      <td>2022-01-03</td>\n",
       "      <td>4</td>\n",
       "      <td>495.00</td>\n",
       "      <td>2021-11-14</td>\n",
       "    </tr>\n",
       "    <tr>\n",
       "      <th>9161</th>\n",
       "      <td>1879178958</td>\n",
       "      <td>1800</td>\n",
       "      <td>2021-12-26</td>\n",
       "      <td>2022-01-07</td>\n",
       "      <td>2</td>\n",
       "      <td>1260.00</td>\n",
       "      <td>2021-10-03</td>\n",
       "    </tr>\n",
       "    <tr>\n",
       "      <th>9162</th>\n",
       "      <td>1879178889</td>\n",
       "      <td>1075</td>\n",
       "      <td>2021-12-28</td>\n",
       "      <td>2022-01-05</td>\n",
       "      <td>2</td>\n",
       "      <td>1984.00</td>\n",
       "      <td>2021-10-02</td>\n",
       "    </tr>\n",
       "    <tr>\n",
       "      <th>9163</th>\n",
       "      <td>1879183798</td>\n",
       "      <td>353</td>\n",
       "      <td>2021-12-28</td>\n",
       "      <td>2022-01-02</td>\n",
       "      <td>1</td>\n",
       "      <td>537.00</td>\n",
       "      <td>2021-10-25</td>\n",
       "    </tr>\n",
       "    <tr>\n",
       "      <th>9164</th>\n",
       "      <td>1879190591</td>\n",
       "      <td>318</td>\n",
       "      <td>2021-12-22</td>\n",
       "      <td>2021-12-30</td>\n",
       "      <td>2</td>\n",
       "      <td>724.00</td>\n",
       "      <td>2021-12-08</td>\n",
       "    </tr>\n",
       "  </tbody>\n",
       "</table>\n",
       "<p>9165 rows × 7 columns</p>\n",
       "</div>"
      ],
      "text/plain": [
       "      ReservationId  PropertyId   Check_in  Check_Out  Ocupantes  \\\n",
       "0             43464         542 2017-10-19 2017-10-22          4   \n",
       "1             53670         415 2018-03-19 2018-03-22          2   \n",
       "2             52032         172 2018-04-08 2018-04-12          4   \n",
       "3             53437         472 2018-04-20 2018-04-23          8   \n",
       "4             49332         612 2018-05-01 2018-05-04          2   \n",
       "...             ...         ...        ...        ...        ...   \n",
       "9160     1879187225         675 2021-12-31 2022-01-03          4   \n",
       "9161     1879178958        1800 2021-12-26 2022-01-07          2   \n",
       "9162     1879178889        1075 2021-12-28 2022-01-05          2   \n",
       "9163     1879183798         353 2021-12-28 2022-01-02          1   \n",
       "9164     1879190591         318 2021-12-22 2021-12-30          2   \n",
       "\n",
       "      Valor_Reserva Data_reserva  \n",
       "0            241.53   2017-10-19  \n",
       "1            151.32   2018-03-18  \n",
       "2            263.84   2018-03-01  \n",
       "3           1379.34   2018-03-16  \n",
       "4            241.53   2018-01-30  \n",
       "...             ...          ...  \n",
       "9160         495.00   2021-11-14  \n",
       "9161        1260.00   2021-10-03  \n",
       "9162        1984.00   2021-10-02  \n",
       "9163         537.00   2021-10-25  \n",
       "9164         724.00   2021-12-08  \n",
       "\n",
       "[9165 rows x 7 columns]"
      ]
     },
     "execution_count": 3,
     "metadata": {},
     "output_type": "execute_result"
    }
   ],
   "source": [
    "res"
   ]
  },
  {
   "cell_type": "code",
   "execution_count": 4,
   "id": "f8f58012",
   "metadata": {},
   "outputs": [
    {
     "data": {
      "text/plain": [
       "ReservationId             int64\n",
       "PropertyId                int64\n",
       "Check_in         datetime64[ns]\n",
       "Check_Out        datetime64[ns]\n",
       "Ocupantes                 int64\n",
       "Valor_Reserva           float64\n",
       "Data_reserva     datetime64[ns]\n",
       "dtype: object"
      ]
     },
     "execution_count": 4,
     "metadata": {},
     "output_type": "execute_result"
    }
   ],
   "source": [
    "res.dtypes"
   ]
  },
  {
   "cell_type": "code",
   "execution_count": 5,
   "id": "6f16cad6",
   "metadata": {},
   "outputs": [
    {
     "data": {
      "text/plain": [
       "array([     43464,      53670,      52032, ..., 1879178889, 1879183798,\n",
       "       1879190591], dtype=int64)"
      ]
     },
     "execution_count": 5,
     "metadata": {},
     "output_type": "execute_result"
    }
   ],
   "source": [
    "res['ReservationId'].unique()"
   ]
  },
  {
   "cell_type": "code",
   "execution_count": 6,
   "id": "bfb980cc",
   "metadata": {},
   "outputs": [
    {
     "data": {
      "text/plain": [
       "1812017394    3\n",
       "1879180443    2\n",
       "1879170618    2\n",
       "1879181917    2\n",
       "1879184045    2\n",
       "             ..\n",
       "1812024378    1\n",
       "1812014896    1\n",
       "77109         1\n",
       "1812020996    1\n",
       "1879190591    1\n",
       "Name: ReservationId, Length: 9066, dtype: int64"
      ]
     },
     "execution_count": 6,
     "metadata": {},
     "output_type": "execute_result"
    }
   ],
   "source": [
    "res['ReservationId'].value_counts()"
   ]
  },
  {
   "cell_type": "code",
   "execution_count": 7,
   "id": "c4c1a712",
   "metadata": {},
   "outputs": [
    {
     "data": {
      "text/html": [
       "<div>\n",
       "<style scoped>\n",
       "    .dataframe tbody tr th:only-of-type {\n",
       "        vertical-align: middle;\n",
       "    }\n",
       "\n",
       "    .dataframe tbody tr th {\n",
       "        vertical-align: top;\n",
       "    }\n",
       "\n",
       "    .dataframe thead th {\n",
       "        text-align: right;\n",
       "    }\n",
       "</style>\n",
       "<table border=\"1\" class=\"dataframe\">\n",
       "  <thead>\n",
       "    <tr style=\"text-align: right;\">\n",
       "      <th></th>\n",
       "      <th>ReservationId</th>\n",
       "      <th>PropertyId</th>\n",
       "      <th>Check_in</th>\n",
       "      <th>Check_Out</th>\n",
       "      <th>Ocupantes</th>\n",
       "      <th>Valor_Reserva</th>\n",
       "      <th>Data_reserva</th>\n",
       "    </tr>\n",
       "  </thead>\n",
       "  <tbody>\n",
       "    <tr>\n",
       "      <th>4557</th>\n",
       "      <td>1812017394</td>\n",
       "      <td>468</td>\n",
       "      <td>2019-10-13</td>\n",
       "      <td>2019-10-18</td>\n",
       "      <td>4</td>\n",
       "      <td>389.69</td>\n",
       "      <td>2019-04-07</td>\n",
       "    </tr>\n",
       "    <tr>\n",
       "      <th>4558</th>\n",
       "      <td>1812017394</td>\n",
       "      <td>468</td>\n",
       "      <td>2019-10-13</td>\n",
       "      <td>2019-10-18</td>\n",
       "      <td>4</td>\n",
       "      <td>389.69</td>\n",
       "      <td>2019-04-07</td>\n",
       "    </tr>\n",
       "    <tr>\n",
       "      <th>4559</th>\n",
       "      <td>1812017394</td>\n",
       "      <td>468</td>\n",
       "      <td>2019-10-13</td>\n",
       "      <td>2019-10-18</td>\n",
       "      <td>4</td>\n",
       "      <td>389.69</td>\n",
       "      <td>2019-04-07</td>\n",
       "    </tr>\n",
       "    <tr>\n",
       "      <th>4567</th>\n",
       "      <td>1812037972</td>\n",
       "      <td>706</td>\n",
       "      <td>2019-10-15</td>\n",
       "      <td>2019-10-18</td>\n",
       "      <td>3</td>\n",
       "      <td>186.00</td>\n",
       "      <td>2019-10-06</td>\n",
       "    </tr>\n",
       "    <tr>\n",
       "      <th>4568</th>\n",
       "      <td>1812037972</td>\n",
       "      <td>706</td>\n",
       "      <td>2019-10-15</td>\n",
       "      <td>2019-10-18</td>\n",
       "      <td>3</td>\n",
       "      <td>186.00</td>\n",
       "      <td>2019-10-06</td>\n",
       "    </tr>\n",
       "    <tr>\n",
       "      <th>...</th>\n",
       "      <td>...</td>\n",
       "      <td>...</td>\n",
       "      <td>...</td>\n",
       "      <td>...</td>\n",
       "      <td>...</td>\n",
       "      <td>...</td>\n",
       "      <td>...</td>\n",
       "    </tr>\n",
       "    <tr>\n",
       "      <th>8947</th>\n",
       "      <td>1879185383</td>\n",
       "      <td>229</td>\n",
       "      <td>2021-11-30</td>\n",
       "      <td>2021-12-02</td>\n",
       "      <td>6</td>\n",
       "      <td>442.00</td>\n",
       "      <td>2021-11-04</td>\n",
       "    </tr>\n",
       "    <tr>\n",
       "      <th>8960</th>\n",
       "      <td>1879176775</td>\n",
       "      <td>431</td>\n",
       "      <td>2021-12-03</td>\n",
       "      <td>2021-12-08</td>\n",
       "      <td>4</td>\n",
       "      <td>255.00</td>\n",
       "      <td>2021-09-21</td>\n",
       "    </tr>\n",
       "    <tr>\n",
       "      <th>8961</th>\n",
       "      <td>1879176775</td>\n",
       "      <td>431</td>\n",
       "      <td>2021-12-03</td>\n",
       "      <td>2021-12-08</td>\n",
       "      <td>4</td>\n",
       "      <td>255.00</td>\n",
       "      <td>2021-09-21</td>\n",
       "    </tr>\n",
       "    <tr>\n",
       "      <th>8987</th>\n",
       "      <td>1879179705</td>\n",
       "      <td>1017</td>\n",
       "      <td>2021-12-06</td>\n",
       "      <td>2021-12-08</td>\n",
       "      <td>2</td>\n",
       "      <td>112.20</td>\n",
       "      <td>2021-10-06</td>\n",
       "    </tr>\n",
       "    <tr>\n",
       "      <th>8988</th>\n",
       "      <td>1879179705</td>\n",
       "      <td>1017</td>\n",
       "      <td>2021-12-06</td>\n",
       "      <td>2021-12-08</td>\n",
       "      <td>2</td>\n",
       "      <td>112.20</td>\n",
       "      <td>2021-10-06</td>\n",
       "    </tr>\n",
       "  </tbody>\n",
       "</table>\n",
       "<p>197 rows × 7 columns</p>\n",
       "</div>"
      ],
      "text/plain": [
       "      ReservationId  PropertyId   Check_in  Check_Out  Ocupantes  \\\n",
       "4557     1812017394         468 2019-10-13 2019-10-18          4   \n",
       "4558     1812017394         468 2019-10-13 2019-10-18          4   \n",
       "4559     1812017394         468 2019-10-13 2019-10-18          4   \n",
       "4567     1812037972         706 2019-10-15 2019-10-18          3   \n",
       "4568     1812037972         706 2019-10-15 2019-10-18          3   \n",
       "...             ...         ...        ...        ...        ...   \n",
       "8947     1879185383         229 2021-11-30 2021-12-02          6   \n",
       "8960     1879176775         431 2021-12-03 2021-12-08          4   \n",
       "8961     1879176775         431 2021-12-03 2021-12-08          4   \n",
       "8987     1879179705        1017 2021-12-06 2021-12-08          2   \n",
       "8988     1879179705        1017 2021-12-06 2021-12-08          2   \n",
       "\n",
       "      Valor_Reserva Data_reserva  \n",
       "4557         389.69   2019-04-07  \n",
       "4558         389.69   2019-04-07  \n",
       "4559         389.69   2019-04-07  \n",
       "4567         186.00   2019-10-06  \n",
       "4568         186.00   2019-10-06  \n",
       "...             ...          ...  \n",
       "8947         442.00   2021-11-04  \n",
       "8960         255.00   2021-09-21  \n",
       "8961         255.00   2021-09-21  \n",
       "8987         112.20   2021-10-06  \n",
       "8988         112.20   2021-10-06  \n",
       "\n",
       "[197 rows x 7 columns]"
      ]
     },
     "execution_count": 7,
     "metadata": {},
     "output_type": "execute_result"
    }
   ],
   "source": [
    "duplicated_rows = res[res['ReservationId'].duplicated(keep=False)]\n",
    "duplicated_rows"
   ]
  },
  {
   "cell_type": "code",
   "execution_count": 8,
   "id": "0f264ff6",
   "metadata": {},
   "outputs": [],
   "source": [
    "all_columns_duplicated = duplicated_rows[duplicated_rows.duplicated(keep=False)]"
   ]
  },
  {
   "cell_type": "code",
   "execution_count": 9,
   "id": "a62e8e1c",
   "metadata": {},
   "outputs": [
    {
     "data": {
      "text/plain": [
       "(197, 7)"
      ]
     },
     "execution_count": 9,
     "metadata": {},
     "output_type": "execute_result"
    }
   ],
   "source": [
    "duplicated_rows.shape"
   ]
  },
  {
   "cell_type": "code",
   "execution_count": 10,
   "id": "66d0ff37",
   "metadata": {},
   "outputs": [
    {
     "data": {
      "text/plain": [
       "(197, 7)"
      ]
     },
     "execution_count": 10,
     "metadata": {},
     "output_type": "execute_result"
    }
   ],
   "source": [
    "all_columns_duplicated.shape"
   ]
  },
  {
   "cell_type": "markdown",
   "id": "3a829f29",
   "metadata": {},
   "source": [
    "Acabamos de provar que a linhas com ReservationId repetido são a mesma reserva repetida , por isso podemos apagar as repetidas"
   ]
  },
  {
   "cell_type": "code",
   "execution_count": 11,
   "id": "abdf7ced",
   "metadata": {},
   "outputs": [],
   "source": [
    "res = res.drop_duplicates(subset='ReservationId', keep=False)"
   ]
  },
  {
   "cell_type": "code",
   "execution_count": 12,
   "id": "4232f3ba",
   "metadata": {},
   "outputs": [
    {
     "data": {
      "text/plain": [
       "array([ 542,  415,  172,  472,  612,  674,  220,  473,  605,  511,  409,\n",
       "        632,  232,  618,  209,  654,  316,  263,  615,  650,  338,  659,\n",
       "        672,  670,  538,  505,  377,  260,  300,  431,  652,  329,  426,\n",
       "        588,  369,  589,  239,  238,  210,  339,  643,  584,  421,  331,\n",
       "        598,  641,  668,  622,  446,  575,  467,  251,  526,  164,  381,\n",
       "        457,  183,  271,  287,  620,  367,  560,    1,  351,  308,  310,\n",
       "        254,  422,  376,  524,  662,  657,  568,  214,  291,  629,  246,\n",
       "        299,  617,  566,  311,  352,  384,  604,  613,  414,  258,  474,\n",
       "        500,  480,  460,  285,  531,  213,  534,  318,  482,  462,  425,\n",
       "         19,  353,  569,  709,  509,  562,  608,  229,  468,  423,  184,\n",
       "        161,  470,  691,  522,   79,  548,  335,  182,  448,  510,  349,\n",
       "        597,  413,   55,  675,  504,  561,  479,  680,  185,  714,  545,\n",
       "        701,  638,  334,  190,  195,  200,  286,  700,  278,  128,  385,\n",
       "        189,  332,  708,  497,  159,  490,  587,  461,  380,   40,  558,\n",
       "        546,  275,  429,  465,  671,  703,  451,  705,  623,  404,  689,\n",
       "        499,  520,  536,  379,  666,  494,  217,  624,  681,  626,  252,\n",
       "        731,  514,  601,  417,  469,  187,  290,  715,  686,  571,  699,\n",
       "        669,  179,  696,  664,  634,  724,  718,  713,  648,  728,  711,\n",
       "        631,  315,  692,  684,  364,  391,  630,  646,  673,  722,  399,\n",
       "        543,  742,  481,  485,  739,  582,  599,  401,   86,  723,  586,\n",
       "        702,  212,  730,  717,  645,  281,  488,  525,  611,  283,  678,\n",
       "        518,  660,  387,  540,  366,  444,  720,  656,  698,  396,  685,\n",
       "        392,  375,  743,  736,  746,  747,  237,  243,  374,  616,  706,\n",
       "        507,  555,  757,  745,  309,  227,  216,  226,  382,  471,  502,\n",
       "        735,  199,  557,  150,  567,  640,   20,  744,  667,  688,  756,\n",
       "        748,  750,  760,  535,  752,  256,  235,  741,  773,  785,  322,\n",
       "        327,  578,  755,  215,   14,  231,  274,  762,  734,  694,  131,\n",
       "        430,  754,  710,  784,  787,  768,  178,  776,  279,  704,  763,\n",
       "        774,  572,  244,  280,  219,  636,  767,  758,  777,  228,  874,\n",
       "        862,  863,  870,  272,  770,  788,  879,  796,  878,  330,  533,\n",
       "        881,  753,  712,  176,   27,  880,  192,  236,  596,  100,  860,\n",
       "        253,  476,  693,  792,  859,  858,  324,  529,  719,  856,  234,\n",
       "        857,  383,  892,  365,  794,  887,  577,  559,  313,  917,  519,\n",
       "        783,  882,  884,  932,  899,  891,  928,  912,  898,  876,  871,\n",
       "        890,  725,  916,  323,  449,  941,  908,  411,  895,  766,  579,\n",
       "         73,  937,  336,  955,  915,  938,  780,  920,  919,  902,  886,\n",
       "        961,  960,  940,  653,  965,  926,  911,  962,  957,  412,  726,\n",
       "        259,  973,  953,  970,  980,  877,  875,  995,  993,  929,  992,\n",
       "        405,  649,  580,  931,   61,  602,  637,  947,  944,  913,  983,\n",
       "        994,  999,  927,  971,  939,  934,  906,  639, 1002,  984,  661,\n",
       "        889, 1008,  968,  989,  697,  963, 1001,  443, 1023,  625,  966,\n",
       "        924, 1000,  873,  925, 1062, 1020,  985,  990, 1030, 1012,  948,\n",
       "       1027, 1009,  956, 1070,  903, 1018,  943, 1028, 1068, 1016, 1024,\n",
       "        255,  738,  885,  528,  343, 1026,  466, 1066, 1013,  769, 1079,\n",
       "        976, 1083, 1084, 1017,  751, 1078, 1080,  198, 1077,  991, 1086,\n",
       "        959, 1195,  977, 1067, 1069, 1196,  478, 1022, 1190, 1081,  900,\n",
       "       1186, 1208, 1185, 1180, 1181, 1211, 1065, 1179, 1524, 1082, 1207,\n",
       "       1214,  865, 1548, 1532, 1554,  153, 1019, 1511, 1177, 1525,   56,\n",
       "       1549, 1212, 1210, 1510, 1552, 1209, 1183, 1546, 1512,  933, 1202,\n",
       "       1536, 1577, 1193, 1188,  454, 1607,  996, 1605, 1618, 1182,  721,\n",
       "       1076, 1626, 1611, 1623, 1545, 1558,  101, 1075, 1528, 1628, 1648,\n",
       "       1641,  593, 1206,  248,   26, 1194, 1603, 1565, 1191, 1085, 1575,\n",
       "       1527, 1608, 1526, 1657, 1632, 1617,  590, 1074, 1633, 1602, 1650,\n",
       "        337, 1538, 1551, 1647, 1645, 1513, 1658, 1609, 1679, 1530, 1671,\n",
       "       1631, 1680, 1540, 1073,   75,  772, 1184, 1676, 1576, 1681, 1640,\n",
       "       1642, 1672, 1539, 1543, 1523,  967, 1192, 1537, 1646, 1678, 1556,\n",
       "       1675, 1673, 1754, 1514, 1610, 1798, 1683, 1601, 1795,  196, 1800,\n",
       "        188, 1789, 1619, 1522,  197, 1794, 1799, 1029,   17,  221,  138,\n",
       "        936, 1614,  797, 1604, 1574, 1791, 1808, 1600], dtype=int64)"
      ]
     },
     "execution_count": 12,
     "metadata": {},
     "output_type": "execute_result"
    }
   ],
   "source": [
    "res['PropertyId'].unique()"
   ]
  },
  {
   "cell_type": "code",
   "execution_count": 13,
   "id": "5ee757d5",
   "metadata": {},
   "outputs": [
    {
     "data": {
      "text/plain": [
       "263     84\n",
       "511     84\n",
       "692     83\n",
       "736     80\n",
       "229     73\n",
       "        ..\n",
       "236      1\n",
       "870      1\n",
       "862      1\n",
       "231      1\n",
       "1600     1\n",
       "Name: PropertyId, Length: 646, dtype: int64"
      ]
     },
     "execution_count": 13,
     "metadata": {},
     "output_type": "execute_result"
    }
   ],
   "source": [
    "res['PropertyId'].value_counts()"
   ]
  },
  {
   "cell_type": "code",
   "execution_count": 14,
   "id": "1dbb2c18",
   "metadata": {},
   "outputs": [
    {
     "data": {
      "text/plain": [
       "array(['2017-10-19T00:00:00.000000000', '2018-03-19T00:00:00.000000000',\n",
       "       '2018-04-08T00:00:00.000000000', ...,\n",
       "       '2021-12-29T00:00:00.000000000', '2021-12-30T00:00:00.000000000',\n",
       "       '2021-12-31T00:00:00.000000000'], dtype='datetime64[ns]')"
      ]
     },
     "execution_count": 14,
     "metadata": {},
     "output_type": "execute_result"
    }
   ],
   "source": [
    "res['Check_in'].unique()"
   ]
  },
  {
   "cell_type": "code",
   "execution_count": 15,
   "id": "fb3d37e0",
   "metadata": {},
   "outputs": [
    {
     "data": {
      "text/plain": [
       "2019-11-29    33\n",
       "2021-10-01    31\n",
       "2019-02-08    29\n",
       "2020-02-07    28\n",
       "2019-11-15    28\n",
       "              ..\n",
       "2020-10-15     1\n",
       "2020-10-13     1\n",
       "2020-10-11     1\n",
       "2020-10-07     1\n",
       "2017-10-19     1\n",
       "Name: Check_in, Length: 1100, dtype: int64"
      ]
     },
     "execution_count": 15,
     "metadata": {},
     "output_type": "execute_result"
    }
   ],
   "source": [
    "res['Check_in'].value_counts()"
   ]
  },
  {
   "cell_type": "code",
   "execution_count": 16,
   "id": "2d97f607",
   "metadata": {},
   "outputs": [
    {
     "data": {
      "text/plain": [
       "array(['2017-10-22T00:00:00.000000000', '2018-03-22T00:00:00.000000000',\n",
       "       '2018-04-12T00:00:00.000000000', ...,\n",
       "       '2022-01-07T00:00:00.000000000', '2022-01-06T00:00:00.000000000',\n",
       "       '2022-01-05T00:00:00.000000000'], dtype='datetime64[ns]')"
      ]
     },
     "execution_count": 16,
     "metadata": {},
     "output_type": "execute_result"
    }
   ],
   "source": [
    "res['Check_Out'].unique()"
   ]
  },
  {
   "cell_type": "code",
   "execution_count": 17,
   "id": "ea7d7803",
   "metadata": {},
   "outputs": [
    {
     "data": {
      "text/plain": [
       "2020-02-24    31\n",
       "2021-11-14    30\n",
       "2021-11-21    30\n",
       "2021-11-28    28\n",
       "2020-02-16    28\n",
       "              ..\n",
       "2020-12-28     1\n",
       "2020-12-30     1\n",
       "2020-12-29     1\n",
       "2020-12-22     1\n",
       "2022-01-05     1\n",
       "Name: Check_Out, Length: 1115, dtype: int64"
      ]
     },
     "execution_count": 17,
     "metadata": {},
     "output_type": "execute_result"
    }
   ],
   "source": [
    "res['Check_Out'].value_counts()"
   ]
  },
  {
   "cell_type": "code",
   "execution_count": 18,
   "id": "8e791ff4",
   "metadata": {},
   "outputs": [
    {
     "data": {
      "text/plain": [
       "array([ 4,  2,  8,  6,  3,  5,  7,  1, 10,  9, 12,  0], dtype=int64)"
      ]
     },
     "execution_count": 18,
     "metadata": {},
     "output_type": "execute_result"
    }
   ],
   "source": [
    "res['Ocupantes'].unique()"
   ]
  },
  {
   "cell_type": "code",
   "execution_count": 19,
   "id": "98267d3e",
   "metadata": {},
   "outputs": [
    {
     "data": {
      "text/plain": [
       "2     2566\n",
       "4     2528\n",
       "3     1778\n",
       "5      658\n",
       "6      652\n",
       "1      468\n",
       "7      150\n",
       "8      113\n",
       "9       26\n",
       "10      16\n",
       "0       10\n",
       "12       3\n",
       "Name: Ocupantes, dtype: int64"
      ]
     },
     "execution_count": 19,
     "metadata": {},
     "output_type": "execute_result"
    }
   ],
   "source": [
    "res['Ocupantes'].value_counts()"
   ]
  },
  {
   "cell_type": "code",
   "execution_count": 20,
   "id": "d4117986",
   "metadata": {},
   "outputs": [],
   "source": [
    "for index, row in res[res['Ocupantes'] == 0].iterrows():\n",
    "    reservation_id_count = guests[guests['ReservationId'] == row['ReservationId']].shape[0]\n",
    "    res.at[index, 'Ocupantes'] = reservation_id_count"
   ]
  },
  {
   "cell_type": "code",
   "execution_count": 21,
   "id": "c11dcc44",
   "metadata": {},
   "outputs": [
    {
     "data": {
      "text/plain": [
       "2     2566\n",
       "4     2528\n",
       "3     1778\n",
       "5      658\n",
       "6      652\n",
       "1      478\n",
       "7      150\n",
       "8      113\n",
       "9       26\n",
       "10      16\n",
       "12       3\n",
       "Name: Ocupantes, dtype: int64"
      ]
     },
     "execution_count": 21,
     "metadata": {},
     "output_type": "execute_result"
    }
   ],
   "source": [
    "res['Ocupantes'].value_counts()"
   ]
  },
  {
   "cell_type": "code",
   "execution_count": 22,
   "id": "541fbd3b",
   "metadata": {},
   "outputs": [
    {
     "data": {
      "text/plain": [
       "array([ 241.53,  151.32,  263.84, ...,  756.  , 1260.  ,  724.  ])"
      ]
     },
     "execution_count": 22,
     "metadata": {},
     "output_type": "execute_result"
    }
   ],
   "source": [
    "res['Valor_Reserva'].unique()"
   ]
  },
  {
   "cell_type": "code",
   "execution_count": 23,
   "id": "72d4915c",
   "metadata": {},
   "outputs": [
    {
     "data": {
      "text/plain": [
       "156.00    146\n",
       "186.00    104\n",
       "104.00    101\n",
       "146.00     94\n",
       "166.00     94\n",
       "         ... \n",
       "513.40      1\n",
       "894.00      1\n",
       "459.79      1\n",
       "719.59      1\n",
       "724.00      1\n",
       "Name: Valor_Reserva, Length: 1817, dtype: int64"
      ]
     },
     "execution_count": 23,
     "metadata": {},
     "output_type": "execute_result"
    }
   ],
   "source": [
    "res['Valor_Reserva'].value_counts()"
   ]
  },
  {
   "cell_type": "code",
   "execution_count": 24,
   "id": "d930ad87",
   "metadata": {},
   "outputs": [
    {
     "data": {
      "text/plain": [
       "array(['2017-10-19T00:00:00.000000000', '2018-03-18T00:00:00.000000000',\n",
       "       '2018-03-01T00:00:00.000000000', ...,\n",
       "       '2021-12-27T00:00:00.000000000', '2021-12-29T00:00:00.000000000',\n",
       "       '2021-12-28T00:00:00.000000000'], dtype='datetime64[ns]')"
      ]
     },
     "execution_count": 24,
     "metadata": {},
     "output_type": "execute_result"
    }
   ],
   "source": [
    "res['Data_reserva'].unique()"
   ]
  },
  {
   "cell_type": "code",
   "execution_count": 25,
   "id": "d949bc6a",
   "metadata": {},
   "outputs": [
    {
     "data": {
      "text/plain": [
       "2021-08-31    28\n",
       "2021-09-12    25\n",
       "2021-09-05    25\n",
       "2019-06-09    25\n",
       "2021-10-12    25\n",
       "              ..\n",
       "2020-12-01     1\n",
       "2020-11-26     1\n",
       "2020-11-16     1\n",
       "2020-11-07     1\n",
       "2021-12-28     1\n",
       "Name: Data_reserva, Length: 1288, dtype: int64"
      ]
     },
     "execution_count": 25,
     "metadata": {},
     "output_type": "execute_result"
    }
   ],
   "source": [
    "res['Data_reserva'].value_counts()"
   ]
  },
  {
   "cell_type": "code",
   "execution_count": 26,
   "id": "49ab4abb",
   "metadata": {},
   "outputs": [
    {
     "data": {
      "text/plain": [
       "ReservationId    0\n",
       "PropertyId       0\n",
       "Check_in         0\n",
       "Check_Out        0\n",
       "Ocupantes        0\n",
       "Valor_Reserva    0\n",
       "Data_reserva     3\n",
       "dtype: int64"
      ]
     },
     "execution_count": 26,
     "metadata": {},
     "output_type": "execute_result"
    }
   ],
   "source": [
    "res.isna().sum()"
   ]
  },
  {
   "cell_type": "code",
   "execution_count": 27,
   "id": "68cecd37",
   "metadata": {},
   "outputs": [
    {
     "name": "stderr",
     "output_type": "stream",
     "text": [
      "C:\\Users\\asus\\AppData\\Local\\Temp\\ipykernel_23096\\2859934351.py:1: SettingWithCopyWarning: \n",
      "A value is trying to be set on a copy of a slice from a DataFrame\n",
      "\n",
      "See the caveats in the documentation: https://pandas.pydata.org/pandas-docs/stable/user_guide/indexing.html#returning-a-view-versus-a-copy\n",
      "  res.dropna(inplace=True)\n"
     ]
    }
   ],
   "source": [
    "res.dropna(inplace=True)\n",
    "#Como são apenas 3 valores omissos vamos apagar"
   ]
  },
  {
   "cell_type": "markdown",
   "id": "5f24fa38",
   "metadata": {},
   "source": [
    "## Base de dados Propriedades"
   ]
  },
  {
   "cell_type": "code",
   "execution_count": 28,
   "id": "624a7276",
   "metadata": {},
   "outputs": [
    {
     "data": {
      "text/html": [
       "<div>\n",
       "<style scoped>\n",
       "    .dataframe tbody tr th:only-of-type {\n",
       "        vertical-align: middle;\n",
       "    }\n",
       "\n",
       "    .dataframe tbody tr th {\n",
       "        vertical-align: top;\n",
       "    }\n",
       "\n",
       "    .dataframe thead th {\n",
       "        text-align: right;\n",
       "    }\n",
       "</style>\n",
       "<table border=\"1\" class=\"dataframe\">\n",
       "  <thead>\n",
       "    <tr style=\"text-align: right;\">\n",
       "      <th></th>\n",
       "      <th>PropertyId</th>\n",
       "      <th>Região</th>\n",
       "      <th>Cidade</th>\n",
       "      <th>Bairro</th>\n",
       "      <th>Inativo</th>\n",
       "      <th>Data_Inicio</th>\n",
       "      <th>Data_Inativo</th>\n",
       "      <th>ArCondicionado</th>\n",
       "      <th>MaqLoica</th>\n",
       "      <th>MaqRoupa</th>\n",
       "      <th>Elevador</th>\n",
       "      <th>Andar</th>\n",
       "      <th>Tipologia</th>\n",
       "    </tr>\n",
       "  </thead>\n",
       "  <tbody>\n",
       "    <tr>\n",
       "      <th>0</th>\n",
       "      <td>1</td>\n",
       "      <td>Lisboa</td>\n",
       "      <td>Lisboa</td>\n",
       "      <td>Santa Catarina</td>\n",
       "      <td>0</td>\n",
       "      <td>2014-08-05 00:00:00.000</td>\n",
       "      <td>NaT</td>\n",
       "      <td>1</td>\n",
       "      <td>1</td>\n",
       "      <td>1</td>\n",
       "      <td>0.0</td>\n",
       "      <td>R/C</td>\n",
       "      <td>T2</td>\n",
       "    </tr>\n",
       "    <tr>\n",
       "      <th>1</th>\n",
       "      <td>2</td>\n",
       "      <td>Lisboa</td>\n",
       "      <td>Lisboa</td>\n",
       "      <td>NaN</td>\n",
       "      <td>1</td>\n",
       "      <td>2014-03-18 00:00:00.000</td>\n",
       "      <td>NaT</td>\n",
       "      <td>0</td>\n",
       "      <td>0</td>\n",
       "      <td>0</td>\n",
       "      <td>NaN</td>\n",
       "      <td>NaN</td>\n",
       "      <td>NaN</td>\n",
       "    </tr>\n",
       "    <tr>\n",
       "      <th>2</th>\n",
       "      <td>3</td>\n",
       "      <td>Lisboa</td>\n",
       "      <td>Lisboa</td>\n",
       "      <td>NaN</td>\n",
       "      <td>1</td>\n",
       "      <td>2013-10-22 00:00:00.000</td>\n",
       "      <td>NaT</td>\n",
       "      <td>0</td>\n",
       "      <td>0</td>\n",
       "      <td>0</td>\n",
       "      <td>NaN</td>\n",
       "      <td>NaN</td>\n",
       "      <td>NaN</td>\n",
       "    </tr>\n",
       "    <tr>\n",
       "      <th>3</th>\n",
       "      <td>4</td>\n",
       "      <td>Lisboa</td>\n",
       "      <td>Lisboa</td>\n",
       "      <td>S. Bento</td>\n",
       "      <td>1</td>\n",
       "      <td>2013-11-28 00:00:00.000</td>\n",
       "      <td>NaT</td>\n",
       "      <td>0</td>\n",
       "      <td>1</td>\n",
       "      <td>1</td>\n",
       "      <td>NaN</td>\n",
       "      <td>3º</td>\n",
       "      <td>T1</td>\n",
       "    </tr>\n",
       "    <tr>\n",
       "      <th>4</th>\n",
       "      <td>5</td>\n",
       "      <td>Lisboa</td>\n",
       "      <td>Lisboa</td>\n",
       "      <td>NaN</td>\n",
       "      <td>1</td>\n",
       "      <td>2013-11-12 00:00:00.000</td>\n",
       "      <td>NaT</td>\n",
       "      <td>0</td>\n",
       "      <td>0</td>\n",
       "      <td>0</td>\n",
       "      <td>NaN</td>\n",
       "      <td>NaN</td>\n",
       "      <td>NaN</td>\n",
       "    </tr>\n",
       "    <tr>\n",
       "      <th>...</th>\n",
       "      <td>...</td>\n",
       "      <td>...</td>\n",
       "      <td>...</td>\n",
       "      <td>...</td>\n",
       "      <td>...</td>\n",
       "      <td>...</td>\n",
       "      <td>...</td>\n",
       "      <td>...</td>\n",
       "      <td>...</td>\n",
       "      <td>...</td>\n",
       "      <td>...</td>\n",
       "      <td>...</td>\n",
       "      <td>...</td>\n",
       "    </tr>\n",
       "    <tr>\n",
       "      <th>1068</th>\n",
       "      <td>1796</td>\n",
       "      <td>Madeira</td>\n",
       "      <td>Funchal</td>\n",
       "      <td>NaN</td>\n",
       "      <td>0</td>\n",
       "      <td>2021-09-11 10:00:27.669</td>\n",
       "      <td>NaT</td>\n",
       "      <td>1</td>\n",
       "      <td>1</td>\n",
       "      <td>1</td>\n",
       "      <td>1.0</td>\n",
       "      <td>Piso 2</td>\n",
       "      <td>T0</td>\n",
       "    </tr>\n",
       "    <tr>\n",
       "      <th>1069</th>\n",
       "      <td>1797</td>\n",
       "      <td>Madeira</td>\n",
       "      <td>Funchal</td>\n",
       "      <td>NaN</td>\n",
       "      <td>0</td>\n",
       "      <td>2021-09-11 10:07:16.867</td>\n",
       "      <td>NaT</td>\n",
       "      <td>1</td>\n",
       "      <td>1</td>\n",
       "      <td>1</td>\n",
       "      <td>1.0</td>\n",
       "      <td>Piso 2</td>\n",
       "      <td>T1</td>\n",
       "    </tr>\n",
       "    <tr>\n",
       "      <th>1070</th>\n",
       "      <td>1798</td>\n",
       "      <td>Madeira</td>\n",
       "      <td>Funchal</td>\n",
       "      <td>NaN</td>\n",
       "      <td>0</td>\n",
       "      <td>2021-09-11 10:11:53.426</td>\n",
       "      <td>NaT</td>\n",
       "      <td>1</td>\n",
       "      <td>1</td>\n",
       "      <td>1</td>\n",
       "      <td>1.0</td>\n",
       "      <td>Piso 2</td>\n",
       "      <td>T1</td>\n",
       "    </tr>\n",
       "    <tr>\n",
       "      <th>1071</th>\n",
       "      <td>1799</td>\n",
       "      <td>Madeira</td>\n",
       "      <td>Funchal</td>\n",
       "      <td>NaN</td>\n",
       "      <td>0</td>\n",
       "      <td>2021-09-11 10:14:58.206</td>\n",
       "      <td>NaT</td>\n",
       "      <td>1</td>\n",
       "      <td>1</td>\n",
       "      <td>1</td>\n",
       "      <td>1.0</td>\n",
       "      <td>Piso 3</td>\n",
       "      <td>T1</td>\n",
       "    </tr>\n",
       "    <tr>\n",
       "      <th>1072</th>\n",
       "      <td>1800</td>\n",
       "      <td>Madeira</td>\n",
       "      <td>Funchal</td>\n",
       "      <td>NaN</td>\n",
       "      <td>0</td>\n",
       "      <td>2021-09-11 10:18:12.468</td>\n",
       "      <td>NaT</td>\n",
       "      <td>1</td>\n",
       "      <td>1</td>\n",
       "      <td>1</td>\n",
       "      <td>1.0</td>\n",
       "      <td>Piso 3</td>\n",
       "      <td>T1</td>\n",
       "    </tr>\n",
       "  </tbody>\n",
       "</table>\n",
       "<p>1073 rows × 13 columns</p>\n",
       "</div>"
      ],
      "text/plain": [
       "      PropertyId   Região   Cidade          Bairro  Inativo  \\\n",
       "0              1   Lisboa   Lisboa  Santa Catarina        0   \n",
       "1              2   Lisboa   Lisboa             NaN        1   \n",
       "2              3   Lisboa   Lisboa             NaN        1   \n",
       "3              4   Lisboa   Lisboa        S. Bento        1   \n",
       "4              5   Lisboa   Lisboa             NaN        1   \n",
       "...          ...      ...      ...             ...      ...   \n",
       "1068        1796  Madeira  Funchal             NaN        0   \n",
       "1069        1797  Madeira  Funchal             NaN        0   \n",
       "1070        1798  Madeira  Funchal             NaN        0   \n",
       "1071        1799  Madeira  Funchal             NaN        0   \n",
       "1072        1800  Madeira  Funchal             NaN        0   \n",
       "\n",
       "                 Data_Inicio Data_Inativo  ArCondicionado  MaqLoica  MaqRoupa  \\\n",
       "0    2014-08-05 00:00:00.000          NaT               1         1         1   \n",
       "1    2014-03-18 00:00:00.000          NaT               0         0         0   \n",
       "2    2013-10-22 00:00:00.000          NaT               0         0         0   \n",
       "3    2013-11-28 00:00:00.000          NaT               0         1         1   \n",
       "4    2013-11-12 00:00:00.000          NaT               0         0         0   \n",
       "...                      ...          ...             ...       ...       ...   \n",
       "1068 2021-09-11 10:00:27.669          NaT               1         1         1   \n",
       "1069 2021-09-11 10:07:16.867          NaT               1         1         1   \n",
       "1070 2021-09-11 10:11:53.426          NaT               1         1         1   \n",
       "1071 2021-09-11 10:14:58.206          NaT               1         1         1   \n",
       "1072 2021-09-11 10:18:12.468          NaT               1         1         1   \n",
       "\n",
       "      Elevador   Andar Tipologia  \n",
       "0          0.0     R/C        T2  \n",
       "1          NaN     NaN       NaN  \n",
       "2          NaN     NaN       NaN  \n",
       "3          NaN      3º        T1  \n",
       "4          NaN     NaN       NaN  \n",
       "...        ...     ...       ...  \n",
       "1068       1.0  Piso 2        T0  \n",
       "1069       1.0  Piso 2        T1  \n",
       "1070       1.0  Piso 2        T1  \n",
       "1071       1.0  Piso 3        T1  \n",
       "1072       1.0  Piso 3        T1  \n",
       "\n",
       "[1073 rows x 13 columns]"
      ]
     },
     "execution_count": 28,
     "metadata": {},
     "output_type": "execute_result"
    }
   ],
   "source": [
    "prop"
   ]
  },
  {
   "cell_type": "code",
   "execution_count": 29,
   "id": "efff5094",
   "metadata": {
    "scrolled": true
   },
   "outputs": [
    {
     "data": {
      "text/plain": [
       "PropertyId                 int64\n",
       "Região                    object\n",
       "Cidade                    object\n",
       "Bairro                    object\n",
       "Inativo                    int64\n",
       "Data_Inicio       datetime64[ns]\n",
       "Data_Inativo      datetime64[ns]\n",
       "ArCondicionado             int64\n",
       "MaqLoica                   int64\n",
       "MaqRoupa                   int64\n",
       "Elevador                 float64\n",
       "Andar                     object\n",
       "Tipologia                 object\n",
       "dtype: object"
      ]
     },
     "execution_count": 29,
     "metadata": {},
     "output_type": "execute_result"
    }
   ],
   "source": [
    "prop.dtypes"
   ]
  },
  {
   "cell_type": "code",
   "execution_count": 30,
   "id": "bc4ced5b",
   "metadata": {},
   "outputs": [
    {
     "data": {
      "text/plain": [
       "array([   1,    2,    3, ..., 1798, 1799, 1800], dtype=int64)"
      ]
     },
     "execution_count": 30,
     "metadata": {},
     "output_type": "execute_result"
    }
   ],
   "source": [
    "prop['PropertyId'].unique()"
   ]
  },
  {
   "cell_type": "code",
   "execution_count": 31,
   "id": "fd240139",
   "metadata": {},
   "outputs": [
    {
     "data": {
      "text/plain": [
       "1       1\n",
       "256     1\n",
       "182     1\n",
       "183     1\n",
       "184     1\n",
       "       ..\n",
       "500     1\n",
       "502     1\n",
       "505     1\n",
       "507     1\n",
       "1800    1\n",
       "Name: PropertyId, Length: 1073, dtype: int64"
      ]
     },
     "execution_count": 31,
     "metadata": {},
     "output_type": "execute_result"
    }
   ],
   "source": [
    "prop['PropertyId'].value_counts()"
   ]
  },
  {
   "cell_type": "code",
   "execution_count": 32,
   "id": "92b1d6fe",
   "metadata": {},
   "outputs": [
    {
     "data": {
      "text/plain": [
       "array(['Lisboa', 'Porto', 'Algarve', 'Madeira'], dtype=object)"
      ]
     },
     "execution_count": 32,
     "metadata": {},
     "output_type": "execute_result"
    }
   ],
   "source": [
    "prop['Região'].unique()"
   ]
  },
  {
   "cell_type": "code",
   "execution_count": 33,
   "id": "5f3f7bf9",
   "metadata": {},
   "outputs": [
    {
     "data": {
      "text/plain": [
       "Lisboa     703\n",
       "Algarve    172\n",
       "Porto      147\n",
       "Madeira     51\n",
       "Name: Região, dtype: int64"
      ]
     },
     "execution_count": 33,
     "metadata": {},
     "output_type": "execute_result"
    }
   ],
   "source": [
    "prop['Região'].value_counts()"
   ]
  },
  {
   "cell_type": "code",
   "execution_count": 34,
   "id": "d9d2e9ca",
   "metadata": {},
   "outputs": [
    {
     "data": {
      "text/plain": [
       "array(['Lisboa', nan, 'Torres Vedras', 'Portimão', 'Aroeira', 'Cascais',\n",
       "       'Arraiolos', 'Ericeira', 'Lourinhã', 'Estoril', 'Azeitão',\n",
       "       'Zambujeira', 'Palmela', 'Funchal', 'Porto', 'Montemor',\n",
       "       'Santarém', 'Azeitão 2', 'Lagos', 'Sintra', 'Melides', 'Oeiras',\n",
       "       'São Pedro da Cadeira', 'Grândola', 'São João das Lampas',\n",
       "       'Tavira', 'Vila Nova de Gaia', 'Vilamoura', 'Matosinhos',\n",
       "       'São Martinho de Sardoura', 'São João da Pesqueira',\n",
       "       'Carrapateira', 'Armação de Pêra', 'Albufeira', 'Vale do Lobo',\n",
       "       'Monte Gordo', 'Vila Real de Santo António', 'Carvoeiro',\n",
       "       'Porches', 'Olhão', 'Altura', 'Lagoa', 'Silves', 'Faro',\n",
       "       'Quarteira', 'Alvor', 'São Brás de Alportel', 'Loulé',\n",
       "       'Santa Cruz'], dtype=object)"
      ]
     },
     "execution_count": 34,
     "metadata": {},
     "output_type": "execute_result"
    }
   ],
   "source": [
    "prop['Cidade'].unique()"
   ]
  },
  {
   "cell_type": "code",
   "execution_count": 35,
   "id": "cfc80f9b",
   "metadata": {
    "scrolled": true
   },
   "outputs": [
    {
     "data": {
      "text/plain": [
       "Lisboa                        588\n",
       "Porto                         128\n",
       "Funchal                        51\n",
       "Ericeira                       51\n",
       "Vilamoura                      30\n",
       "Portimão                       27\n",
       "Albufeira                      27\n",
       "Cascais                        22\n",
       "Tavira                         16\n",
       "Monte Gordo                    14\n",
       "Vila Nova de Gaia              12\n",
       "Carvoeiro                       8\n",
       "Lagos                           8\n",
       "Armação de Pêra                 7\n",
       "Porches                         7\n",
       "Estoril                         6\n",
       "Oeiras                          5\n",
       "Matosinhos                      5\n",
       "Lagoa                           5\n",
       "Altura                          5\n",
       "Vila Real de Santo António      4\n",
       "São João das Lampas             4\n",
       "Olhão                           4\n",
       "Sintra                          3\n",
       "Quarteira                       3\n",
       "Loulé                           3\n",
       "Vale do Lobo                    3\n",
       "Torres Vedras                   2\n",
       "Faro                            2\n",
       "Zambujeira                      2\n",
       "São João da Pesqueira           2\n",
       "Azeitão                         2\n",
       "Silves                          1\n",
       "Alvor                           1\n",
       "São Brás de Alportel            1\n",
       "São Martinho de Sardoura        1\n",
       "Aroeira                         1\n",
       "Carrapateira                    1\n",
       "Arraiolos                       1\n",
       "Grândola                        1\n",
       "São Pedro da Cadeira            1\n",
       "Melides                         1\n",
       "Azeitão 2                       1\n",
       "Santarém                        1\n",
       "Montemor                        1\n",
       "Lourinhã                        1\n",
       "Palmela                         1\n",
       "Santa Cruz                      1\n",
       "Name: Cidade, dtype: int64"
      ]
     },
     "execution_count": 35,
     "metadata": {},
     "output_type": "execute_result"
    }
   ],
   "source": [
    "prop['Cidade'].value_counts()"
   ]
  },
  {
   "cell_type": "code",
   "execution_count": 36,
   "id": "35c04564",
   "metadata": {},
   "outputs": [],
   "source": [
    "prop['Cidade'] = prop['Cidade'].replace('Azeitão 2', 'Azeitão')"
   ]
  },
  {
   "cell_type": "code",
   "execution_count": 37,
   "id": "a1f11896",
   "metadata": {},
   "outputs": [
    {
     "data": {
      "text/plain": [
       "array(['Santa Catarina', nan, 'S. Bento', 'Marquês de Pombal', 'Estrela',\n",
       "       'Av. Novas', 'Principe Real', 'Bairro Alto', 'Lapa', 'Restelo',\n",
       "       'Martim Moniz', 'S. José', 'Campo de Ourique', 'Chiado', 'Graça',\n",
       "       'Alfama', 'Ajuda', 'Cascais', 'Intendente', 'Ericeira', 'Lourinhã',\n",
       "       'Caxias', 'Estoril', 'Azeitão', 'Santos-o-Velho', 'Zambujeira',\n",
       "       'Funchal', 'Expo', 'Baixa', 'Beato', 'Almirante Reis', 'Belém',\n",
       "       'Laranjeiras', 'Castelo', 'Sé', 'Mercês', 'Madragoa', 'Acântara',\n",
       "       'Saldanha', 'Campolide', 'Av. da Liberdade', 'Cais do Sodré',\n",
       "       'Estefânia', 'Oeiras', 'Olivais', 'Mouraria', 'Areeiro', 'Bica',\n",
       "       'Av Liberdade', 'Restauradores', 'Santa Marta', 'Rato',\n",
       "       'Alcântara', 'Benfica', 'Ribeira', 'Cedofeita', 'Boavista', 'Foz',\n",
       "       'Trindade', 'Porto', 'Vila Nova de Gaia', 'Carrapateira'],\n",
       "      dtype=object)"
      ]
     },
     "execution_count": 37,
     "metadata": {},
     "output_type": "execute_result"
    }
   ],
   "source": [
    "prop['Bairro'].unique()"
   ]
  },
  {
   "cell_type": "code",
   "execution_count": 38,
   "id": "fed8dcaa",
   "metadata": {},
   "outputs": [
    {
     "data": {
      "text/plain": [
       "Baixa             94\n",
       "Principe Real     38\n",
       "Bairro Alto       32\n",
       "Alfama            29\n",
       "Santa Catarina    28\n",
       "                  ..\n",
       "Azeitão            1\n",
       "Areeiro            1\n",
       "Zambujeira         1\n",
       "Acântara           1\n",
       "Carrapateira       1\n",
       "Name: Bairro, Length: 61, dtype: int64"
      ]
     },
     "execution_count": 38,
     "metadata": {},
     "output_type": "execute_result"
    }
   ],
   "source": [
    "prop['Bairro'].value_counts()"
   ]
  },
  {
   "cell_type": "code",
   "execution_count": 39,
   "id": "12276778",
   "metadata": {},
   "outputs": [],
   "source": [
    "prop['Bairro'] = prop['Bairro'].replace('Acântara', 'Alcântara')\n",
    "prop['Bairro'] = prop['Bairro'].replace('Av Liberdade', 'Av. da Liberdade')"
   ]
  },
  {
   "cell_type": "code",
   "execution_count": 40,
   "id": "a652bcae",
   "metadata": {},
   "outputs": [
    {
     "data": {
      "text/plain": [
       "array([0, 1], dtype=int64)"
      ]
     },
     "execution_count": 40,
     "metadata": {},
     "output_type": "execute_result"
    }
   ],
   "source": [
    "prop['Inativo'].unique()"
   ]
  },
  {
   "cell_type": "code",
   "execution_count": 41,
   "id": "740afe69",
   "metadata": {},
   "outputs": [
    {
     "data": {
      "text/plain": [
       "0    544\n",
       "1    529\n",
       "Name: Inativo, dtype: int64"
      ]
     },
     "execution_count": 41,
     "metadata": {},
     "output_type": "execute_result"
    }
   ],
   "source": [
    "prop['Inativo'].value_counts()"
   ]
  },
  {
   "cell_type": "code",
   "execution_count": 42,
   "id": "b63dc579",
   "metadata": {},
   "outputs": [
    {
     "data": {
      "text/plain": [
       "array(['2014-08-05T00:00:00.000000000', '2014-03-18T00:00:00.000000000',\n",
       "       '2013-10-22T00:00:00.000000000', ...,\n",
       "       '2021-09-11T10:11:53.426000000', '2021-09-11T10:14:58.206000000',\n",
       "       '2021-09-11T10:18:12.468000000'], dtype='datetime64[ns]')"
      ]
     },
     "execution_count": 42,
     "metadata": {},
     "output_type": "execute_result"
    }
   ],
   "source": [
    "prop['Data_Inicio'].unique()"
   ]
  },
  {
   "cell_type": "code",
   "execution_count": 43,
   "id": "f6493529",
   "metadata": {},
   "outputs": [
    {
     "data": {
      "text/plain": [
       "array([                          'NaT', '2021-01-15T12:07:50.601000000',\n",
       "       '2021-12-16T11:55:36.226000000', '2021-12-16T11:55:32.706000000',\n",
       "       '2021-01-14T16:25:01.604000000', '2021-01-14T15:15:54.897000000',\n",
       "       '2020-08-17T11:09:16.978000000', '2021-01-15T12:18:12.320000000',\n",
       "       '2021-01-14T16:51:28.129000000', '2021-01-14T16:10:57.695000000',\n",
       "       '2021-01-15T12:24:51.984000000', '2021-01-15T12:27:14.307000000',\n",
       "       '2021-01-15T12:31:10.646000000', '2021-01-14T15:30:52.124000000',\n",
       "       '2021-01-14T14:32:12.361000000', '2021-12-16T11:55:00.453000000',\n",
       "       '2021-01-14T17:13:24.589000000', '2021-01-15T12:33:32.798000000',\n",
       "       '2021-01-14T17:18:49.469000000', '2021-01-14T17:18:53.841000000',\n",
       "       '2021-01-14T14:33:16.009000000', '2021-12-16T11:55:07.712000000',\n",
       "       '2021-01-14T16:39:58.227000000', '2021-01-15T12:39:01.654000000',\n",
       "       '2021-12-16T11:55:11.512000000', '2021-01-14T17:19:41.408000000',\n",
       "       '2020-12-06T15:57:05.869000000', '2020-12-06T15:57:10.665000000',\n",
       "       '2021-01-14T15:36:05.855000000', '2020-12-06T15:57:17.180000000',\n",
       "       '2021-12-16T11:55:54.674000000', '2021-01-15T11:48:30.627000000',\n",
       "       '2021-12-29T12:29:07.134000000', '2020-01-18T23:28:56.854000000',\n",
       "       '2021-12-29T12:40:27.411000000', '2021-01-15T12:39:54.960000000',\n",
       "       '2021-01-15T12:39:59.376000000', '2021-01-15T12:40:03.095000000',\n",
       "       '2021-01-15T12:43:16.542000000', '2021-01-15T12:44:38.189000000',\n",
       "       '2021-01-14T16:14:00.771000000', '2021-12-16T11:55:57.929000000',\n",
       "       '2021-01-15T12:40:38.256000000', '2021-01-15T12:47:54.291000000',\n",
       "       '2021-01-15T12:55:27.902000000', '2021-01-15T12:10:47.306000000',\n",
       "       '2021-01-15T12:13:06.014000000', '2022-01-27T10:14:57.939000000',\n",
       "       '2021-01-14T15:39:58.854000000', '2021-03-27T13:33:15.813000000',\n",
       "       '2021-12-16T11:56:25.776000000', '2021-12-16T11:56:34.179000000',\n",
       "       '2021-12-16T11:56:49.878000000', '2021-01-14T16:08:45.685000000',\n",
       "       '2021-01-14T16:17:10.282000000', '2021-01-14T16:21:32.719000000',\n",
       "       '2021-01-14T15:59:59.284000000', '2020-12-06T15:03:21.988000000',\n",
       "       '2021-01-15T13:09:13.471000000', '2021-01-14T15:14:40.777000000',\n",
       "       '2021-01-15T13:18:16.895000000', '2021-01-15T13:29:19.859000000',\n",
       "       '2021-05-18T13:54:37.367000000', '2021-05-18T13:54:48.342000000',\n",
       "       '2021-01-14T16:26:26.352000000', '2021-01-14T16:26:31.179000000',\n",
       "       '2021-01-15T12:10:14.568000000', '2021-12-16T11:54:36.289000000',\n",
       "       '2021-02-10T10:20:01.276000000', '2021-01-15T13:37:36.783000000',\n",
       "       '2021-12-16T11:56:38.363000000', '2021-01-14T17:25:08.725000000',\n",
       "       '2021-12-16T11:56:42.244000000', '2021-12-16T11:54:31.699000000',\n",
       "       '2021-01-14T14:32:51.281000000', '2021-01-15T14:15:18.997000000',\n",
       "       '2021-01-15T16:18:46.866000000', '2021-01-15T16:19:50.658000000',\n",
       "       '2021-05-02T14:13:16.676000000', '2021-01-15T16:20:25.326000000',\n",
       "       '2021-01-14T16:57:39.278000000', '2021-01-14T15:39:52.552000000',\n",
       "       '2021-12-16T11:54:43.834000000', '2021-05-18T13:54:03.677000000',\n",
       "       '2021-04-17T17:03:35.772000000', '2021-01-15T14:15:33.382000000',\n",
       "       '2021-01-15T14:15:48.409000000', '2021-01-15T14:16:51.788000000',\n",
       "       '2021-12-16T11:55:04.113000000', '2021-01-14T17:28:17.910000000',\n",
       "       '2021-05-18T13:54:15.784000000', '2020-08-28T22:30:56.376000000',\n",
       "       '2021-01-15T17:05:47.815000000', '2020-08-12T09:59:06.378000000',\n",
       "       '2021-01-15T17:09:01.155000000', '2020-11-08T17:40:25.457000000',\n",
       "       '2021-01-15T17:15:10.020000000', '2021-01-15T17:15:12.727000000',\n",
       "       '2021-01-15T17:15:15.393000000', '2021-01-15T17:15:18.669000000',\n",
       "       '2021-01-15T17:15:21.847000000', '2021-01-14T17:06:52.018000000',\n",
       "       '2021-01-14T17:06:57.232000000', '2020-08-28T22:30:51.674000000',\n",
       "       '2020-08-28T22:30:45.721000000', '2021-01-15T17:23:59.497000000',\n",
       "       '2020-09-11T09:00:45.249000000', '2020-08-28T22:30:38.180000000',\n",
       "       '2021-01-15T17:05:59.030000000', '2022-01-17T18:05:58.735000000',\n",
       "       '2021-05-02T14:07:23.139000000', '2021-01-05T15:42:32.573000000',\n",
       "       '2020-12-06T15:09:58.081000000', '2021-01-15T17:29:38.374000000',\n",
       "       '2021-01-15T11:55:19.656000000', '2021-01-15T17:36:46.812000000',\n",
       "       '2021-01-14T15:58:19.529000000', '2021-12-16T11:54:52.864000000',\n",
       "       '2020-11-16T16:56:36.903000000', '2021-01-14T15:10:40.411000000',\n",
       "       '2021-01-15T17:42:45.118000000', '2021-01-15T17:47:14.564000000',\n",
       "       '2020-12-06T10:07:47.382000000', '2021-01-14T16:38:28.672000000',\n",
       "       '2021-01-14T14:25:56.040000000', '2021-01-14T16:24:05.498000000',\n",
       "       '2021-01-15T17:55:20.391000000', '2021-12-16T11:54:26.990000000',\n",
       "       '2020-12-06T15:08:10.803000000', '2021-01-15T11:51:49.092000000',\n",
       "       '2021-01-14T17:03:06.907000000', '2021-01-15T17:57:19.356000000',\n",
       "       '2021-02-06T10:02:47.600000000', '2020-08-12T11:27:57.084000000',\n",
       "       '2020-08-12T11:28:03.796000000', '2020-08-12T11:28:08.983000000',\n",
       "       '2020-08-12T11:28:13.625000000', '2020-08-12T11:28:22.315000000',\n",
       "       '2020-08-12T11:28:26.684000000', '2020-08-12T11:28:31.255000000',\n",
       "       '2020-07-16T16:20:26.816000000', '2021-10-27T07:12:11.863000000',\n",
       "       '2021-05-18T13:54:27.148000000', '2021-01-15T11:57:30.868000000',\n",
       "       '2021-01-15T11:57:36.225000000', '2020-08-11T13:27:02.281000000',\n",
       "       '2020-08-11T13:27:11.834000000', '2020-08-11T13:27:17.013000000',\n",
       "       '2020-08-11T13:27:26.003000000', '2020-08-11T13:27:33.704000000',\n",
       "       '2020-08-11T13:27:38.183000000', '2020-08-11T13:27:42.723000000',\n",
       "       '2020-08-11T13:27:48.045000000', '2020-08-11T13:27:55.941000000',\n",
       "       '2020-12-06T15:45:47.902000000', '2020-12-06T15:45:56.242000000',\n",
       "       '2020-12-06T15:46:01.365000000', '2021-01-14T17:05:11.834000000',\n",
       "       '2021-01-15T12:04:41.911000000', '2021-01-15T11:56:44.320000000',\n",
       "       '2021-01-15T12:51:45.588000000', '2021-12-16T11:54:48.541000000',\n",
       "       '2021-01-15T13:02:00.038000000', '2021-01-15T12:05:06.260000000',\n",
       "       '2021-01-14T16:41:35.694000000', '2021-01-15T11:56:02.049000000',\n",
       "       '2021-01-14T17:10:06.850000000', '2021-01-14T16:33:58.082000000',\n",
       "       '2020-10-09T12:33:31.103000000', '2020-10-09T12:33:35.144000000',\n",
       "       '2020-10-09T12:33:47.589000000', '2020-08-29T09:34:59.167000000',\n",
       "       '2021-01-14T15:33:32.851000000', '2021-01-14T15:33:36.801000000',\n",
       "       '2021-01-14T15:33:40.379000000', '2021-01-14T15:33:44.025000000',\n",
       "       '2021-01-14T15:33:46.973000000', '2020-12-06T15:16:15.144000000',\n",
       "       '2021-12-16T11:54:57.041000000', '2021-12-29T12:23:31.470000000',\n",
       "       '2020-09-12T13:05:39.402000000', '2020-09-12T13:05:44.246000000',\n",
       "       '2021-04-17T17:04:04.390000000', '2021-12-16T11:55:40.405000000',\n",
       "       '2020-12-06T15:15:15.772000000', '2021-04-17T17:03:15.465000000',\n",
       "       '2020-06-17T10:37:44.123000000', '2021-01-19T10:41:50.140000000',\n",
       "       '2020-06-17T10:37:18.359000000', '2020-09-12T13:06:11.891000000',\n",
       "       '2020-09-12T13:07:25.280000000', '2021-12-16T11:56:05.159000000',\n",
       "       '2021-12-16T11:56:08.364000000', '2021-12-16T11:56:11.926000000',\n",
       "       '2021-12-16T11:56:16.356000000', '2021-12-16T11:55:44.915000000',\n",
       "       '2021-01-19T10:38:59.901000000', '2020-12-06T15:16:03.744000000',\n",
       "       '2021-02-16T15:17:54.026000000', '2021-01-14T14:30:18.140000000',\n",
       "       '2020-09-12T13:25:46.670000000', '2021-01-20T11:07:50.759000000',\n",
       "       '2020-12-06T15:16:09.189000000', '2020-09-12T13:31:55.578000000',\n",
       "       '2020-09-12T13:32:33.935000000', '2021-01-14T14:31:02.306000000',\n",
       "       '2020-09-12T13:36:56.347000000', '2020-09-12T13:37:30.303000000',\n",
       "       '2021-03-19T10:08:52.168000000', '2021-01-14T14:31:32.122000000',\n",
       "       '2020-09-12T13:43:23.042000000', '2021-12-16T11:54:39.878000000',\n",
       "       '2021-12-16T11:56:53.706000000', '2021-01-20T11:08:41.340000000',\n",
       "       '2021-01-20T11:08:45.885000000', '2021-02-06T10:51:38.154000000',\n",
       "       '2021-10-12T13:30:43.487000000', '2021-12-15T13:05:01.864000000',\n",
       "       '2021-11-15T09:12:06.554000000', '2021-11-15T09:12:12.086000000',\n",
       "       '2021-11-15T09:12:15.601000000', '2021-11-15T09:13:12.554000000',\n",
       "       '2021-11-15T09:13:37.126000000', '2021-11-15T09:13:42.547000000',\n",
       "       '2021-11-10T09:06:34.470000000', '2021-02-19T15:21:14.849000000',\n",
       "       '2021-02-19T15:21:32.258000000', '2021-02-19T15:29:38.385000000',\n",
       "       '2021-02-19T15:30:18.756000000', '2021-02-19T15:30:31.537000000',\n",
       "       '2021-02-19T15:30:45.642000000', '2021-12-30T18:41:17.486000000',\n",
       "       '2021-12-30T18:41:23.147000000', '2021-12-30T18:41:28.193000000',\n",
       "       '2021-12-30T18:41:32.349000000', '2021-12-30T18:41:36.368000000',\n",
       "       '2021-12-30T18:41:40.655000000', '2021-12-30T18:41:47.859000000'],\n",
       "      dtype='datetime64[ns]')"
      ]
     },
     "execution_count": 43,
     "metadata": {},
     "output_type": "execute_result"
    }
   ],
   "source": [
    "prop['Data_Inativo'].unique()"
   ]
  },
  {
   "cell_type": "code",
   "execution_count": 44,
   "id": "823d27d6",
   "metadata": {},
   "outputs": [
    {
     "data": {
      "text/plain": [
       "array([1, 0], dtype=int64)"
      ]
     },
     "execution_count": 44,
     "metadata": {},
     "output_type": "execute_result"
    }
   ],
   "source": [
    "prop['ArCondicionado'].unique()"
   ]
  },
  {
   "cell_type": "code",
   "execution_count": 45,
   "id": "c5b37941",
   "metadata": {},
   "outputs": [
    {
     "data": {
      "text/plain": [
       "0    683\n",
       "1    390\n",
       "Name: ArCondicionado, dtype: int64"
      ]
     },
     "execution_count": 45,
     "metadata": {},
     "output_type": "execute_result"
    }
   ],
   "source": [
    "prop['ArCondicionado'].value_counts()"
   ]
  },
  {
   "cell_type": "code",
   "execution_count": 46,
   "id": "f1b89c99",
   "metadata": {},
   "outputs": [
    {
     "data": {
      "text/plain": [
       "array([1, 0], dtype=int64)"
      ]
     },
     "execution_count": 46,
     "metadata": {},
     "output_type": "execute_result"
    }
   ],
   "source": [
    "prop['MaqLoica'].unique()"
   ]
  },
  {
   "cell_type": "code",
   "execution_count": 47,
   "id": "d711c876",
   "metadata": {},
   "outputs": [
    {
     "data": {
      "text/plain": [
       "1    957\n",
       "0    116\n",
       "Name: MaqLoica, dtype: int64"
      ]
     },
     "execution_count": 47,
     "metadata": {},
     "output_type": "execute_result"
    }
   ],
   "source": [
    "prop['MaqLoica'].value_counts()"
   ]
  },
  {
   "cell_type": "code",
   "execution_count": 48,
   "id": "a98ab7d4",
   "metadata": {
    "scrolled": true
   },
   "outputs": [],
   "source": [
    "prop['Elevador'] = pd.to_numeric(prop['Elevador'], errors='coerce').astype('Int64')\n"
   ]
  },
  {
   "cell_type": "code",
   "execution_count": 49,
   "id": "12f27a77",
   "metadata": {},
   "outputs": [
    {
     "data": {
      "text/plain": [
       "<IntegerArray>\n",
       "[0, <NA>, 1]\n",
       "Length: 3, dtype: Int64"
      ]
     },
     "execution_count": 49,
     "metadata": {},
     "output_type": "execute_result"
    }
   ],
   "source": [
    "prop['Elevador'].unique()"
   ]
  },
  {
   "cell_type": "code",
   "execution_count": 50,
   "id": "ce92ac4f",
   "metadata": {},
   "outputs": [
    {
     "data": {
      "text/plain": [
       "1    312\n",
       "0    115\n",
       "Name: Elevador, dtype: Int64"
      ]
     },
     "execution_count": 50,
     "metadata": {},
     "output_type": "execute_result"
    }
   ],
   "source": [
    "prop['Elevador'].value_counts()"
   ]
  },
  {
   "cell_type": "code",
   "execution_count": 51,
   "id": "702b05a9",
   "metadata": {},
   "outputs": [
    {
     "data": {
      "text/plain": [
       "array(['R/C', nan, '3º', '1º', '2º', '5º', 'R/c', '6º', '4º', 'Moradia',\n",
       "       'R/C A', 'Cave', '8º', -1, '7º', 5, '9º', '13º', 'r/c', '12º',\n",
       "       'Cave Dta', '2A', 'R/C C', 'piso 2 – 2C', '3A', '2E', '3E', 2.2,\n",
       "       'Loja', 3, 4, '4B', 'B3-E', 'B1-D', '1E', '5A', '5B', '4E',\n",
       "       'R/C Frente 2A', 'Outeirinho', 'Sobre Loja Esq.', 'B1 (-1C)', '5C',\n",
       "       'r/c esq', '2C', '3C', '2.4P', '2.3Q', 1, '3B', 2, 6,\n",
       "       '1ºD (real 1º Frente)', 2.4, 'Cave Trás', '2 º', 'B0.2', '11º',\n",
       "       'Piso -1', 'Piso 0', '1F', '1T', '2F', '2T', '3T', '4ºH', 'cave',\n",
       "       13, '3a', 'RC', 'fração AR', 'fração AT', '5G', '5H', '4A',\n",
       "       'fração S', 'Quinta do Lago', 'RC-D', 'Branqueira', '4H',\n",
       "       'letra C', '4 B', '15º', 'R/C Inferior', '2º Esq Sul', 8, 'Piso 1',\n",
       "       'Piso 2', 'Piso 3'], dtype=object)"
      ]
     },
     "execution_count": 51,
     "metadata": {},
     "output_type": "execute_result"
    }
   ],
   "source": [
    "prop['Andar'].unique()"
   ]
  },
  {
   "cell_type": "code",
   "execution_count": 52,
   "id": "59cb50c9",
   "metadata": {
    "scrolled": true
   },
   "outputs": [
    {
     "data": {
      "text/plain": [
       "1º         167\n",
       "2º         162\n",
       "R/C        120\n",
       "3º         115\n",
       "Moradia     70\n",
       "          ... \n",
       "2 º          1\n",
       "B0.2         1\n",
       "12º          1\n",
       "Piso -1      1\n",
       "3C           1\n",
       "Name: Andar, Length: 88, dtype: int64"
      ]
     },
     "execution_count": 52,
     "metadata": {},
     "output_type": "execute_result"
    }
   ],
   "source": [
    "prop['Andar'].value_counts()"
   ]
  },
  {
   "cell_type": "code",
   "execution_count": 53,
   "id": "b7745922",
   "metadata": {},
   "outputs": [],
   "source": [
    "values_to_replace =['R/c','r/c','RC-D','R/C Inferior','R/C Frente 2A','R/C A','R/C C','r/c esq','Piso 0','B0.2','RC']\n",
    "replacement_value = 'R/C'\n",
    "prop['Andar'] = prop['Andar'].replace(values_to_replace, replacement_value)"
   ]
  },
  {
   "cell_type": "code",
   "execution_count": 54,
   "id": "2041da13",
   "metadata": {},
   "outputs": [],
   "source": [
    "values_to_replace =[1,'1ºD (real 1º Frente)','1F', '1T','Piso 1','1E']\n",
    "replacement_value = '1º'\n",
    "prop['Andar'] = prop['Andar'].replace(values_to_replace, replacement_value)"
   ]
  },
  {
   "cell_type": "code",
   "execution_count": 55,
   "id": "443a057d",
   "metadata": {},
   "outputs": [],
   "source": [
    "values_to_replace =['2A','piso 2 – 2C','2E',2.2,'2C','2.4P','2.3Q',2,2.4,'2 º','2F','2T','2º Esq Sul','Piso 2']\n",
    "replacement_value = '2º'\n",
    "prop['Andar'] = prop['Andar'].replace(values_to_replace, replacement_value)"
   ]
  },
  {
   "cell_type": "code",
   "execution_count": 56,
   "id": "f4b270d3",
   "metadata": {},
   "outputs": [],
   "source": [
    "values_to_replace =['3A','3E',3,'3C','3B','3T','3a','Piso 3']\n",
    "replacement_value = '3º'\n",
    "prop['Andar'] = prop['Andar'].replace(values_to_replace, replacement_value)"
   ]
  },
  {
   "cell_type": "code",
   "execution_count": 57,
   "id": "4d981a92",
   "metadata": {},
   "outputs": [],
   "source": [
    "values_to_replace =[4,'4E','4ºH','4A','4H','4 B','4B']\n",
    "replacement_value = '4º'\n",
    "prop['Andar'] = prop['Andar'].replace(values_to_replace, replacement_value)"
   ]
  },
  {
   "cell_type": "code",
   "execution_count": 58,
   "id": "694dd9d6",
   "metadata": {},
   "outputs": [],
   "source": [
    "values_to_replace =[5,'5A','5H','5G','5C','5B',]\n",
    "replacement_value = '5º'\n",
    "prop['Andar'] = prop['Andar'].replace(values_to_replace, replacement_value)"
   ]
  },
  {
   "cell_type": "code",
   "execution_count": 59,
   "id": "d559cf96",
   "metadata": {},
   "outputs": [],
   "source": [
    "values_to_replace =['Piso -1','B1 (-1C)','B1-D']\n",
    "replacement_value = -1\n",
    "prop['Andar'] = prop['Andar'].replace(values_to_replace, replacement_value)"
   ]
  },
  {
   "cell_type": "code",
   "execution_count": 60,
   "id": "8ace3c89",
   "metadata": {},
   "outputs": [],
   "source": [
    "values_to_replace =[6]\n",
    "replacement_value =  '6º'\n",
    "prop['Andar'] = prop['Andar'].replace(values_to_replace, replacement_value)"
   ]
  },
  {
   "cell_type": "code",
   "execution_count": 61,
   "id": "80e3fbd5",
   "metadata": {},
   "outputs": [],
   "source": [
    "values_to_replace =[8]\n",
    "replacement_value =  '8º'\n",
    "prop['Andar'] = prop['Andar'].replace(values_to_replace, replacement_value)"
   ]
  },
  {
   "cell_type": "code",
   "execution_count": 62,
   "id": "fcd69d7a",
   "metadata": {},
   "outputs": [],
   "source": [
    "values_to_replace =[13]\n",
    "replacement_value =  '13º'\n",
    "prop['Andar'] = prop['Andar'].replace(values_to_replace, replacement_value)"
   ]
  },
  {
   "cell_type": "code",
   "execution_count": 63,
   "id": "607dea0f",
   "metadata": {},
   "outputs": [],
   "source": [
    "values_to_replace =['cave','Cave Dta','Cave Trás']\n",
    "replacement_value =  'Cave'\n",
    "prop['Andar'] = prop['Andar'].replace(values_to_replace, replacement_value)"
   ]
  },
  {
   "cell_type": "code",
   "execution_count": 64,
   "id": "2eadf393",
   "metadata": {},
   "outputs": [],
   "source": [
    "values_to_replace =['Loja', 'B3-E', 'Outeirinho','Sobre Loja Esq.','fração AR', 'fração AT', 'fração S','Quinta do Lago', 'Branqueira', 'letra C']\n",
    "replacement_value =  'Outros'\n",
    "prop['Andar'] = prop['Andar'].replace(values_to_replace, replacement_value)"
   ]
  },
  {
   "cell_type": "code",
   "execution_count": 65,
   "id": "d7dbfa42",
   "metadata": {},
   "outputs": [
    {
     "data": {
      "text/plain": [
       "1º         190\n",
       "2º         186\n",
       "R/C        155\n",
       "3º         131\n",
       "4º          74\n",
       "Moradia     70\n",
       "5º          43\n",
       "6º          16\n",
       "7º          11\n",
       "Outros      10\n",
       "Cave         9\n",
       "8º           5\n",
       "13º          4\n",
       "-1           4\n",
       "11º          3\n",
       "9º           2\n",
       "12º          1\n",
       "15º          1\n",
       "Name: Andar, dtype: int64"
      ]
     },
     "execution_count": 65,
     "metadata": {},
     "output_type": "execute_result"
    }
   ],
   "source": [
    "prop['Andar'].value_counts()"
   ]
  },
  {
   "cell_type": "code",
   "execution_count": 66,
   "id": "42cd746c",
   "metadata": {},
   "outputs": [
    {
     "data": {
      "text/plain": [
       "array(['T2', nan, 'T1', 'T3', 'T0', 'T2 Duplex', 'T3 Duplex', 'T6', 'T4',\n",
       "       ' T2', 'T5', 'T1 Duplex', 'Studio', 'Moradia'], dtype=object)"
      ]
     },
     "execution_count": 66,
     "metadata": {},
     "output_type": "execute_result"
    }
   ],
   "source": [
    "prop['Tipologia'].unique()"
   ]
  },
  {
   "cell_type": "code",
   "execution_count": 67,
   "id": "991dc1c3",
   "metadata": {},
   "outputs": [
    {
     "data": {
      "text/plain": [
       "T1           333\n",
       "T2           329\n",
       "T3           124\n",
       "T0            79\n",
       "T4            35\n",
       "T5            16\n",
       "Studio         9\n",
       "T2 Duplex      8\n",
       "T1 Duplex      7\n",
       "T3 Duplex      4\n",
       "T6             4\n",
       " T2            1\n",
       "Moradia        1\n",
       "Name: Tipologia, dtype: int64"
      ]
     },
     "execution_count": 67,
     "metadata": {},
     "output_type": "execute_result"
    }
   ],
   "source": [
    "prop['Tipologia'].value_counts()"
   ]
  },
  {
   "cell_type": "code",
   "execution_count": 68,
   "id": "50ad72b1",
   "metadata": {},
   "outputs": [],
   "source": [
    "#Isto não é op tratamento final dos valores omissos , é apenas para poder fazer o passo seguinte\n",
    "prop['Tipologia'] = prop['Tipologia'].fillna('0')"
   ]
  },
  {
   "cell_type": "code",
   "execution_count": 69,
   "id": "7aa90c94",
   "metadata": {},
   "outputs": [],
   "source": [
    "prop['Duplex'] = prop['Tipologia'].str.contains('Duplex').astype(int)"
   ]
  },
  {
   "cell_type": "code",
   "execution_count": 70,
   "id": "e623bd15",
   "metadata": {},
   "outputs": [
    {
     "data": {
      "text/plain": [
       "0    1054\n",
       "1      19\n",
       "Name: Duplex, dtype: int64"
      ]
     },
     "execution_count": 70,
     "metadata": {},
     "output_type": "execute_result"
    }
   ],
   "source": [
    "prop['Duplex'].value_counts()"
   ]
  },
  {
   "cell_type": "code",
   "execution_count": 71,
   "id": "32e1912a",
   "metadata": {},
   "outputs": [],
   "source": [
    "values_to_replace =['T2 Duplex',' T2']\n",
    "replacement_value =  'T2'\n",
    "prop['Tipologia'] = prop['Tipologia'].replace(values_to_replace, replacement_value)"
   ]
  },
  {
   "cell_type": "code",
   "execution_count": 72,
   "id": "bcbdb09a",
   "metadata": {},
   "outputs": [],
   "source": [
    "values_to_replace =['T1 Duplex']\n",
    "replacement_value =  'T1'\n",
    "prop['Tipologia'] = prop['Tipologia'].replace(values_to_replace, replacement_value)"
   ]
  },
  {
   "cell_type": "code",
   "execution_count": 73,
   "id": "00f59ad6",
   "metadata": {},
   "outputs": [],
   "source": [
    "values_to_replace =['T3 Duplex']\n",
    "replacement_value =  'T3'\n",
    "prop['Tipologia'] = prop['Tipologia'].replace(values_to_replace, replacement_value)"
   ]
  },
  {
   "cell_type": "code",
   "execution_count": 74,
   "id": "cf3366b3",
   "metadata": {},
   "outputs": [],
   "source": [
    "values_to_replace =['Moradia']\n",
    "replacement_value =  '0'\n",
    "prop['Tipologia'] = prop['Tipologia'].replace(values_to_replace, replacement_value)"
   ]
  },
  {
   "cell_type": "code",
   "execution_count": 75,
   "id": "717ece4e",
   "metadata": {},
   "outputs": [
    {
     "data": {
      "text/plain": [
       "PropertyId          0\n",
       "Região              0\n",
       "Cidade              1\n",
       "Bairro            430\n",
       "Inativo             0\n",
       "Data_Inicio         0\n",
       "Data_Inativo      836\n",
       "ArCondicionado      0\n",
       "MaqLoica            0\n",
       "MaqRoupa            0\n",
       "Elevador          646\n",
       "Andar             158\n",
       "Tipologia           0\n",
       "Duplex              0\n",
       "dtype: int64"
      ]
     },
     "execution_count": 75,
     "metadata": {},
     "output_type": "execute_result"
    }
   ],
   "source": [
    "prop.isna().sum()"
   ]
  },
  {
   "cell_type": "code",
   "execution_count": 76,
   "id": "436b8639",
   "metadata": {},
   "outputs": [
    {
     "data": {
      "text/plain": [
       "(1073, 14)"
      ]
     },
     "execution_count": 76,
     "metadata": {},
     "output_type": "execute_result"
    }
   ],
   "source": [
    "prop.shape"
   ]
  },
  {
   "cell_type": "markdown",
   "id": "7caf156e",
   "metadata": {},
   "source": [
    "##### Valores omissos"
   ]
  },
  {
   "cell_type": "code",
   "execution_count": 77,
   "id": "8b52b0ee",
   "metadata": {},
   "outputs": [],
   "source": [
    "###Bairro\n",
    "prop['Bairro'].fillna('Desconhecido', inplace=True)"
   ]
  },
  {
   "cell_type": "code",
   "execution_count": 78,
   "id": "0fc8e53b",
   "metadata": {},
   "outputs": [],
   "source": [
    "###Data Inativo\n",
    "prop.drop(columns=['Data_Inativo'], inplace=True)"
   ]
  },
  {
   "cell_type": "code",
   "execution_count": 79,
   "id": "0dd5228c",
   "metadata": {},
   "outputs": [],
   "source": [
    "###Elevador\n",
    "elevador_proportions = prop['Elevador'].value_counts(normalize=True)\n",
    "\n",
    "# Function to fill missing values based on proportions\n",
    "def fill_elevador_na(row):\n",
    "    if pd.isna(row['Elevador']):\n",
    "        return elevador_proportions.sample(1, weights=elevador_proportions).index[0]\n",
    "    else:\n",
    "        return row['Elevador']\n",
    "\n",
    "# Apply the function to fill missing values in 'Elevador'\n",
    "prop['Elevador'] = prop.apply(fill_elevador_na, axis=1)"
   ]
  },
  {
   "cell_type": "code",
   "execution_count": 80,
   "id": "468f93b0",
   "metadata": {},
   "outputs": [],
   "source": [
    "###Andar\n",
    "\n",
    "andar_proportions = prop['Andar'].value_counts(normalize=True)\n",
    "\n",
    "\n",
    "def fill_andar_na(row):\n",
    "    if pd.isna(row['Andar']):\n",
    "        return andar_proportions.sample(1, weights=andar_proportions).index[0]\n",
    "    else:\n",
    "        return row['Andar']\n",
    "\n",
    "prop['Andar'] = prop.apply(fill_andar_na, axis=1)"
   ]
  },
  {
   "cell_type": "code",
   "execution_count": 81,
   "id": "9957e5bd",
   "metadata": {},
   "outputs": [],
   "source": [
    "###Cidade-1 valor\n",
    "prop.dropna(inplace=True)"
   ]
  },
  {
   "cell_type": "code",
   "execution_count": 82,
   "id": "61c752f3",
   "metadata": {},
   "outputs": [
    {
     "data": {
      "text/plain": [
       "PropertyId        0\n",
       "Região            0\n",
       "Cidade            0\n",
       "Bairro            0\n",
       "Inativo           0\n",
       "Data_Inicio       0\n",
       "ArCondicionado    0\n",
       "MaqLoica          0\n",
       "MaqRoupa          0\n",
       "Elevador          0\n",
       "Andar             0\n",
       "Tipologia         0\n",
       "Duplex            0\n",
       "dtype: int64"
      ]
     },
     "execution_count": 82,
     "metadata": {},
     "output_type": "execute_result"
    }
   ],
   "source": [
    "prop.isna().sum()"
   ]
  },
  {
   "cell_type": "code",
   "execution_count": 83,
   "id": "1de12a73",
   "metadata": {},
   "outputs": [],
   "source": [
    "def categorize_floor(floor):\n",
    "    ground_floor_and_basement = ['R/C', 'Cave', '-1']\n",
    "    lower_floors = ['1º', '2º', '3º']\n",
    "    middle_floors = ['4º', '5º', '6º', '7º']\n",
    "    higher_floors = ['8º', '9º', '11º', '12º', '13º', '15º']\n",
    "    special_cases = ['Moradia', 'Outros']\n",
    "\n",
    "    if floor in ground_floor_and_basement:\n",
    "        return 'Ground Floor and Basement'\n",
    "    elif floor in lower_floors:\n",
    "        return 'Lower Floors (1st to 3rd)'\n",
    "    elif floor in middle_floors:\n",
    "        return 'Middle Floors (4th to 7th)'\n",
    "    elif floor in higher_floors:\n",
    "        return 'Higher Floors (8th and above)'\n",
    "    elif floor in special_cases:\n",
    "        return 'Special Cases'\n",
    "    else:\n",
    "        return 'Uncategorized'\n",
    "\n",
    "# Apply the function to create a new column 'Floor_Category'\n",
    "prop['Floor_Category'] = prop['Andar'].apply(categorize_floor)"
   ]
  },
  {
   "cell_type": "code",
   "execution_count": 84,
   "id": "e5d45b8f",
   "metadata": {},
   "outputs": [],
   "source": [
    "def categorize_tipologia(tipologia):\n",
    "    studio_types = ['Studio', 'T0']\n",
    "    small_apartments = ['T1', 'T2']\n",
    "    medium_apartments = ['T3', 'T4']\n",
    "    large_apartments = ['T5', 'T6']\n",
    "    unknown = ['0']\n",
    "\n",
    "    if tipologia in studio_types:\n",
    "        return 'Studio/0-Bedroom'\n",
    "    elif tipologia in small_apartments:\n",
    "        return 'Small Apartments (T1-T2)'\n",
    "    elif tipologia in medium_apartments:\n",
    "        return 'Medium Apartments (T3-T4)'\n",
    "    elif tipologia in large_apartments:\n",
    "        return 'Large Apartments (T5-T6)'\n",
    "    elif tipologia in unknown:\n",
    "        return 'Unknown'\n",
    "    else:\n",
    "        return 'Uncategorized'\n",
    "\n",
    "# Apply the function to create a new column 'Tipologia_Category'\n",
    "prop['Tipologia_Category'] = prop['Tipologia'].apply(categorize_tipologia)"
   ]
  },
  {
   "cell_type": "code",
   "execution_count": 87,
   "id": "71d8f559",
   "metadata": {},
   "outputs": [
    {
     "name": "stderr",
     "output_type": "stream",
     "text": [
      "C:\\Users\\asus\\AppData\\Local\\Temp\\ipykernel_23096\\1171523074.py:7: SettingWithCopyWarning: \n",
      "A value is trying to be set on a copy of a slice from a DataFrame.\n",
      "Try using .loc[row_indexer,col_indexer] = value instead\n",
      "\n",
      "See the caveats in the documentation: https://pandas.pydata.org/pandas-docs/stable/user_guide/indexing.html#returning-a-view-versus-a-copy\n",
      "  prop_clustering[column] = label_encoder.fit_transform(prop_clustering[column])\n",
      "C:\\Users\\asus\\AppData\\Local\\Temp\\ipykernel_23096\\1171523074.py:7: SettingWithCopyWarning: \n",
      "A value is trying to be set on a copy of a slice from a DataFrame.\n",
      "Try using .loc[row_indexer,col_indexer] = value instead\n",
      "\n",
      "See the caveats in the documentation: https://pandas.pydata.org/pandas-docs/stable/user_guide/indexing.html#returning-a-view-versus-a-copy\n",
      "  prop_clustering[column] = label_encoder.fit_transform(prop_clustering[column])\n",
      "C:\\Users\\asus\\anaconda3\\lib\\site-packages\\sklearn\\cluster\\_kmeans.py:870: FutureWarning: The default value of `n_init` will change from 10 to 'auto' in 1.4. Set the value of `n_init` explicitly to suppress the warning\n",
      "  warnings.warn(\n",
      "C:\\Users\\asus\\anaconda3\\lib\\site-packages\\sklearn\\cluster\\_kmeans.py:1382: UserWarning: KMeans is known to have a memory leak on Windows with MKL, when there are less chunks than available threads. You can avoid it by setting the environment variable OMP_NUM_THREADS=5.\n",
      "  warnings.warn(\n",
      "C:\\Users\\asus\\anaconda3\\lib\\site-packages\\sklearn\\cluster\\_kmeans.py:870: FutureWarning: The default value of `n_init` will change from 10 to 'auto' in 1.4. Set the value of `n_init` explicitly to suppress the warning\n",
      "  warnings.warn(\n",
      "C:\\Users\\asus\\anaconda3\\lib\\site-packages\\sklearn\\cluster\\_kmeans.py:1382: UserWarning: KMeans is known to have a memory leak on Windows with MKL, when there are less chunks than available threads. You can avoid it by setting the environment variable OMP_NUM_THREADS=5.\n",
      "  warnings.warn(\n",
      "C:\\Users\\asus\\anaconda3\\lib\\site-packages\\sklearn\\cluster\\_kmeans.py:870: FutureWarning: The default value of `n_init` will change from 10 to 'auto' in 1.4. Set the value of `n_init` explicitly to suppress the warning\n",
      "  warnings.warn(\n",
      "C:\\Users\\asus\\anaconda3\\lib\\site-packages\\sklearn\\cluster\\_kmeans.py:1382: UserWarning: KMeans is known to have a memory leak on Windows with MKL, when there are less chunks than available threads. You can avoid it by setting the environment variable OMP_NUM_THREADS=5.\n",
      "  warnings.warn(\n",
      "C:\\Users\\asus\\anaconda3\\lib\\site-packages\\sklearn\\cluster\\_kmeans.py:870: FutureWarning: The default value of `n_init` will change from 10 to 'auto' in 1.4. Set the value of `n_init` explicitly to suppress the warning\n",
      "  warnings.warn(\n",
      "C:\\Users\\asus\\anaconda3\\lib\\site-packages\\sklearn\\cluster\\_kmeans.py:1382: UserWarning: KMeans is known to have a memory leak on Windows with MKL, when there are less chunks than available threads. You can avoid it by setting the environment variable OMP_NUM_THREADS=5.\n",
      "  warnings.warn(\n",
      "C:\\Users\\asus\\anaconda3\\lib\\site-packages\\sklearn\\cluster\\_kmeans.py:870: FutureWarning: The default value of `n_init` will change from 10 to 'auto' in 1.4. Set the value of `n_init` explicitly to suppress the warning\n",
      "  warnings.warn(\n",
      "C:\\Users\\asus\\anaconda3\\lib\\site-packages\\sklearn\\cluster\\_kmeans.py:1382: UserWarning: KMeans is known to have a memory leak on Windows with MKL, when there are less chunks than available threads. You can avoid it by setting the environment variable OMP_NUM_THREADS=5.\n",
      "  warnings.warn(\n",
      "C:\\Users\\asus\\anaconda3\\lib\\site-packages\\sklearn\\cluster\\_kmeans.py:870: FutureWarning: The default value of `n_init` will change from 10 to 'auto' in 1.4. Set the value of `n_init` explicitly to suppress the warning\n",
      "  warnings.warn(\n",
      "C:\\Users\\asus\\anaconda3\\lib\\site-packages\\sklearn\\cluster\\_kmeans.py:1382: UserWarning: KMeans is known to have a memory leak on Windows with MKL, when there are less chunks than available threads. You can avoid it by setting the environment variable OMP_NUM_THREADS=5.\n",
      "  warnings.warn(\n",
      "C:\\Users\\asus\\anaconda3\\lib\\site-packages\\sklearn\\cluster\\_kmeans.py:870: FutureWarning: The default value of `n_init` will change from 10 to 'auto' in 1.4. Set the value of `n_init` explicitly to suppress the warning\n",
      "  warnings.warn(\n",
      "C:\\Users\\asus\\anaconda3\\lib\\site-packages\\sklearn\\cluster\\_kmeans.py:1382: UserWarning: KMeans is known to have a memory leak on Windows with MKL, when there are less chunks than available threads. You can avoid it by setting the environment variable OMP_NUM_THREADS=5.\n",
      "  warnings.warn(\n",
      "C:\\Users\\asus\\anaconda3\\lib\\site-packages\\sklearn\\cluster\\_kmeans.py:870: FutureWarning: The default value of `n_init` will change from 10 to 'auto' in 1.4. Set the value of `n_init` explicitly to suppress the warning\n",
      "  warnings.warn(\n",
      "C:\\Users\\asus\\anaconda3\\lib\\site-packages\\sklearn\\cluster\\_kmeans.py:1382: UserWarning: KMeans is known to have a memory leak on Windows with MKL, when there are less chunks than available threads. You can avoid it by setting the environment variable OMP_NUM_THREADS=5.\n",
      "  warnings.warn(\n",
      "C:\\Users\\asus\\anaconda3\\lib\\site-packages\\sklearn\\cluster\\_kmeans.py:870: FutureWarning: The default value of `n_init` will change from 10 to 'auto' in 1.4. Set the value of `n_init` explicitly to suppress the warning\n",
      "  warnings.warn(\n",
      "C:\\Users\\asus\\anaconda3\\lib\\site-packages\\sklearn\\cluster\\_kmeans.py:1382: UserWarning: KMeans is known to have a memory leak on Windows with MKL, when there are less chunks than available threads. You can avoid it by setting the environment variable OMP_NUM_THREADS=5.\n",
      "  warnings.warn(\n",
      "C:\\Users\\asus\\anaconda3\\lib\\site-packages\\sklearn\\cluster\\_kmeans.py:870: FutureWarning: The default value of `n_init` will change from 10 to 'auto' in 1.4. Set the value of `n_init` explicitly to suppress the warning\n",
      "  warnings.warn(\n",
      "C:\\Users\\asus\\anaconda3\\lib\\site-packages\\sklearn\\cluster\\_kmeans.py:1382: UserWarning: KMeans is known to have a memory leak on Windows with MKL, when there are less chunks than available threads. You can avoid it by setting the environment variable OMP_NUM_THREADS=5.\n",
      "  warnings.warn(\n"
     ]
    },
    {
     "data": {
      "image/png": "[encoded data removed]",
      "text/plain": [
       "<Figure size 1000x600 with 1 Axes>"
      ]
     },
     "metadata": {},
     "output_type": "display_data"
    }
   ],
   "source": [
    "prop_clustering = prop[['Floor_Category', 'Tipologia_Category']]  # Subset of columns for clustering\n",
    "\n",
    "# Encoding categorical variables if needed\n",
    "label_encoder = LabelEncoder()\n",
    "for column in prop_clustering.columns:\n",
    "    if prop_clustering[column].dtype == 'object':\n",
    "        prop_clustering[column] = label_encoder.fit_transform(prop_clustering[column])\n",
    "\n",
    "# Calculate WCSS for different values of k\n",
    "wcss = []\n",
    "for k in range(1, 11):\n",
    "    kmeans = KMeans(n_clusters=k, init='k-means++', random_state=42)\n",
    "    kmeans.fit(prop_clustering)\n",
    "    wcss.append(kmeans.inertia_)\n",
    "\n",
    "# Plot the elbow graph\n",
    "plt.figure(figsize=(10, 6))\n",
    "plt.plot(range(1, 11), wcss, marker='o', linestyle='-')\n",
    "plt.title('Elbow Method')\n",
    "plt.xlabel('Number of Clusters')\n",
    "plt.ylabel('WCSS')\n",
    "plt.xticks(np.arange(1, 11, 1))\n",
    "plt.grid(True)\n",
    "plt.show()"
   ]
  },
  {
   "cell_type": "code",
   "execution_count": 88,
   "id": "a6e0da69",
   "metadata": {},
   "outputs": [
    {
     "name": "stderr",
     "output_type": "stream",
     "text": [
      "C:\\Users\\asus\\anaconda3\\lib\\site-packages\\sklearn\\cluster\\_kmeans.py:870: FutureWarning: The default value of `n_init` will change from 10 to 'auto' in 1.4. Set the value of `n_init` explicitly to suppress the warning\n",
      "  warnings.warn(\n",
      "C:\\Users\\asus\\anaconda3\\lib\\site-packages\\sklearn\\cluster\\_kmeans.py:1382: UserWarning: KMeans is known to have a memory leak on Windows with MKL, when there are less chunks than available threads. You can avoid it by setting the environment variable OMP_NUM_THREADS=5.\n",
      "  warnings.warn(\n",
      "C:\\Users\\asus\\AppData\\Local\\Temp\\ipykernel_23096\\3850321513.py:4: SettingWithCopyWarning: \n",
      "A value is trying to be set on a copy of a slice from a DataFrame.\n",
      "Try using .loc[row_indexer,col_indexer] = value instead\n",
      "\n",
      "See the caveats in the documentation: https://pandas.pydata.org/pandas-docs/stable/user_guide/indexing.html#returning-a-view-versus-a-copy\n",
      "  prop_clustering['Cluster'] = cluster_labels\n"
     ]
    }
   ],
   "source": [
    "kmeans = KMeans(n_clusters=4, init='k-means++', random_state=42)\n",
    "cluster_labels = kmeans.fit_predict(prop_clustering)\n",
    "\n",
    "prop_clustering['Cluster'] = cluster_labels\n",
    "prop['Cluster'] = cluster_labels"
   ]
  },
  {
   "cell_type": "code",
   "execution_count": 89,
   "id": "51d86833",
   "metadata": {},
   "outputs": [
    {
     "data": {
      "text/html": [
       "<div>\n",
       "<style scoped>\n",
       "    .dataframe tbody tr th:only-of-type {\n",
       "        vertical-align: middle;\n",
       "    }\n",
       "\n",
       "    .dataframe tbody tr th {\n",
       "        vertical-align: top;\n",
       "    }\n",
       "\n",
       "    .dataframe thead th {\n",
       "        text-align: right;\n",
       "    }\n",
       "</style>\n",
       "<table border=\"1\" class=\"dataframe\">\n",
       "  <thead>\n",
       "    <tr style=\"text-align: right;\">\n",
       "      <th></th>\n",
       "      <th>PropertyId</th>\n",
       "      <th>Região</th>\n",
       "      <th>Cidade</th>\n",
       "      <th>Bairro</th>\n",
       "      <th>Inativo</th>\n",
       "      <th>Data_Inicio</th>\n",
       "      <th>ArCondicionado</th>\n",
       "      <th>MaqLoica</th>\n",
       "      <th>MaqRoupa</th>\n",
       "      <th>Elevador</th>\n",
       "      <th>Andar</th>\n",
       "      <th>Tipologia</th>\n",
       "      <th>Duplex</th>\n",
       "      <th>Floor_Category</th>\n",
       "      <th>Tipologia_Category</th>\n",
       "      <th>Cluster</th>\n",
       "    </tr>\n",
       "  </thead>\n",
       "  <tbody>\n",
       "    <tr>\n",
       "      <th>0</th>\n",
       "      <td>1</td>\n",
       "      <td>Lisboa</td>\n",
       "      <td>Lisboa</td>\n",
       "      <td>Santa Catarina</td>\n",
       "      <td>0</td>\n",
       "      <td>2014-08-05</td>\n",
       "      <td>1</td>\n",
       "      <td>1</td>\n",
       "      <td>1</td>\n",
       "      <td>0</td>\n",
       "      <td>R/C</td>\n",
       "      <td>T2</td>\n",
       "      <td>0</td>\n",
       "      <td>Ground Floor and Basement</td>\n",
       "      <td>Small Apartments (T1-T2)</td>\n",
       "      <td>0</td>\n",
       "    </tr>\n",
       "  </tbody>\n",
       "</table>\n",
       "</div>"
      ],
      "text/plain": [
       "   PropertyId  Região  Cidade          Bairro  Inativo Data_Inicio  \\\n",
       "0           1  Lisboa  Lisboa  Santa Catarina        0  2014-08-05   \n",
       "\n",
       "   ArCondicionado  MaqLoica  MaqRoupa  Elevador Andar Tipologia  Duplex  \\\n",
       "0               1         1         1         0   R/C        T2       0   \n",
       "\n",
       "              Floor_Category        Tipologia_Category  Cluster  \n",
       "0  Ground Floor and Basement  Small Apartments (T1-T2)        0  "
      ]
     },
     "execution_count": 89,
     "metadata": {},
     "output_type": "execute_result"
    }
   ],
   "source": [
    "prop.head(1)"
   ]
  },
  {
   "cell_type": "code",
   "execution_count": 90,
   "id": "cffdd258",
   "metadata": {},
   "outputs": [
    {
     "data": {
      "text/html": [
       "<div>\n",
       "<style scoped>\n",
       "    .dataframe tbody tr th:only-of-type {\n",
       "        vertical-align: middle;\n",
       "    }\n",
       "\n",
       "    .dataframe tbody tr th {\n",
       "        vertical-align: top;\n",
       "    }\n",
       "\n",
       "    .dataframe thead th {\n",
       "        text-align: right;\n",
       "    }\n",
       "</style>\n",
       "<table border=\"1\" class=\"dataframe\">\n",
       "  <thead>\n",
       "    <tr style=\"text-align: right;\">\n",
       "      <th></th>\n",
       "      <th>Floor_Category</th>\n",
       "      <th>Tipologia_Category</th>\n",
       "    </tr>\n",
       "    <tr>\n",
       "      <th>Cluster</th>\n",
       "      <th></th>\n",
       "      <th></th>\n",
       "    </tr>\n",
       "  </thead>\n",
       "  <tbody>\n",
       "    <tr>\n",
       "      <th>0</th>\n",
       "      <td>0.010152</td>\n",
       "      <td>2.208122</td>\n",
       "    </tr>\n",
       "    <tr>\n",
       "      <th>1</th>\n",
       "      <td>2.309091</td>\n",
       "      <td>3.618182</td>\n",
       "    </tr>\n",
       "    <tr>\n",
       "      <th>2</th>\n",
       "      <td>1.967010</td>\n",
       "      <td>1.820619</td>\n",
       "    </tr>\n",
       "    <tr>\n",
       "      <th>3</th>\n",
       "      <td>3.413333</td>\n",
       "      <td>1.600000</td>\n",
       "    </tr>\n",
       "  </tbody>\n",
       "</table>\n",
       "</div>"
      ],
      "text/plain": [
       "         Floor_Category  Tipologia_Category\n",
       "Cluster                                    \n",
       "0              0.010152            2.208122\n",
       "1              2.309091            3.618182\n",
       "2              1.967010            1.820619\n",
       "3              3.413333            1.600000"
      ]
     },
     "execution_count": 90,
     "metadata": {},
     "output_type": "execute_result"
    }
   ],
   "source": [
    "cluster_info = prop_clustering.groupby('Cluster').mean()\n",
    "cluster_info"
   ]
  },
  {
   "cell_type": "code",
   "execution_count": 91,
   "id": "19f95ceb",
   "metadata": {},
   "outputs": [],
   "source": [
    "cluster_labels = {\n",
    "    0: 'Ground-Level Medium Apartments',\n",
    "    1: 'Higher-Floor Large Apartments',\n",
    "    2: 'Middle-Floor Medium Apartments',\n",
    "    3: 'Higher-Floor Medium Apartments'\n",
    "}\n",
    "\n",
    "# Assign cluster labels based on cluster numbers\n",
    "prop['Cluster'] = prop['Cluster'].map(cluster_labels)"
   ]
  },
  {
   "cell_type": "markdown",
   "id": "48d2498a",
   "metadata": {},
   "source": [
    "### Base de dados Hóspedes"
   ]
  },
  {
   "cell_type": "code",
   "execution_count": 92,
   "id": "372fbe01",
   "metadata": {},
   "outputs": [
    {
     "data": {
      "text/html": [
       "<div>\n",
       "<style scoped>\n",
       "    .dataframe tbody tr th:only-of-type {\n",
       "        vertical-align: middle;\n",
       "    }\n",
       "\n",
       "    .dataframe tbody tr th {\n",
       "        vertical-align: top;\n",
       "    }\n",
       "\n",
       "    .dataframe thead th {\n",
       "        text-align: right;\n",
       "    }\n",
       "</style>\n",
       "<table border=\"1\" class=\"dataframe\">\n",
       "  <thead>\n",
       "    <tr style=\"text-align: right;\">\n",
       "      <th></th>\n",
       "      <th>ReservationId</th>\n",
       "      <th>Age</th>\n",
       "      <th>GuestCountry</th>\n",
       "    </tr>\n",
       "  </thead>\n",
       "  <tbody>\n",
       "    <tr>\n",
       "      <th>0</th>\n",
       "      <td>43464</td>\n",
       "      <td>59.0</td>\n",
       "      <td>DE</td>\n",
       "    </tr>\n",
       "    <tr>\n",
       "      <th>1</th>\n",
       "      <td>53670</td>\n",
       "      <td>34.0</td>\n",
       "      <td>PT</td>\n",
       "    </tr>\n",
       "    <tr>\n",
       "      <th>2</th>\n",
       "      <td>52032</td>\n",
       "      <td>55.0</td>\n",
       "      <td>FR</td>\n",
       "    </tr>\n",
       "    <tr>\n",
       "      <th>3</th>\n",
       "      <td>53437</td>\n",
       "      <td>58.0</td>\n",
       "      <td>EC</td>\n",
       "    </tr>\n",
       "    <tr>\n",
       "      <th>4</th>\n",
       "      <td>49332</td>\n",
       "      <td>68.0</td>\n",
       "      <td>AU</td>\n",
       "    </tr>\n",
       "    <tr>\n",
       "      <th>...</th>\n",
       "      <td>...</td>\n",
       "      <td>...</td>\n",
       "      <td>...</td>\n",
       "    </tr>\n",
       "    <tr>\n",
       "      <th>9160</th>\n",
       "      <td>1879187225</td>\n",
       "      <td>44.0</td>\n",
       "      <td>ITA</td>\n",
       "    </tr>\n",
       "    <tr>\n",
       "      <th>9161</th>\n",
       "      <td>1879178958</td>\n",
       "      <td>39.0</td>\n",
       "      <td>DEU</td>\n",
       "    </tr>\n",
       "    <tr>\n",
       "      <th>9162</th>\n",
       "      <td>1879178889</td>\n",
       "      <td>40.0</td>\n",
       "      <td>GBR</td>\n",
       "    </tr>\n",
       "    <tr>\n",
       "      <th>9163</th>\n",
       "      <td>1879183798</td>\n",
       "      <td>23.0</td>\n",
       "      <td>PRT</td>\n",
       "    </tr>\n",
       "    <tr>\n",
       "      <th>9164</th>\n",
       "      <td>1879190591</td>\n",
       "      <td>30.0</td>\n",
       "      <td>GBR</td>\n",
       "    </tr>\n",
       "  </tbody>\n",
       "</table>\n",
       "<p>9165 rows × 3 columns</p>\n",
       "</div>"
      ],
      "text/plain": [
       "      ReservationId   Age GuestCountry\n",
       "0             43464  59.0           DE\n",
       "1             53670  34.0           PT\n",
       "2             52032  55.0           FR\n",
       "3             53437  58.0           EC\n",
       "4             49332  68.0           AU\n",
       "...             ...   ...          ...\n",
       "9160     1879187225  44.0          ITA\n",
       "9161     1879178958  39.0          DEU\n",
       "9162     1879178889  40.0          GBR\n",
       "9163     1879183798  23.0          PRT\n",
       "9164     1879190591  30.0          GBR\n",
       "\n",
       "[9165 rows x 3 columns]"
      ]
     },
     "execution_count": 92,
     "metadata": {},
     "output_type": "execute_result"
    }
   ],
   "source": [
    "guests"
   ]
  },
  {
   "cell_type": "code",
   "execution_count": 93,
   "id": "c8b1ffc8",
   "metadata": {},
   "outputs": [
    {
     "data": {
      "text/plain": [
       "array([  59.,   34.,   55.,   58.,   68.,   39.,   30.,   62.,   40.,\n",
       "         38.,   25.,   45.,   69.,   61.,   31.,   51.,   57.,   43.,\n",
       "         47.,   48.,   37.,   46.,   26.,   77.,   50.,   71.,   33.,\n",
       "         49.,   32.,   52.,   36.,   64.,   27.,   41.,   29.,   42.,\n",
       "         35.,   28.,   44.,   56.,   63.,   24.,   66.,   76.,   54.,\n",
       "         70.,   65.,   67.,   72.,   53.,   23.,   22.,   60.,    5.,\n",
       "         74.,   75.,   21.,    4.,   nan,   17.,   73.,   78.,  155.,\n",
       "         79.,  944.,   89.,   81.,   11.,    6.,   20.,    3.,    9.,\n",
       "       -961.,   83.,    7.,   19., -951.,   80.,    2.,    1.,   10.,\n",
       "         15.,   18.,   -2.,   -6.,   16.,    0.])"
      ]
     },
     "execution_count": 93,
     "metadata": {},
     "output_type": "execute_result"
    }
   ],
   "source": [
    "guests['Age'].unique()"
   ]
  },
  {
   "cell_type": "code",
   "execution_count": 94,
   "id": "f1ed28bb",
   "metadata": {},
   "outputs": [
    {
     "data": {
      "text/plain": [
       "ReservationId  Age     GuestCountry\n",
       "1812030014     -961.0  ES              1\n",
       "dtype: int64"
      ]
     },
     "execution_count": 94,
     "metadata": {},
     "output_type": "execute_result"
    }
   ],
   "source": [
    "guests[guests['Age']==-961].value_counts()"
   ]
  },
  {
   "cell_type": "code",
   "execution_count": 95,
   "id": "fa2e4d57",
   "metadata": {},
   "outputs": [
    {
     "data": {
      "text/plain": [
       "ReservationId  Age     GuestCountry\n",
       "1879083437     -951.0  PT              1\n",
       "dtype: int64"
      ]
     },
     "execution_count": 95,
     "metadata": {},
     "output_type": "execute_result"
    }
   ],
   "source": [
    "guests[guests['Age']==-951].value_counts()"
   ]
  },
  {
   "cell_type": "code",
   "execution_count": 96,
   "id": "ff19ce8f",
   "metadata": {},
   "outputs": [
    {
     "data": {
      "text/plain": [
       "ReservationId  Age  GuestCountry\n",
       "1879181329     0.0  GBR             1\n",
       "dtype: int64"
      ]
     },
     "execution_count": 96,
     "metadata": {},
     "output_type": "execute_result"
    }
   ],
   "source": [
    "guests[guests['Age']==0].value_counts()"
   ]
  },
  {
   "cell_type": "code",
   "execution_count": 97,
   "id": "372b8261",
   "metadata": {},
   "outputs": [
    {
     "data": {
      "text/plain": [
       "ReservationId  Age    GuestCountry\n",
       "74037          155.0  FI              1\n",
       "dtype: int64"
      ]
     },
     "execution_count": 97,
     "metadata": {},
     "output_type": "execute_result"
    }
   ],
   "source": [
    "guests[guests['Age']==155].value_counts()"
   ]
  },
  {
   "cell_type": "code",
   "execution_count": 98,
   "id": "9f2afce4",
   "metadata": {},
   "outputs": [
    {
     "data": {
      "text/plain": [
       "ReservationId  Age    GuestCountry\n",
       "1812018409     944.0  ES              1\n",
       "dtype: int64"
      ]
     },
     "execution_count": 98,
     "metadata": {},
     "output_type": "execute_result"
    }
   ],
   "source": [
    "guests[guests['Age']==944].value_counts()"
   ]
  },
  {
   "cell_type": "code",
   "execution_count": 99,
   "id": "48ecd1dd",
   "metadata": {},
   "outputs": [
    {
     "data": {
      "text/plain": [
       "array(['DE', 'PT', 'FR', 'EC', 'AU', 'SI', 'GB', 'US', 'CL', 'CA', 'BE',\n",
       "       'BR', 'PL', 'CH', 'ES', 'Netherlands', 'ZA', 'IT', 'AR', 'PK',\n",
       "       'NL', 'LV', 'CN', 'CO', 'SG', 'HU', 'DK', 'IE', 'EE', 'HR', 'LB',\n",
       "       'RU', 'IN', 'IL', 'NZ', 'UA', 'TR', 'NO', 'SE', 'MX', 'USA', 'LT',\n",
       "       'RO', 'GR', 'AT', 'FI', 'SK', 'TW', 'AL', 'MY', 'CZ', 'frança',\n",
       "       'canada', 'KR', 'Noruega', 'VN', 'JP', 'Alemanha', 'reino unido',\n",
       "       'Espanha', 'TN', 'BG', 'EG', 'HK', 'eua', 'MC', 'Canadá', 'BY',\n",
       "       'GE', 'usa', 'dinamarca', 'china', 'holanda', 'italia', 'suiça',\n",
       "       'austria', 'HT', 'França', 'PH', 'Suiça', 'Portugal',\n",
       "       'Reino Unido', 'africa do sul', 'HM5WTSDMF8', 'alemanha',\n",
       "       'Republica checa', 'es', 'EUA', 'india', 'Holanda', 'SUIÇA',\n",
       "       'californio', 'pt', 'LU', 'CU', 'espanha', 'PA', 'portugal', 'fr',\n",
       "       'Filandia', 'mexico', 'IR', 'republica dominicana', 'br',\n",
       "       'HOLANDA', 'argentina', 'LY', 'republica checa', 'GT', 'turquia',\n",
       "       'Austria', 'brasil', 'UK', 'belgica', 'Denmark', 'Romenia',\n",
       "       'ucrania', 'VE', 'Libano', 'ITALIA', 'China',\n",
       "       'emirados arabes unidos', 'gemany', 'Brazil', 'Romania', 'Belgium',\n",
       "       'REINO UNIDO', 393488252767, 'it', 'RS', 'Germany', 'UY', 'grecia',\n",
       "       'germany', 'South Korea', 'polonia', 'tanzania', 'uk', 'Sweden',\n",
       "       'ID', 'colombia', 'Finland', 'potugal', 'BA', 'eslovaquia',\n",
       "       'Irlanda', 'Peru', 'Australia', 'BD', 'AM', 'Israel', 'BO',\n",
       "       'Italy', 'SD', 'australia', 'taiwan', 'kr', 'Uruguai', 'be', 'PE',\n",
       "       'MT', 'CR', 'Reino unido', 'AO', 'Itália', 'Colombia', 'Poland',\n",
       "       'Mexico', 'Ireland', 'Croácia', 'Brasil', 'suecia', 'Colômbia',\n",
       "       'coreia do sul', 'KZ', 'canadá', 'Hong Kong', 'catar', 'peru',\n",
       "       'South Africa', 'Canada', 'Argentina', 'chile', 'MZ', 'Bulgaria',\n",
       "       'estonia', 'Spain', 'irlanda', 'Dinamarca', 'Singapura', 'SZ',\n",
       "       'russia', 'Bélgica', 'Suecia', 'Bulgária', 'itália', 'MA',\n",
       "       'Suécia', 'AD', 'Républica Tcheca', 'India', 'SA', 'ZW', 'France',\n",
       "       'MK', 'CHILE', 'SV', 'Africa do Sul', 'Republica Tcheca',\n",
       "       'Tailândia', 'África do Sul', 'FRANÇA', 'Costa Rica', 'singapura',\n",
       "       'south korea', 'Ucrânia', 'Russia', 'Singapore', 'Switzerland',\n",
       "       'espanhol', 'Polónia', 'United Kingdom', 'romania', 'Malasia',\n",
       "       'Switzerand', 'Korea, South', 'Grécia', 'Slovak Republic',\n",
       "       'Pologne', 'Uruguay', 'bielorrusia', 'Greece', 'letonia',\n",
       "       ' czech republic', 'Indonesia', 'KP', 'japao', 'Austrália',\n",
       "       'Sapin', 'filipinas', 'cazaquistao', 'Malta', 'Dominica Islands',\n",
       "       'Taiwan', 'Venezuela', 'malasia', 'Kuwait', 'tibete', 'lituania',\n",
       "       'Hungria', 'Eslováquia', 'romenia', 'DZ', 'Hungary', 'Marrocos',\n",
       "       'hong kong', 'Suíça', 'KW', 'NG', 'CHE', 'GBR', 'ESP', 'DEU',\n",
       "       'UKR', 'PRT', 'FRA', 'ITA', 'ROU', 'CZE', 'AZE', 'IRL', 'POL',\n",
       "       'MOZ', 'LUX', nan, 'CAN', 'AUS', 'SVK', 'NLD', 'BRA', 'RUS', 'BGR',\n",
       "       'BEL', 'MEX', 'AUT', 'COL', 'SWE', 'IND', 'GRC', 'TUN', 'KOR',\n",
       "       'CPV', 'ZAF', 'ISR', 'CHL', 'DNK', 'DZA', 'HUN', 'CYP', 'EST',\n",
       "       'NZL', 'ARG', 'SVN', 'AGO', 'HRV', 'TUR', 'ANT', 'CHN', 'HTI',\n",
       "       'VNM', 'ARE', 'LTU', 'LVA', 'PER', 'VEN', 'PHL', 'DOM', 'SGP',\n",
       "       'MKD', 'TGO', 'ECU', 'FIN', 'THA', 'BLR', 'SRB', 'LKA', 'SEN',\n",
       "       'COD', 'IDN', 'NOR', 'PRI', 'GUF', 'URY', 'SAU', 'MDG', 'WLF',\n",
       "       'MAR', 'HND', 'JPN', 'MTQ', 'GEO'], dtype=object)"
      ]
     },
     "execution_count": 99,
     "metadata": {},
     "output_type": "execute_result"
    }
   ],
   "source": [
    "guests['GuestCountry'].unique()"
   ]
  },
  {
   "cell_type": "code",
   "execution_count": 100,
   "id": "8b51e968",
   "metadata": {},
   "outputs": [
    {
     "data": {
      "text/plain": [
       "FR              779\n",
       "ES              660\n",
       "FRA             505\n",
       "DE              434\n",
       "PT              421\n",
       "               ... \n",
       "romania           1\n",
       "Malasia           1\n",
       "Switzerand        1\n",
       "Korea, South      1\n",
       "GEO               1\n",
       "Name: GuestCountry, Length: 340, dtype: int64"
      ]
     },
     "execution_count": 100,
     "metadata": {},
     "output_type": "execute_result"
    }
   ],
   "source": [
    "guests['GuestCountry'].value_counts()"
   ]
  },
  {
   "cell_type": "code",
   "execution_count": 101,
   "id": "489a33e5",
   "metadata": {},
   "outputs": [],
   "source": [
    "values_to_replace =['Portugal','portugal','pt','potugal','PRT']\n",
    "replacement_value =  'PT'\n",
    "guests['GuestCountry'] = guests['GuestCountry'].replace(values_to_replace, replacement_value)"
   ]
  },
  {
   "cell_type": "code",
   "execution_count": 102,
   "id": "152238f1",
   "metadata": {},
   "outputs": [],
   "source": [
    "values_to_replace =['Alemanha','alemanha', 'germany', 'gemany', 'Germany', 'ALEMANHA', 'DEU', 'gemany','German']\n",
    "replacement_value =  'DE'\n",
    "guests['GuestCountry'] = guests['GuestCountry'].replace(values_to_replace, replacement_value)"
   ]
  },
  {
   "cell_type": "code",
   "execution_count": 103,
   "id": "a4c9d20a",
   "metadata": {},
   "outputs": [],
   "source": [
    "values_to_replace =['frança','França', 'fr', 'FRANÇA','FRA','France']\n",
    "replacement_value =  'FR'\n",
    "guests['GuestCountry'] = guests['GuestCountry'].replace(values_to_replace, replacement_value)"
   ]
  },
  {
   "cell_type": "code",
   "execution_count": 104,
   "id": "190cbe5f",
   "metadata": {},
   "outputs": [],
   "source": [
    "values_to_replace =['ECU']\n",
    "replacement_value =  'EC'\n",
    "guests['GuestCountry'] = guests['GuestCountry'].replace(values_to_replace, replacement_value)"
   ]
  },
  {
   "cell_type": "code",
   "execution_count": 105,
   "id": "cd3697ee",
   "metadata": {},
   "outputs": [],
   "source": [
    "values_to_replace =['Australia','Austrália','australia','Austrália','AUS']\n",
    "replacement_value =  'AU'\n",
    "guests['GuestCountry'] = guests['GuestCountry'].replace(values_to_replace, replacement_value)"
   ]
  },
  {
   "cell_type": "code",
   "execution_count": 106,
   "id": "c5c11511",
   "metadata": {},
   "outputs": [],
   "source": [
    "values_to_replace =['Reino Unido','reino unido','Reino unido','UK','United Kingdom','GBR','REINO UNIDO','uk']\n",
    "replacement_value =  'GB'\n",
    "guests['GuestCountry'] = guests['GuestCountry'].replace(values_to_replace, replacement_value)"
   ]
  },
  {
   "cell_type": "code",
   "execution_count": 107,
   "id": "d1dab763",
   "metadata": {},
   "outputs": [],
   "source": [
    "values_to_replace =['USA','eua','usa','EUA','californio']\n",
    "replacement_value =  'US'\n",
    "guests['GuestCountry'] = guests['GuestCountry'].replace(values_to_replace, replacement_value)"
   ]
  },
  {
   "cell_type": "code",
   "execution_count": 108,
   "id": "91c6be40",
   "metadata": {},
   "outputs": [],
   "source": [
    "values_to_replace =['chile','CHILE','CHL']\n",
    "replacement_value =  'CL'\n",
    "guests['GuestCountry'] = guests['GuestCountry'].replace(values_to_replace, replacement_value)"
   ]
  },
  {
   "cell_type": "code",
   "execution_count": 109,
   "id": "928263c9",
   "metadata": {},
   "outputs": [],
   "source": [
    "values_to_replace =['canada','Canadá','CAN','canadá','Canada']\n",
    "replacement_value =  'CA'\n",
    "guests['GuestCountry'] = guests['GuestCountry'].replace(values_to_replace, replacement_value)"
   ]
  },
  {
   "cell_type": "code",
   "execution_count": 110,
   "id": "6171e1b2",
   "metadata": {},
   "outputs": [],
   "source": [
    "values_to_replace =['belgica','Bélgica','belgium','BEL','Belgium','be']\n",
    "replacement_value =  'BE'\n",
    "guests['GuestCountry'] = guests['GuestCountry'].replace(values_to_replace, replacement_value)"
   ]
  },
  {
   "cell_type": "code",
   "execution_count": 111,
   "id": "9a050f5e",
   "metadata": {},
   "outputs": [],
   "source": [
    "values_to_replace =['br','brasil','Brazil','Brasil','BRA']\n",
    "replacement_value =  'BR'\n",
    "guests['GuestCountry'] = guests['GuestCountry'].replace(values_to_replace, replacement_value)"
   ]
  },
  {
   "cell_type": "code",
   "execution_count": 112,
   "id": "3374bdaf",
   "metadata": {},
   "outputs": [],
   "source": [
    "values_to_replace =['polonia', 'POL','polonia', 'Polónia', 'Poland', 'Pologne']\n",
    "replacement_value =  'PL'\n",
    "guests['GuestCountry'] = guests['GuestCountry'].replace(values_to_replace, replacement_value)"
   ]
  },
  {
   "cell_type": "code",
   "execution_count": 113,
   "id": "f8dd40ca",
   "metadata": {},
   "outputs": [],
   "source": [
    "values_to_replace =['Suiça', 'SUIÇA','suíça', 'Suíça', 'Switzerland','CHE','suiça','Switzerand']\n",
    "replacement_value =  'CH'\n",
    "guests['GuestCountry'] = guests['GuestCountry'].replace(values_to_replace, replacement_value)"
   ]
  },
  {
   "cell_type": "code",
   "execution_count": 114,
   "id": "943ceec5",
   "metadata": {},
   "outputs": [],
   "source": [
    "values_to_replace =['ES', 'Espanha', 'espanha', 'ESP', 'spanish', 'es', 'espanhol','Spain']\n",
    "replacement_value =  'ES'\n",
    "guests['GuestCountry'] = guests['GuestCountry'].replace(values_to_replace, replacement_value)"
   ]
  },
  {
   "cell_type": "code",
   "execution_count": 115,
   "id": "cd1be1cd",
   "metadata": {},
   "outputs": [],
   "source": [
    "values_to_replace =['Netherlands', 'holanda', 'HOLANDA', 'Holanda','NLD']\n",
    "replacement_value =  'NL'\n",
    "guests['GuestCountry'] = guests['GuestCountry'].replace(values_to_replace, replacement_value)"
   ]
  },
  {
   "cell_type": "code",
   "execution_count": 116,
   "id": "f7a47466",
   "metadata": {},
   "outputs": [],
   "source": [
    "values_to_replace =['africa do sul', 'África do Sul', 'South Africa','Africa do Sul','ZAF']\n",
    "replacement_value =  'ZA'\n",
    "guests['GuestCountry'] = guests['GuestCountry'].replace(values_to_replace, replacement_value)"
   ]
  },
  {
   "cell_type": "code",
   "execution_count": 117,
   "id": "40aeb3f6",
   "metadata": {},
   "outputs": [],
   "source": [
    "values_to_replace =['italia', 'Itália', 'Itália', 'Italia', 'italia', 'Itália', 'it', 'italy','ITA','ITALIA','itália','Italy']\n",
    "replacement_value =  'IT'\n",
    "guests['GuestCountry'] = guests['GuestCountry'].replace(values_to_replace, replacement_value)"
   ]
  },
  {
   "cell_type": "code",
   "execution_count": 118,
   "id": "e0125169",
   "metadata": {},
   "outputs": [],
   "source": [
    "values_to_replace =['ar', 'Argentina', 'argentina','ARG']\n",
    "replacement_value =  'AR'\n",
    "guests['GuestCountry'] = guests['GuestCountry'].replace(values_to_replace, replacement_value)"
   ]
  },
  {
   "cell_type": "code",
   "execution_count": 119,
   "id": "87e42aba",
   "metadata": {},
   "outputs": [],
   "source": [
    "values_to_replace =['pakistan', 'PAKISTAN', 'paquistao', 'pakistan','PAISTAN']\n",
    "replacement_value =  'PK'\n",
    "guests['GuestCountry'] = guests['GuestCountry'].replace(values_to_replace, replacement_value)"
   ]
  },
  {
   "cell_type": "code",
   "execution_count": 120,
   "id": "d4cb51bb",
   "metadata": {},
   "outputs": [],
   "source": [
    "values_to_replace =['letonia','LVA']\n",
    "replacement_value =  'LV'\n",
    "guests['GuestCountry'] = guests['GuestCountry'].replace(values_to_replace, replacement_value)"
   ]
  },
  {
   "cell_type": "code",
   "execution_count": 121,
   "id": "2085019f",
   "metadata": {},
   "outputs": [],
   "source": [
    "values_to_replace =['china','China','CHN']\n",
    "replacement_value =  'CN'\n",
    "guests['GuestCountry'] = guests['GuestCountry'].replace(values_to_replace, replacement_value)"
   ]
  },
  {
   "cell_type": "code",
   "execution_count": 122,
   "id": "5e21925b",
   "metadata": {},
   "outputs": [],
   "source": [
    "values_to_replace =['colombia','Colombia','Colômbia','COL']\n",
    "replacement_value =  'CO'\n",
    "guests['GuestCountry'] = guests['GuestCountry'].replace(values_to_replace, replacement_value)"
   ]
  },
  {
   "cell_type": "code",
   "execution_count": 123,
   "id": "e8bd98fe",
   "metadata": {},
   "outputs": [],
   "source": [
    "values_to_replace =['Singapura', 'Sapin', 'singapura','SGP','Singapore']\n",
    "replacement_value =  'SG'\n",
    "guests['GuestCountry'] = guests['GuestCountry'].replace(values_to_replace, replacement_value)"
   ]
  },
  {
   "cell_type": "code",
   "execution_count": 124,
   "id": "b79caff7",
   "metadata": {},
   "outputs": [],
   "source": [
    "values_to_replace =['hungary', 'hungria','Hungria','Hungary','HUN']\n",
    "replacement_value =  'HU'\n",
    "guests['GuestCountry'] = guests['GuestCountry'].replace(values_to_replace, replacement_value)"
   ]
  },
  {
   "cell_type": "code",
   "execution_count": 125,
   "id": "e7742cd7",
   "metadata": {},
   "outputs": [],
   "source": [
    "values_to_replace =['dinamarca','Denmark','Dinamarca','DNK']\n",
    "replacement_value =  'DK'\n",
    "guests['GuestCountry'] = guests['GuestCountry'].replace(values_to_replace, replacement_value)"
   ]
  },
  {
   "cell_type": "code",
   "execution_count": 126,
   "id": "28de2d59",
   "metadata": {},
   "outputs": [],
   "source": [
    "values_to_replace =['Irlanda', 'irlanda', 'Ireland', 'ireland','IRL']\n",
    "replacement_value =  'IE'\n",
    "guests['GuestCountry'] = guests['GuestCountry'].replace(values_to_replace, replacement_value)"
   ]
  },
  {
   "cell_type": "code",
   "execution_count": 127,
   "id": "b33d93b6",
   "metadata": {},
   "outputs": [],
   "source": [
    "values_to_replace =['estonia','EST']\n",
    "replacement_value =  'EE'\n",
    "guests['GuestCountry'] = guests['GuestCountry'].replace(values_to_replace, replacement_value)"
   ]
  },
  {
   "cell_type": "code",
   "execution_count": 128,
   "id": "b2957a9c",
   "metadata": {},
   "outputs": [],
   "source": [
    "values_to_replace = ['Croácia', 'Croatia','HRV']\n",
    "replacement_value =  'HR'\n",
    "guests['GuestCountry'] = guests['GuestCountry'].replace(values_to_replace, replacement_value)"
   ]
  },
  {
   "cell_type": "code",
   "execution_count": 129,
   "id": "689545da",
   "metadata": {},
   "outputs": [],
   "source": [
    "values_to_replace =['Libano']\n",
    "replacement_value =  'LB'\n",
    "guests['GuestCountry'] = guests['GuestCountry'].replace(values_to_replace, replacement_value)"
   ]
  },
  {
   "cell_type": "code",
   "execution_count": 130,
   "id": "ddb22e9e",
   "metadata": {},
   "outputs": [],
   "source": [
    "values_to_replace =['russia','Russia','RUS']\n",
    "replacement_value =  'RU'\n",
    "guests['GuestCountry'] = guests['GuestCountry'].replace(values_to_replace, replacement_value)"
   ]
  },
  {
   "cell_type": "code",
   "execution_count": 131,
   "id": "89d30a1a",
   "metadata": {},
   "outputs": [],
   "source": [
    "values_to_replace =['india','IND','India']\n",
    "replacement_value =  'IN'\n",
    "guests['GuestCountry'] = guests['GuestCountry'].replace(values_to_replace, replacement_value)"
   ]
  },
  {
   "cell_type": "code",
   "execution_count": 132,
   "id": "953deaee",
   "metadata": {},
   "outputs": [],
   "source": [
    "values_to_replace =['Israel','ISR']\n",
    "replacement_value =  'IL'\n",
    "guests['GuestCountry'] = guests['GuestCountry'].replace(values_to_replace, replacement_value)"
   ]
  },
  {
   "cell_type": "code",
   "execution_count": 133,
   "id": "68054c38",
   "metadata": {},
   "outputs": [],
   "source": [
    "values_to_replace =['New Zealand','NZL']\n",
    "replacement_value =  'NZ'\n",
    "guests['GuestCountry'] = guests['GuestCountry'].replace(values_to_replace, replacement_value)"
   ]
  },
  {
   "cell_type": "code",
   "execution_count": 134,
   "id": "63453fde",
   "metadata": {},
   "outputs": [],
   "source": [
    "values_to_replace =['UCRANIA', 'ucrania','UKR','Ucrânia']\n",
    "replacement_value =  'UA'\n",
    "guests['GuestCountry'] = guests['GuestCountry'].replace(values_to_replace, replacement_value)"
   ]
  },
  {
   "cell_type": "code",
   "execution_count": 135,
   "id": "21cb7829",
   "metadata": {},
   "outputs": [],
   "source": [
    "values_to_replace =['turquia','TUR']\n",
    "replacement_value =  'TR'\n",
    "guests['GuestCountry'] = guests['GuestCountry'].replace(values_to_replace, replacement_value)"
   ]
  },
  {
   "cell_type": "code",
   "execution_count": 136,
   "id": "9ba6eec3",
   "metadata": {},
   "outputs": [],
   "source": [
    "values_to_replace =['Noruega', 'noruega','NOR']\n",
    "replacement_value =  'NO'\n",
    "guests['GuestCountry'] = guests['GuestCountry'].replace(values_to_replace, replacement_value)"
   ]
  },
  {
   "cell_type": "code",
   "execution_count": 137,
   "id": "8dd7c734",
   "metadata": {},
   "outputs": [],
   "source": [
    "values_to_replace =['Suécia', 'suecia', 'Suecia', 'Sweden','SWE']\n",
    "replacement_value =  'SE'\n",
    "guests['GuestCountry'] = guests['GuestCountry'].replace(values_to_replace, replacement_value)"
   ]
  },
  {
   "cell_type": "code",
   "execution_count": 138,
   "id": "7fbbe251",
   "metadata": {},
   "outputs": [],
   "source": [
    "values_to_replace =['mexico', 'Mexico', 'MEX', 'mexico']\n",
    "replacement_value =  'MX'\n",
    "guests['GuestCountry'] = guests['GuestCountry'].replace(values_to_replace, replacement_value)"
   ]
  },
  {
   "cell_type": "code",
   "execution_count": 139,
   "id": "5a8fd121",
   "metadata": {},
   "outputs": [],
   "source": [
    "values_to_replace =['LTU', 'lituania']\n",
    "replacement_value =  'LT'\n",
    "guests['GuestCountry'] = guests['GuestCountry'].replace(values_to_replace, replacement_value)"
   ]
  },
  {
   "cell_type": "code",
   "execution_count": 140,
   "id": "5725a5f1",
   "metadata": {},
   "outputs": [],
   "source": [
    "values_to_replace =['Romenia', 'Romania', 'Romenia', 'romenia','romania','ROU']\n",
    "replacement_value =  'RO'\n",
    "guests['GuestCountry'] = guests['GuestCountry'].replace(values_to_replace, replacement_value)"
   ]
  },
  {
   "cell_type": "code",
   "execution_count": 141,
   "id": "15f91010",
   "metadata": {},
   "outputs": [],
   "source": [
    "values_to_replace = ['grecia', 'GRE', 'greece', 'Grécia','Greece','GRC']\n",
    "replacement_value =  'GR'\n",
    "guests['GuestCountry'] = guests['GuestCountry'].replace(values_to_replace, replacement_value)"
   ]
  },
  {
   "cell_type": "code",
   "execution_count": 142,
   "id": "97097182",
   "metadata": {},
   "outputs": [],
   "source": [
    "values_to_replace = ['AUT', 'austria','Austria']\n",
    "replacement_value =  'AT'\n",
    "guests['GuestCountry'] = guests['GuestCountry'].replace(values_to_replace, replacement_value)"
   ]
  },
  {
   "cell_type": "code",
   "execution_count": 143,
   "id": "edb082f5",
   "metadata": {},
   "outputs": [],
   "source": [
    "values_to_replace = ['Filandia', 'Finland','FIN']\n",
    "replacement_value =  'FI'\n",
    "guests['GuestCountry'] = guests['GuestCountry'].replace(values_to_replace, replacement_value)"
   ]
  },
  {
   "cell_type": "code",
   "execution_count": 144,
   "id": "f1cb80cd",
   "metadata": {},
   "outputs": [],
   "source": [
    "values_to_replace = ['Taiwan', 'taiwan']\n",
    "replacement_value =  'TW'\n",
    "guests['GuestCountry'] = guests['GuestCountry'].replace(values_to_replace, replacement_value)\n"
   ]
  },
  {
   "cell_type": "code",
   "execution_count": 145,
   "id": "b541c08e",
   "metadata": {},
   "outputs": [],
   "source": [
    "values_to_replace = ['Eslováquia', 'eslovaquia','Slovak Republic','SVK']\n",
    "replacement_value =  'SK'\n",
    "guests['GuestCountry'] = guests['GuestCountry'].replace(values_to_replace, replacement_value)"
   ]
  },
  {
   "cell_type": "code",
   "execution_count": 146,
   "id": "f4f111cd",
   "metadata": {},
   "outputs": [],
   "source": [
    "values_to_replace = ['ALB', 'Albania', 'albania']\n",
    "replacement_value =  'AL'\n",
    "guests['GuestCountry'] = guests['GuestCountry'].replace(values_to_replace, replacement_value)"
   ]
  },
  {
   "cell_type": "code",
   "execution_count": 147,
   "id": "1672a745",
   "metadata": {},
   "outputs": [],
   "source": [
    "values_to_replace = ['malasia', 'Malasia']\n",
    "replacement_value =  'MY'\n",
    "guests['GuestCountry'] = guests['GuestCountry'].replace(values_to_replace, replacement_value)"
   ]
  },
  {
   "cell_type": "code",
   "execution_count": 148,
   "id": "ff725e7d",
   "metadata": {},
   "outputs": [],
   "source": [
    "values_to_replace = ['Republica checa', 'Republica Tcheca', 'Républica Tcheca', 'czech republic','republica checa',' czech republic','CZE']\n",
    "replacement_value =  'CZ'\n",
    "guests['GuestCountry'] = guests['GuestCountry'].replace(values_to_replace, replacement_value)"
   ]
  },
  {
   "cell_type": "code",
   "execution_count": 149,
   "id": "e9835c82",
   "metadata": {},
   "outputs": [],
   "source": [
    "values_to_replace = ['South Korea', 'south korea', 'coreia do sul','kr','Korea, South','KOR']\n",
    "replacement_value =  'KR'\n",
    "guests['GuestCountry'] = guests['GuestCountry'].replace(values_to_replace, replacement_value)"
   ]
  },
  {
   "cell_type": "code",
   "execution_count": 150,
   "id": "9a21204a",
   "metadata": {},
   "outputs": [],
   "source": [
    "values_to_replace = ['VNM', 'vietnam']\n",
    "replacement_value =  'VN'\n",
    "guests['GuestCountry'] = guests['GuestCountry'].replace(values_to_replace, replacement_value)"
   ]
  },
  {
   "cell_type": "code",
   "execution_count": 151,
   "id": "8dda6c12",
   "metadata": {},
   "outputs": [],
   "source": [
    "values_to_replace = ['JPN', 'japao']\n",
    "replacement_value =  'JP'\n",
    "guests['GuestCountry'] = guests['GuestCountry'].replace(values_to_replace, replacement_value)"
   ]
  },
  {
   "cell_type": "code",
   "execution_count": 152,
   "id": "9290edd2",
   "metadata": {},
   "outputs": [],
   "source": [
    "values_to_replace = ['TUN']\n",
    "replacement_value =  'TN'\n",
    "guests['GuestCountry'] = guests['GuestCountry'].replace(values_to_replace, replacement_value)"
   ]
  },
  {
   "cell_type": "code",
   "execution_count": 153,
   "id": "e241d36c",
   "metadata": {},
   "outputs": [],
   "source": [
    "values_to_replace = ['Bulgária','Bulgaria','BGR']\n",
    "replacement_value =  'BG'\n",
    "guests['GuestCountry'] = guests['GuestCountry'].replace(values_to_replace, replacement_value)"
   ]
  },
  {
   "cell_type": "code",
   "execution_count": 154,
   "id": "79105687",
   "metadata": {},
   "outputs": [],
   "source": [
    "values_to_replace = ['EGY', 'Egito', 'EGITO', 'egito']\n",
    "replacement_value =  'EG'\n",
    "guests['GuestCountry'] = guests['GuestCountry'].replace(values_to_replace, replacement_value)"
   ]
  },
  {
   "cell_type": "code",
   "execution_count": 155,
   "id": "4ed0f60a",
   "metadata": {},
   "outputs": [],
   "source": [
    "values_to_replace = ['Hong Kong', 'hong kong']\n",
    "replacement_value =  'HK'\n",
    "guests['GuestCountry'] = guests['GuestCountry'].replace(values_to_replace, replacement_value)"
   ]
  },
  {
   "cell_type": "code",
   "execution_count": 156,
   "id": "be90bfca",
   "metadata": {},
   "outputs": [],
   "source": [
    "values_to_replace = ['monaco']\n",
    "replacement_value =  'MC'\n",
    "guests['GuestCountry'] = guests['GuestCountry'].replace(values_to_replace, replacement_value)"
   ]
  },
  {
   "cell_type": "code",
   "execution_count": 157,
   "id": "2fa4b461",
   "metadata": {},
   "outputs": [],
   "source": [
    "values_to_replace = ['bielorrusia','BLR']\n",
    "replacement_value =  'BY'\n",
    "guests['GuestCountry'] = guests['GuestCountry'].replace(values_to_replace, replacement_value)"
   ]
  },
  {
   "cell_type": "code",
   "execution_count": 158,
   "id": "bc99e2af",
   "metadata": {},
   "outputs": [],
   "source": [
    "values_to_replace = ['GEO']\n",
    "replacement_value =  'GE'\n",
    "guests['GuestCountry'] = guests['GuestCountry'].replace(values_to_replace, replacement_value)"
   ]
  },
  {
   "cell_type": "code",
   "execution_count": 159,
   "id": "66405891",
   "metadata": {},
   "outputs": [],
   "source": [
    "values_to_replace = ['HTI', 'haiti']\n",
    "replacement_value =  'HT'\n",
    "guests['GuestCountry'] = guests['GuestCountry'].replace(values_to_replace, replacement_value)"
   ]
  },
  {
   "cell_type": "code",
   "execution_count": 160,
   "id": "77160405",
   "metadata": {},
   "outputs": [],
   "source": [
    "values_to_replace = ['Philippines', 'filipinas','PHL']\n",
    "replacement_value =  'PH'\n",
    "guests['GuestCountry'] = guests['GuestCountry'].replace(values_to_replace, replacement_value)"
   ]
  },
  {
   "cell_type": "code",
   "execution_count": 161,
   "id": "6b3b66aa",
   "metadata": {},
   "outputs": [],
   "source": [
    "values_to_replace = ['LUX']\n",
    "replacement_value =  'LU'\n",
    "guests['GuestCountry'] = guests['GuestCountry'].replace(values_to_replace, replacement_value)"
   ]
  },
  {
   "cell_type": "code",
   "execution_count": 162,
   "id": "fd04478c",
   "metadata": {},
   "outputs": [],
   "source": [
    "values_to_replace = ['cuba']\n",
    "replacement_value =  'CU'\n",
    "guests['GuestCountry'] = guests['GuestCountry'].replace(values_to_replace, replacement_value)"
   ]
  },
  {
   "cell_type": "code",
   "execution_count": 163,
   "id": "eed68696",
   "metadata": {},
   "outputs": [],
   "source": [
    "values_to_replace = ['panama']\n",
    "replacement_value =  'PA'\n",
    "guests['GuestCountry'] = guests['GuestCountry'].replace(values_to_replace, replacement_value)"
   ]
  },
  {
   "cell_type": "code",
   "execution_count": 164,
   "id": "c57e383b",
   "metadata": {},
   "outputs": [],
   "source": [
    "values_to_replace = ['DOM', 'republica dominicana']\n",
    "replacement_value =  'DO'\n",
    "guests['GuestCountry'] = guests['GuestCountry'].replace(values_to_replace, replacement_value)"
   ]
  },
  {
   "cell_type": "code",
   "execution_count": 165,
   "id": "f99f817e",
   "metadata": {},
   "outputs": [],
   "source": [
    "values_to_replace = ['Libano']\n",
    "replacement_value =  'LY'\n",
    "guests['GuestCountry'] = guests['GuestCountry'].replace(values_to_replace, replacement_value)"
   ]
  },
  {
   "cell_type": "code",
   "execution_count": 166,
   "id": "ee00f00b",
   "metadata": {},
   "outputs": [],
   "source": [
    "values_to_replace = ['Venezuela','VEN']\n",
    "replacement_value =  'VN'\n",
    "guests['GuestCountry'] = guests['GuestCountry'].replace(values_to_replace, replacement_value)"
   ]
  },
  {
   "cell_type": "code",
   "execution_count": 167,
   "id": "eee562a9",
   "metadata": {},
   "outputs": [],
   "source": [
    "values_to_replace = ['emirados arabes unidos','ARE']\n",
    "replacement_value =  'AE'\n",
    "guests['GuestCountry'] = guests['GuestCountry'].replace(values_to_replace, replacement_value)"
   ]
  },
  {
   "cell_type": "code",
   "execution_count": 168,
   "id": "f8f8b600",
   "metadata": {},
   "outputs": [],
   "source": [
    "values_to_replace = ['SRB']\n",
    "replacement_value =  'RS'\n",
    "guests['GuestCountry'] = guests['GuestCountry'].replace(values_to_replace, replacement_value)"
   ]
  },
  {
   "cell_type": "code",
   "execution_count": 169,
   "id": "4e75f227",
   "metadata": {},
   "outputs": [],
   "source": [
    "values_to_replace = ['Uruguai','Uruguay','URY']\n",
    "replacement_value =  'UY'\n",
    "guests['GuestCountry'] = guests['GuestCountry'].replace(values_to_replace, replacement_value)"
   ]
  },
  {
   "cell_type": "code",
   "execution_count": 170,
   "id": "c5e46f57",
   "metadata": {},
   "outputs": [],
   "source": [
    "values_to_replace = ['tanzania']\n",
    "replacement_value =  'TZ'\n",
    "guests['GuestCountry'] = guests['GuestCountry'].replace(values_to_replace, replacement_value)"
   ]
  },
  {
   "cell_type": "code",
   "execution_count": 171,
   "id": "ad2edefb",
   "metadata": {},
   "outputs": [],
   "source": [
    "values_to_replace = ['Indonesia', 'indonésia', 'Indonésia','IDN']\n",
    "replacement_value =  'ID'\n",
    "guests['GuestCountry'] = guests['GuestCountry'].replace(values_to_replace, replacement_value)"
   ]
  },
  {
   "cell_type": "code",
   "execution_count": 172,
   "id": "3e314ebf",
   "metadata": {},
   "outputs": [],
   "source": [
    "values_to_replace = ['PER','Peru','peru']\n",
    "replacement_value =  'PE'\n",
    "guests['GuestCountry'] = guests['GuestCountry'].replace(values_to_replace, replacement_value)"
   ]
  },
  {
   "cell_type": "code",
   "execution_count": 173,
   "id": "3a67435d",
   "metadata": {},
   "outputs": [],
   "source": [
    "values_to_replace = ['Malta']\n",
    "replacement_value =  'MT'\n",
    "guests['GuestCountry'] = guests['GuestCountry'].replace(values_to_replace, replacement_value)"
   ]
  },
  {
   "cell_type": "code",
   "execution_count": 174,
   "id": "745b771f",
   "metadata": {},
   "outputs": [],
   "source": [
    "values_to_replace = ['Costa Rica']\n",
    "replacement_value =  'CR'\n",
    "guests['GuestCountry'] = guests['GuestCountry'].replace(values_to_replace, replacement_value)"
   ]
  },
  {
   "cell_type": "code",
   "execution_count": 175,
   "id": "b0d817ea",
   "metadata": {},
   "outputs": [],
   "source": [
    "values_to_replace = ['AGO']\n",
    "replacement_value =  'AO'\n",
    "guests['GuestCountry'] = guests['GuestCountry'].replace(values_to_replace, replacement_value)"
   ]
  },
  {
   "cell_type": "code",
   "execution_count": 176,
   "id": "3d71ad90",
   "metadata": {},
   "outputs": [],
   "source": [
    "values_to_replace = ['cazaquistao']\n",
    "replacement_value =  'KZ'\n",
    "guests['GuestCountry'] = guests['GuestCountry'].replace(values_to_replace, replacement_value)"
   ]
  },
  {
   "cell_type": "code",
   "execution_count": 177,
   "id": "effeaa09",
   "metadata": {},
   "outputs": [],
   "source": [
    "values_to_replace = ['catar']\n",
    "replacement_value =  'QA'\n",
    "guests['GuestCountry'] = guests['GuestCountry'].replace(values_to_replace, replacement_value)"
   ]
  },
  {
   "cell_type": "code",
   "execution_count": 178,
   "id": "6d034eec",
   "metadata": {},
   "outputs": [],
   "source": [
    "values_to_replace = ['MOZ']\n",
    "replacement_value =  'MZ'\n",
    "guests['GuestCountry'] = guests['GuestCountry'].replace(values_to_replace, replacement_value)"
   ]
  },
  {
   "cell_type": "code",
   "execution_count": 179,
   "id": "f411490b",
   "metadata": {},
   "outputs": [],
   "source": [
    "values_to_replace = ['THA','Tailândia']\n",
    "replacement_value =  'TH'\n",
    "guests['GuestCountry'] = guests['GuestCountry'].replace(values_to_replace, replacement_value)"
   ]
  },
  {
   "cell_type": "code",
   "execution_count": 180,
   "id": "3bce22b8",
   "metadata": {},
   "outputs": [],
   "source": [
    "values_to_replace = ['MAR','Marrocos']\n",
    "replacement_value =  'MA'\n",
    "guests['GuestCountry'] = guests['GuestCountry'].replace(values_to_replace, replacement_value)"
   ]
  },
  {
   "cell_type": "code",
   "execution_count": 181,
   "id": "b7205a33",
   "metadata": {},
   "outputs": [],
   "source": [
    "values_to_replace = ['SAU']\n",
    "replacement_value =  'SA'\n",
    "guests['GuestCountry'] = guests['GuestCountry'].replace(values_to_replace, replacement_value)"
   ]
  },
  {
   "cell_type": "code",
   "execution_count": 182,
   "id": "4d18b2ba",
   "metadata": {},
   "outputs": [],
   "source": [
    "values_to_replace = ['MKD']\n",
    "replacement_value =  'MK'\n",
    "guests['GuestCountry'] = guests['GuestCountry'].replace(values_to_replace, replacement_value)"
   ]
  },
  {
   "cell_type": "code",
   "execution_count": 183,
   "id": "9a2a9dec",
   "metadata": {},
   "outputs": [],
   "source": [
    "values_to_replace = ['Dominica Islands']\n",
    "replacement_value =  'DM'\n",
    "guests['GuestCountry'] = guests['GuestCountry'].replace(values_to_replace, replacement_value)"
   ]
  },
  {
   "cell_type": "code",
   "execution_count": 184,
   "id": "97cf49b3",
   "metadata": {},
   "outputs": [],
   "source": [
    "values_to_replace = ['Kuwait']\n",
    "replacement_value =  'KW'\n",
    "guests['GuestCountry'] = guests['GuestCountry'].replace(values_to_replace, replacement_value)"
   ]
  },
  {
   "cell_type": "code",
   "execution_count": 185,
   "id": "75fb3106",
   "metadata": {},
   "outputs": [],
   "source": [
    "values_to_replace = ['tibete']\n",
    "replacement_value =  'TB'\n",
    "guests['GuestCountry'] = guests['GuestCountry'].replace(values_to_replace, replacement_value)"
   ]
  },
  {
   "cell_type": "code",
   "execution_count": 186,
   "id": "e15d690a",
   "metadata": {},
   "outputs": [],
   "source": [
    "values_to_replace = ['DZA']\n",
    "replacement_value =  'DZ'\n",
    "guests['GuestCountry'] = guests['GuestCountry'].replace(values_to_replace, replacement_value)"
   ]
  },
  {
   "cell_type": "code",
   "execution_count": 187,
   "id": "ef1a4dfa",
   "metadata": {},
   "outputs": [],
   "source": [
    "values_to_replace = ['AZE']\n",
    "replacement_value =  'AZ'\n",
    "guests['GuestCountry'] = guests['GuestCountry'].replace(values_to_replace, replacement_value)"
   ]
  },
  {
   "cell_type": "code",
   "execution_count": 188,
   "id": "3ea23723",
   "metadata": {},
   "outputs": [],
   "source": [
    "values_to_replace = ['CPV']\n",
    "replacement_value =  'CV'\n",
    "guests['GuestCountry'] = guests['GuestCountry'].replace(values_to_replace, replacement_value)"
   ]
  },
  {
   "cell_type": "code",
   "execution_count": 189,
   "id": "bd7609ff",
   "metadata": {},
   "outputs": [],
   "source": [
    "values_to_replace = ['CYP']\n",
    "replacement_value =  'CY'\n",
    "guests['GuestCountry'] = guests['GuestCountry'].replace(values_to_replace, replacement_value)"
   ]
  },
  {
   "cell_type": "code",
   "execution_count": 190,
   "id": "756682fa",
   "metadata": {},
   "outputs": [],
   "source": [
    "values_to_replace = ['SVN']\n",
    "replacement_value =  'SV'\n",
    "guests['GuestCountry'] = guests['GuestCountry'].replace(values_to_replace, replacement_value)"
   ]
  },
  {
   "cell_type": "code",
   "execution_count": 191,
   "id": "1dc115c9",
   "metadata": {},
   "outputs": [],
   "source": [
    "values_to_replace = ['ANT']\n",
    "replacement_value =  'AN'\n",
    "guests['GuestCountry'] = guests['GuestCountry'].replace(values_to_replace, replacement_value)"
   ]
  },
  {
   "cell_type": "code",
   "execution_count": 192,
   "id": "e34ba1b7",
   "metadata": {},
   "outputs": [],
   "source": [
    "values_to_replace = ['TGO']\n",
    "replacement_value =  'TG'\n",
    "guests['GuestCountry'] = guests['GuestCountry'].replace(values_to_replace, replacement_value)"
   ]
  },
  {
   "cell_type": "code",
   "execution_count": 193,
   "id": "c3acaad8",
   "metadata": {},
   "outputs": [],
   "source": [
    "values_to_replace = ['LKA']\n",
    "replacement_value =  'LK'\n",
    "guests['GuestCountry'] = guests['GuestCountry'].replace(values_to_replace, replacement_value)"
   ]
  },
  {
   "cell_type": "code",
   "execution_count": 194,
   "id": "cc5f493d",
   "metadata": {},
   "outputs": [],
   "source": [
    "values_to_replace = ['SEN']\n",
    "replacement_value =  'SN'\n",
    "guests['GuestCountry'] = guests['GuestCountry'].replace(values_to_replace, replacement_value)"
   ]
  },
  {
   "cell_type": "code",
   "execution_count": 195,
   "id": "15e8eae0",
   "metadata": {},
   "outputs": [],
   "source": [
    "values_to_replace = ['COD']\n",
    "replacement_value =  'CD'\n",
    "guests['GuestCountry'] = guests['GuestCountry'].replace(values_to_replace, replacement_value)"
   ]
  },
  {
   "cell_type": "code",
   "execution_count": 196,
   "id": "e80a06ce",
   "metadata": {},
   "outputs": [],
   "source": [
    "values_to_replace = ['PRI']\n",
    "replacement_value =  'PR'\n",
    "guests['GuestCountry'] = guests['GuestCountry'].replace(values_to_replace, replacement_value)"
   ]
  },
  {
   "cell_type": "code",
   "execution_count": 197,
   "id": "baff26ed",
   "metadata": {},
   "outputs": [],
   "source": [
    "values_to_replace = ['GUF']\n",
    "replacement_value =  'GF'\n",
    "guests['GuestCountry'] = guests['GuestCountry'].replace(values_to_replace, replacement_value)"
   ]
  },
  {
   "cell_type": "code",
   "execution_count": 198,
   "id": "4f9cf19e",
   "metadata": {},
   "outputs": [],
   "source": [
    "values_to_replace = ['MDG']\n",
    "replacement_value =  'MG'\n",
    "guests['GuestCountry'] = guests['GuestCountry'].replace(values_to_replace, replacement_value)"
   ]
  },
  {
   "cell_type": "code",
   "execution_count": 199,
   "id": "a34f1fde",
   "metadata": {},
   "outputs": [
    {
     "data": {
      "text/plain": [
       "FR              1439\n",
       "ES              1189\n",
       "PT               861\n",
       "DE               836\n",
       "GB               679\n",
       "                ... \n",
       "393488252767       1\n",
       "LY                 1\n",
       "CU                 1\n",
       "HM5WTSDMF8         1\n",
       "MTQ                1\n",
       "Name: GuestCountry, Length: 116, dtype: int64"
      ]
     },
     "execution_count": 199,
     "metadata": {},
     "output_type": "execute_result"
    }
   ],
   "source": [
    "guests['GuestCountry'].value_counts()"
   ]
  },
  {
   "cell_type": "code",
   "execution_count": 200,
   "id": "3461f628",
   "metadata": {},
   "outputs": [
    {
     "data": {
      "text/plain": [
       "2"
      ]
     },
     "execution_count": 200,
     "metadata": {},
     "output_type": "execute_result"
    }
   ],
   "source": [
    "guests['GuestCountry'].isna().sum()"
   ]
  },
  {
   "cell_type": "code",
   "execution_count": 201,
   "id": "ccb5dfed",
   "metadata": {},
   "outputs": [],
   "source": [
    "guests.dropna(subset=['GuestCountry'], inplace=True)"
   ]
  },
  {
   "cell_type": "code",
   "execution_count": 202,
   "id": "89e59393",
   "metadata": {},
   "outputs": [
    {
     "data": {
      "text/plain": [
       "0"
      ]
     },
     "execution_count": 202,
     "metadata": {},
     "output_type": "execute_result"
    }
   ],
   "source": [
    "guests['GuestCountry'].isna().sum()"
   ]
  },
  {
   "cell_type": "code",
   "execution_count": 203,
   "id": "67419afb",
   "metadata": {},
   "outputs": [],
   "source": [
    "values_to_delete = [393488252767,'HM5WTSDMF8']\n",
    "guests = guests[~guests['GuestCountry'].isin(values_to_delete)]"
   ]
  },
  {
   "cell_type": "code",
   "execution_count": 204,
   "id": "340c6bd9",
   "metadata": {},
   "outputs": [
    {
     "data": {
      "text/plain": [
       "114"
      ]
     },
     "execution_count": 204,
     "metadata": {},
     "output_type": "execute_result"
    }
   ],
   "source": [
    "len(guests['GuestCountry'].unique())"
   ]
  },
  {
   "cell_type": "code",
   "execution_count": 205,
   "id": "585e039b",
   "metadata": {},
   "outputs": [],
   "source": [
    "country_coordinates = {\n",
    "    'DE': (51.1657, 10.4515),  # Germany\n",
    "    'PT': (39.3999, -8.2245),  # Portugal\n",
    "    'FR': (46.6034, 1.8883),   # France\n",
    "    'EC': (-1.8312, -78.1834), # Ecuador\n",
    "    'AU': (-25.2744, 133.7751),# Australia\n",
    "    'SI': (46.1512, 14.9955),  # Slovenia\n",
    "    'GB': (55.3781, -3.4360),  # United Kingdom\n",
    "    'US': (37.0902, -95.7129), # United States\n",
    "    'CL': (-35.6751, -71.5430),# Chile\n",
    "    'CA': (56.1304, -106.3468),# Canada\n",
    "    'BE': (50.5039, 4.4699),   # Belgium\n",
    "    'BR': (-14.2350, -51.9253),# Brazil\n",
    "    'PL': (51.9194, 19.1451),  # Poland\n",
    "    'CH': (46.8182, 8.2275),   # Switzerland\n",
    "    'ES': (40.4637, -3.7492),  # Spain\n",
    "    'NL': (52.1326, 5.2913),   # Netherlands\n",
    "    'ZA': (-30.5595, 22.9375), # South Africa\n",
    "    'IT': (41.8719, 12.5674),  # Italy\n",
    "    'AR': (-38.4161, -63.6167),# Argentina\n",
    "    'PK': (30.3753, 69.3451),  # Pakistan\n",
    "    'LV': (56.8796, 24.6032),  # Latvia\n",
    "    'CN': (35.8617, 104.1954), # China\n",
    "    'CO': (4.5709, -74.2973),  # Colombia\n",
    "    'SG': (1.3521, 103.8198),  # Singapore\n",
    "    'HU': (47.1625, 19.5033),  # Hungary\n",
    "    'DK': (56.2639, 9.5018),   # Denmark\n",
    "    'IE': (53.4129, -8.2439),  # Ireland\n",
    "    'EE': (58.5953, 25.0136),  # Estonia\n",
    "    'HR': (45.1000, 15.2000),  # Croatia\n",
    "    'LB': (33.8547, 35.8623),  # Lebanon\n",
    "    'RU': (61.5240, 105.3188), # Russia\n",
    "    'IN': (20.5937, 78.9629),  # India\n",
    "    'IL': (31.0461, 34.8516),  # Israel\n",
    "    'NZ': (-40.9006, 174.8860),# New Zealand\n",
    "    'UA': (48.3794, 31.1656),  # Ukraine\n",
    "    'TR': (38.9637, 35.2433),  # Turkey\n",
    "    'NO': (60.4720, 8.4689),   # Norway\n",
    "    'SE': (60.1282, 18.6435),  # Sweden\n",
    "    'MX': (23.6345, -102.5528),# Mexico\n",
    "    'LT': (55.1694, 23.8813),  # Lithuania\n",
    "    'RO': (45.9432, 24.9668),  # Romania\n",
    "    'GR': (39.0742, 21.8243),  # Greece\n",
    "    'AT': (47.5162, 14.5501),  # Austria\n",
    "    'FI': (61.9241, 25.7482),  # Finland\n",
    "    'SK': (48.6690, 19.6990),  # Slovakia\n",
    "    'TW': (23.6978, 120.9605), # Taiwan\n",
    "    'AL': (41.1533, 20.1683),  # Albania\n",
    "    'MY': (4.2105, 101.9758),  # Malaysia\n",
    "    'CZ': (49.8175, 15.4730),  # Czech Republic\n",
    "    'KR': (35.9078, 127.7669), # South Korea\n",
    "    'VN': (14.0583, 108.2772), # Vietnam\n",
    "    'JP': (36.2048, 138.2529), # Japan\n",
    "    'TN': (33.8869, 9.5375),   # Tunisia\n",
    "    'BG': (42.7339, 25.4858),  # Bulgaria\n",
    "    'EG': (26.8206, 30.8025),  # Egypt\n",
    "    'HK': (22.3193, 114.1694), # Hong Kong\n",
    "    'MC': (43.7384, 7.4246),   # Monaco\n",
    "    'BY': (53.7098, 27.9534),  # Belarus\n",
    "    'GE': (42.3154, 43.3569),  # Georgia\n",
    "    'HT': (18.9712, -72.2852), # Haiti\n",
    "    'PH': (12.8797, 121.7740), # Philippines\n",
    "    'LU': (49.8153, 6.1296),   # Luxembourg\n",
    "    'CU': (21.5218, -77.7812), # Cuba\n",
    "    'PA': (8.5380, -80.7821),  # Panama\n",
    "    'IR': (32.4279, 53.6880),  # Iran\n",
    "    'DO': (18.7357, -70.1627), # Dominican Republic\n",
    "    'LY': (26.3351, 17.2283),  # Libya\n",
    "    'GT': (15.7835, -90.2308), # Guatemala\n",
    "    'VE': (6.4238, -66.5897),  # Venezuela\n",
    "    'AE': (23.4241, 53.8478),  # United Arab Emirates\n",
    "    'RS': (44.0165, 21.0059),  # Serbia\n",
    "    'UY': (-32.5228, -55.7658),# Uruguay\n",
    "    'TZ': (-6.3690, 34.8888),   # Tanzania\n",
    "    'ID': (-0.7893, 113.9213),  # Indonesia\n",
    "    'BA': (43.9159, 17.6791),   # Bosnia and Herzegovina\n",
    "    'PE': (-9.1900, -75.0152),  # Peru\n",
    "    'BD': (23.6850, 90.3563),   # Bangladesh\n",
    "    'AM': (40.0691, 45.0382),   # Armenia\n",
    "    'BO': (-16.2902, -63.5887), # Bolivia\n",
    "    'SD': (12.8628, 30.2176),   # Sudan\n",
    "    'MT': (35.9375, 14.3754),   # Malta\n",
    "    'CR': (9.7489, -83.7534),   # Costa Rica\n",
    "    'AO': (-11.2027, 17.8739),  # Angola\n",
    "    'KZ': (48.0196, 66.9237),   # Kazakhstan\n",
    "    'QA': (25.3548, 51.1839),   # Qatar\n",
    "    'MZ': (-18.6657, 35.5296),  # Mozambique\n",
    "    'SZ': (-26.5225, 31.4659),  # Eswatini\n",
    "    'MA': (31.7917, -7.0926),   # Morocco\n",
    "    'AD': (42.5462, 1.6016),    # Andorra\n",
    "    'SA': (23.8859, 45.0792),   # Saudi Arabia\n",
    "    'ZW': (-19.0154, 29.1549),  # Zimbabwe\n",
    "    'MK': (41.6086, 21.7453),   # North Macedonia\n",
    "    'SV': (13.7942, -88.8965),  # El Salvador\n",
    "    'TH': (15.8700, 100.9925),  # Thailand\n",
    "    'KP': (40.3399, 127.5101),  # North Korea\n",
    "    'DM': (15.4149, -61.3700),  # Dominica\n",
    "    'KW': (29.3759, 47.9774),   # Kuwait\n",
    "    'TB': (23.6849, 90.3563),   # Tibet\n",
    "    'DZ': (28.0339, 1.6596),    # Algeria\n",
    "    'NG': (9.0820, 8.6753),     # Nigeria\n",
    "    'AZ': (40.1431, 47.5769),   # Azerbaijan\n",
    "    'CV': (16.5388, -23.0418),  # Cape Verde\n",
    "    'CY': (35.1264, 33.4299),   # Cyprus\n",
    "    'AN': (12.2261, -69.0603),  # Netherlands Antilles\n",
    "    'TG': (8.6195, 0.8248),     # Togo\n",
    "    'LK': (7.8731, 80.7718),    # Sri Lanka\n",
    "    'SN': (14.4974, -14.4524),  # Senegal\n",
    "    'CD': (-4.0383, 21.7587),   # Democratic Republic of the Congo\n",
    "    'PR': (18.2208, -66.5901),  # Puerto Rico\n",
    "    'GF': (3.9339, -53.1258),   # French Guiana\n",
    "    'MG': (-18.7669, 46.8691),  # Madagascar\n",
    "    'WLF': (-13.7687, -177.1561),# Wallis and Futuna\n",
    "    'HND': (15.2000, -86.2419), # Honduras\n",
    "    'MTQ': (14.6415, -61.0242)  # Martinique\n",
    "}\n",
    "\n"
   ]
  },
  {
   "cell_type": "code",
   "execution_count": 206,
   "id": "67f4100a",
   "metadata": {},
   "outputs": [],
   "source": [
    "country_to_region = {\n",
    "    'DE': 'Western Europe', 'PT': 'Western Europe', 'FR': 'Western Europe', 'EC': 'South America', 'AU': 'Oceania',\n",
    "    'SI': 'Eastern Europe', 'GB': 'Western Europe', 'US': 'North America', 'CL': 'South America', 'CA': 'North America',\n",
    "    'BE': 'Western Europe', 'BR': 'South America', 'PL': 'Eastern Europe', 'CH': 'Western Europe', 'ES': 'Western Europe',\n",
    "    'NL': 'Western Europe', 'ZA': 'Africa', 'IT': 'Western Europe', 'AR': 'South America', 'PK': 'Asia', 'LV': 'Eastern Europe',\n",
    "    'CN': 'Asia', 'CO': 'South America', 'SG': 'Asia', 'HU': 'Eastern Europe', 'DK': 'Western Europe', 'IE': 'Western Europe',\n",
    "    'EE': 'Eastern Europe', 'HR': 'Eastern Europe', 'LB': 'Asia', 'RU': 'Eastern Europe', 'IN': 'Asia', 'IL': 'Asia',\n",
    "    'NZ': 'Oceania', 'UA': 'Eastern Europe', 'TR': 'Asia', 'NO': 'Western Europe', 'SE': 'Western Europe', 'MX': 'North America',\n",
    "    'LT': 'Eastern Europe', 'RO': 'Eastern Europe', 'GR': 'Western Europe', 'AT': 'Western Europe', 'FI': 'Western Europe',\n",
    "    'SK': 'Eastern Europe', 'TW': 'Asia', 'AL': 'Eastern Europe', 'MY': 'Asia', 'CZ': 'Eastern Europe', 'KR': 'Asia',\n",
    "    'VN': 'Asia', 'JP': 'Asia', 'TN': 'Africa', 'BG': 'Eastern Europe', 'EG': 'Africa', 'HK': 'Asia', 'MC': 'Western Europe',\n",
    "    'BY': 'Eastern Europe', 'GE': 'Eastern Europe', 'HT': 'North America', 'PH': 'Asia', 'LU': 'Western Europe', 'CU': 'North America',\n",
    "    'PA': 'North America', 'IR': 'Asia', 'DO': 'North America', 'LY': 'Africa', 'GT': 'North America', 'VE': 'South America',\n",
    "    'AE': 'Asia', 'RS': 'Eastern Europe', 'UY': 'South America', 'TZ': 'Africa', 'ID': 'Asia', 'BA': 'Eastern Europe',\n",
    "    'PE': 'South America', 'BD': 'Asia', 'AM': 'Asia', 'BO': 'South America', 'SD': 'Africa', 'MT': 'Western Europe',\n",
    "    'CR': 'North America', 'AO': 'Africa', 'KZ': 'Asia', 'QA': 'Asia', 'MZ': 'Africa', 'SZ': 'Africa', 'MA': 'Africa',\n",
    "    'AD': 'Western Europe', 'SA': 'Asia', 'ZW': 'Africa', 'MK': 'Eastern Europe', 'SV': 'North America', 'TH': 'Asia',\n",
    "    'KP': 'Asia', 'DM': 'North America', 'KW': 'Asia', 'TB': 'Asia', 'DZ': 'Africa', 'NG': 'Africa', 'AZ': 'Asia',\n",
    "    'CV': 'Africa', 'CY': 'Asia', 'AN': 'North America', 'TG': 'Africa', 'LK': 'Asia', 'SN': 'Africa',\n",
    "    'CD': 'Africa', 'PR': 'North America', 'GF': 'South America', 'MG': 'Africa', 'WLF': 'Oceania', 'HND': 'North America',\n",
    "    'MTQ': 'North America'\n",
    "}"
   ]
  },
  {
   "cell_type": "code",
   "execution_count": null,
   "id": "5f318748",
   "metadata": {},
   "outputs": [],
   "source": []
  },
  {
   "cell_type": "code",
   "execution_count": 207,
   "id": "4ee288f2",
   "metadata": {},
   "outputs": [
    {
     "name": "stderr",
     "output_type": "stream",
     "text": [
      "C:\\Users\\asus\\AppData\\Local\\Temp\\ipykernel_23096\\2542349680.py:1: SettingWithCopyWarning: \n",
      "A value is trying to be set on a copy of a slice from a DataFrame.\n",
      "Try using .loc[row_indexer,col_indexer] = value instead\n",
      "\n",
      "See the caveats in the documentation: https://pandas.pydata.org/pandas-docs/stable/user_guide/indexing.html#returning-a-view-versus-a-copy\n",
      "  guests['Continent'] = guests['GuestCountry'].map(country_to_region)\n"
     ]
    }
   ],
   "source": [
    "guests['Continent'] = guests['GuestCountry'].map(country_to_region)"
   ]
  },
  {
   "cell_type": "code",
   "execution_count": 208,
   "id": "78f3036e",
   "metadata": {},
   "outputs": [
    {
     "data": {
      "image/png": "[encoded data removed]",
      "text/plain": [
       "<Figure size 640x480 with 1 Axes>"
      ]
     },
     "metadata": {},
     "output_type": "display_data"
    }
   ],
   "source": [
    "guests['Continent'].value_counts().plot(kind='bar', color='skyblue')\n",
    "plt.title('Distribution of Countries by Continent')\n",
    "plt.xlabel('Continent')\n",
    "plt.ylabel('Number of Countries')\n",
    "plt.show()\n"
   ]
  },
  {
   "cell_type": "code",
   "execution_count": 209,
   "id": "cdb743a4",
   "metadata": {},
   "outputs": [
    {
     "data": {
      "text/plain": [
       "Western Europe    6604\n",
       "North America      922\n",
       "South America      600\n",
       "Eastern Europe     516\n",
       "Asia               347\n",
       "Oceania            111\n",
       "Africa              61\n",
       "Name: Continent, dtype: int64"
      ]
     },
     "execution_count": 209,
     "metadata": {},
     "output_type": "execute_result"
    }
   ],
   "source": [
    "guests['Continent'].value_counts()"
   ]
  },
  {
   "cell_type": "code",
   "execution_count": 210,
   "id": "c2c629c6",
   "metadata": {},
   "outputs": [
    {
     "data": {
      "text/plain": [
       "ReservationId    0\n",
       "Age              1\n",
       "GuestCountry     0\n",
       "Continent        0\n",
       "dtype: int64"
      ]
     },
     "execution_count": 210,
     "metadata": {},
     "output_type": "execute_result"
    }
   ],
   "source": [
    "guests.isna().sum()"
   ]
  },
  {
   "cell_type": "code",
   "execution_count": 211,
   "id": "d99e79e0",
   "metadata": {},
   "outputs": [
    {
     "name": "stderr",
     "output_type": "stream",
     "text": [
      "C:\\Users\\asus\\AppData\\Local\\Temp\\ipykernel_23096\\3431124940.py:1: SettingWithCopyWarning: \n",
      "A value is trying to be set on a copy of a slice from a DataFrame\n",
      "\n",
      "See the caveats in the documentation: https://pandas.pydata.org/pandas-docs/stable/user_guide/indexing.html#returning-a-view-versus-a-copy\n",
      "  guests.dropna(subset=['Age'], inplace=True)\n"
     ]
    }
   ],
   "source": [
    "guests.dropna(subset=['Age'], inplace=True)"
   ]
  },
  {
   "cell_type": "markdown",
   "id": "af360389",
   "metadata": {},
   "source": [
    "### Base de dados Reviews 1"
   ]
  },
  {
   "cell_type": "code",
   "execution_count": 212,
   "id": "47932ddf",
   "metadata": {},
   "outputs": [
    {
     "data": {
      "text/html": [
       "<div>\n",
       "<style scoped>\n",
       "    .dataframe tbody tr th:only-of-type {\n",
       "        vertical-align: middle;\n",
       "    }\n",
       "\n",
       "    .dataframe tbody tr th {\n",
       "        vertical-align: top;\n",
       "    }\n",
       "\n",
       "    .dataframe thead th {\n",
       "        text-align: right;\n",
       "    }\n",
       "</style>\n",
       "<table border=\"1\" class=\"dataframe\">\n",
       "  <thead>\n",
       "    <tr style=\"text-align: right;\">\n",
       "      <th></th>\n",
       "      <th>ReservationId</th>\n",
       "      <th>RatingValue</th>\n",
       "      <th>Comments</th>\n",
       "      <th>Unnamed: 3</th>\n",
       "      <th>Unnamed: 4</th>\n",
       "      <th>Unnamed: 5</th>\n",
       "      <th>Unnamed: 6</th>\n",
       "      <th>Unnamed: 7</th>\n",
       "      <th>Unnamed: 8</th>\n",
       "      <th>Unnamed: 9</th>\n",
       "      <th>Unnamed: 10</th>\n",
       "      <th>Unnamed: 11</th>\n",
       "      <th>Unnamed: 12</th>\n",
       "      <th>Unnamed: 13</th>\n",
       "    </tr>\n",
       "  </thead>\n",
       "  <tbody>\n",
       "    <tr>\n",
       "      <th>0</th>\n",
       "      <td>1879140693</td>\n",
       "      <td>8.0</td>\n",
       "      <td>Very nice place, it was spacious and good loca...</td>\n",
       "      <td>NaN</td>\n",
       "      <td>NaN</td>\n",
       "      <td>NaN</td>\n",
       "      <td>NaN</td>\n",
       "      <td>NaN</td>\n",
       "      <td>NaN</td>\n",
       "      <td>NaN</td>\n",
       "      <td>NaN</td>\n",
       "      <td>NaN</td>\n",
       "      <td>NaN</td>\n",
       "      <td>NaN</td>\n",
       "    </tr>\n",
       "    <tr>\n",
       "      <th>1</th>\n",
       "      <td>1879140870</td>\n",
       "      <td>8.0</td>\n",
       "      <td>Casa muito espaçosa, com ótima vista e relativ...</td>\n",
       "      <td>NaN</td>\n",
       "      <td>NaN</td>\n",
       "      <td>NaN</td>\n",
       "      <td>NaN</td>\n",
       "      <td>NaN</td>\n",
       "      <td>NaN</td>\n",
       "      <td>NaN</td>\n",
       "      <td>NaN</td>\n",
       "      <td>NaN</td>\n",
       "      <td>NaN</td>\n",
       "      <td>NaN</td>\n",
       "    </tr>\n",
       "    <tr>\n",
       "      <th>2</th>\n",
       "      <td>1879139425</td>\n",
       "      <td>10.0</td>\n",
       "      <td>We only stayed for a few days but the place is...</td>\n",
       "      <td>NaN</td>\n",
       "      <td>NaN</td>\n",
       "      <td>NaN</td>\n",
       "      <td>NaN</td>\n",
       "      <td>NaN</td>\n",
       "      <td>NaN</td>\n",
       "      <td>NaN</td>\n",
       "      <td>NaN</td>\n",
       "      <td>NaN</td>\n",
       "      <td>NaN</td>\n",
       "      <td>NaN</td>\n",
       "    </tr>\n",
       "    <tr>\n",
       "      <th>3</th>\n",
       "      <td>1879129551</td>\n",
       "      <td>8.0</td>\n",
       "      <td>Un sitio agradable, lo mejor la terraza y las ...</td>\n",
       "      <td>NaN</td>\n",
       "      <td>NaN</td>\n",
       "      <td>NaN</td>\n",
       "      <td>NaN</td>\n",
       "      <td>NaN</td>\n",
       "      <td>NaN</td>\n",
       "      <td>NaN</td>\n",
       "      <td>NaN</td>\n",
       "      <td>NaN</td>\n",
       "      <td>NaN</td>\n",
       "      <td>NaN</td>\n",
       "    </tr>\n",
       "    <tr>\n",
       "      <th>4</th>\n",
       "      <td>1879139286</td>\n",
       "      <td>10.0</td>\n",
       "      <td>Wonderful spacious apt, comfortable furniture,...</td>\n",
       "      <td>NaN</td>\n",
       "      <td>NaN</td>\n",
       "      <td>NaN</td>\n",
       "      <td>NaN</td>\n",
       "      <td>NaN</td>\n",
       "      <td>NaN</td>\n",
       "      <td>NaN</td>\n",
       "      <td>NaN</td>\n",
       "      <td>NaN</td>\n",
       "      <td>NaN</td>\n",
       "      <td>NaN</td>\n",
       "    </tr>\n",
       "    <tr>\n",
       "      <th>...</th>\n",
       "      <td>...</td>\n",
       "      <td>...</td>\n",
       "      <td>...</td>\n",
       "      <td>...</td>\n",
       "      <td>...</td>\n",
       "      <td>...</td>\n",
       "      <td>...</td>\n",
       "      <td>...</td>\n",
       "      <td>...</td>\n",
       "      <td>...</td>\n",
       "      <td>...</td>\n",
       "      <td>...</td>\n",
       "      <td>...</td>\n",
       "      <td>...</td>\n",
       "    </tr>\n",
       "    <tr>\n",
       "      <th>13800</th>\n",
       "      <td>1879178889</td>\n",
       "      <td>5.0</td>\n",
       "      <td>Apartamento claro e limpo, muito boas instalaç...</td>\n",
       "      <td>NaN</td>\n",
       "      <td>NaN</td>\n",
       "      <td>NaN</td>\n",
       "      <td>NaN</td>\n",
       "      <td>NaN</td>\n",
       "      <td>NaN</td>\n",
       "      <td>NaN</td>\n",
       "      <td>NaN</td>\n",
       "      <td>NaN</td>\n",
       "      <td>NaN</td>\n",
       "      <td>NaN</td>\n",
       "    </tr>\n",
       "    <tr>\n",
       "      <th>13801</th>\n",
       "      <td>1879187989</td>\n",
       "      <td>2.0</td>\n",
       "      <td>o apartamento não vale o dinheiro.esta é minha...</td>\n",
       "      <td>NaN</td>\n",
       "      <td>NaN</td>\n",
       "      <td>NaN</td>\n",
       "      <td>NaN</td>\n",
       "      <td>NaN</td>\n",
       "      <td>NaN</td>\n",
       "      <td>NaN</td>\n",
       "      <td>NaN</td>\n",
       "      <td>NaN</td>\n",
       "      <td>NaN</td>\n",
       "      <td>NaN</td>\n",
       "    </tr>\n",
       "    <tr>\n",
       "      <th>13802</th>\n",
       "      <td>1879178958</td>\n",
       "      <td>5.0</td>\n",
       "      <td>A comunicação foi muito suave, o lugar é incrí...</td>\n",
       "      <td>NaN</td>\n",
       "      <td>NaN</td>\n",
       "      <td>NaN</td>\n",
       "      <td>NaN</td>\n",
       "      <td>NaN</td>\n",
       "      <td>NaN</td>\n",
       "      <td>NaN</td>\n",
       "      <td>NaN</td>\n",
       "      <td>NaN</td>\n",
       "      <td>NaN</td>\n",
       "      <td>NaN</td>\n",
       "    </tr>\n",
       "    <tr>\n",
       "      <th>13803</th>\n",
       "      <td>1879180188</td>\n",
       "      <td>4.0</td>\n",
       "      <td>pro: melhor localização no centro da cidade, o...</td>\n",
       "      <td>NaN</td>\n",
       "      <td>NaN</td>\n",
       "      <td>NaN</td>\n",
       "      <td>NaN</td>\n",
       "      <td>NaN</td>\n",
       "      <td>NaN</td>\n",
       "      <td>NaN</td>\n",
       "      <td>NaN</td>\n",
       "      <td>NaN</td>\n",
       "      <td>NaN</td>\n",
       "      <td>NaN</td>\n",
       "    </tr>\n",
       "    <tr>\n",
       "      <th>13804</th>\n",
       "      <td>1879192291</td>\n",
       "      <td>4.0</td>\n",
       "      <td>Bom lugar para ficar</td>\n",
       "      <td>NaN</td>\n",
       "      <td>NaN</td>\n",
       "      <td>NaN</td>\n",
       "      <td>NaN</td>\n",
       "      <td>NaN</td>\n",
       "      <td>NaN</td>\n",
       "      <td>NaN</td>\n",
       "      <td>NaN</td>\n",
       "      <td>NaN</td>\n",
       "      <td>NaN</td>\n",
       "      <td>NaN</td>\n",
       "    </tr>\n",
       "  </tbody>\n",
       "</table>\n",
       "<p>13805 rows × 14 columns</p>\n",
       "</div>"
      ],
      "text/plain": [
       "      ReservationId  RatingValue  \\\n",
       "0        1879140693          8.0   \n",
       "1        1879140870          8.0   \n",
       "2        1879139425         10.0   \n",
       "3        1879129551          8.0   \n",
       "4        1879139286         10.0   \n",
       "...             ...          ...   \n",
       "13800    1879178889          5.0   \n",
       "13801    1879187989          2.0   \n",
       "13802    1879178958          5.0   \n",
       "13803    1879180188          4.0   \n",
       "13804    1879192291          4.0   \n",
       "\n",
       "                                                Comments Unnamed: 3  \\\n",
       "0      Very nice place, it was spacious and good loca...        NaN   \n",
       "1      Casa muito espaçosa, com ótima vista e relativ...        NaN   \n",
       "2      We only stayed for a few days but the place is...        NaN   \n",
       "3      Un sitio agradable, lo mejor la terraza y las ...        NaN   \n",
       "4      Wonderful spacious apt, comfortable furniture,...        NaN   \n",
       "...                                                  ...        ...   \n",
       "13800  Apartamento claro e limpo, muito boas instalaç...        NaN   \n",
       "13801  o apartamento não vale o dinheiro.esta é minha...        NaN   \n",
       "13802  A comunicação foi muito suave, o lugar é incrí...        NaN   \n",
       "13803  pro: melhor localização no centro da cidade, o...        NaN   \n",
       "13804                               Bom lugar para ficar        NaN   \n",
       "\n",
       "      Unnamed: 4 Unnamed: 5 Unnamed: 6 Unnamed: 7 Unnamed: 8 Unnamed: 9  \\\n",
       "0            NaN        NaN        NaN        NaN        NaN        NaN   \n",
       "1            NaN        NaN        NaN        NaN        NaN        NaN   \n",
       "2            NaN        NaN        NaN        NaN        NaN        NaN   \n",
       "3            NaN        NaN        NaN        NaN        NaN        NaN   \n",
       "4            NaN        NaN        NaN        NaN        NaN        NaN   \n",
       "...          ...        ...        ...        ...        ...        ...   \n",
       "13800        NaN        NaN        NaN        NaN        NaN        NaN   \n",
       "13801        NaN        NaN        NaN        NaN        NaN        NaN   \n",
       "13802        NaN        NaN        NaN        NaN        NaN        NaN   \n",
       "13803        NaN        NaN        NaN        NaN        NaN        NaN   \n",
       "13804        NaN        NaN        NaN        NaN        NaN        NaN   \n",
       "\n",
       "      Unnamed: 10 Unnamed: 11 Unnamed: 12 Unnamed: 13  \n",
       "0             NaN         NaN         NaN         NaN  \n",
       "1             NaN         NaN         NaN         NaN  \n",
       "2             NaN         NaN         NaN         NaN  \n",
       "3             NaN         NaN         NaN         NaN  \n",
       "4             NaN         NaN         NaN         NaN  \n",
       "...           ...         ...         ...         ...  \n",
       "13800         NaN         NaN         NaN         NaN  \n",
       "13801         NaN         NaN         NaN         NaN  \n",
       "13802         NaN         NaN         NaN         NaN  \n",
       "13803         NaN         NaN         NaN         NaN  \n",
       "13804         NaN         NaN         NaN         NaN  \n",
       "\n",
       "[13805 rows x 14 columns]"
      ]
     },
     "execution_count": 212,
     "metadata": {},
     "output_type": "execute_result"
    }
   ],
   "source": [
    "reviews1"
   ]
  },
  {
   "cell_type": "code",
   "execution_count": null,
   "id": "dcfaccba",
   "metadata": {},
   "outputs": [],
   "source": []
  },
  {
   "cell_type": "code",
   "execution_count": 213,
   "id": "8ffc6c8b",
   "metadata": {},
   "outputs": [
    {
     "data": {
      "text/plain": [
       "ReservationId      717\n",
       "RatingValue         12\n",
       "Comments          1575\n",
       "Unnamed: 3       13801\n",
       "Unnamed: 4       13803\n",
       "Unnamed: 5       13803\n",
       "Unnamed: 6       13804\n",
       "Unnamed: 7       13804\n",
       "Unnamed: 8       13804\n",
       "Unnamed: 9       13804\n",
       "Unnamed: 10      13804\n",
       "Unnamed: 11      13804\n",
       "Unnamed: 12      13804\n",
       "Unnamed: 13      13804\n",
       "dtype: int64"
      ]
     },
     "execution_count": 213,
     "metadata": {},
     "output_type": "execute_result"
    }
   ],
   "source": [
    "reviews1.isna().sum()"
   ]
  },
  {
   "cell_type": "code",
   "execution_count": 214,
   "id": "9b84e356",
   "metadata": {},
   "outputs": [
    {
     "data": {
      "text/plain": [
       "2487     Il serait bien d’avoir un minimum de condiment...\n",
       "6861      The host was pleasant.  The flat was very clean.\n",
       "8508                                                     ?\n",
       "10009    Situation parfaite au cœur du quartier tourist...\n",
       "Name: Unnamed: 3, dtype: object"
      ]
     },
     "execution_count": 214,
     "metadata": {},
     "output_type": "execute_result"
    }
   ],
   "source": [
    "non_missing_values1 = reviews1[reviews1['Unnamed: 3'].notnull()]['Unnamed: 3']\n",
    "non_missing_values1"
   ]
  },
  {
   "cell_type": "code",
   "execution_count": 215,
   "id": "1030be4d",
   "metadata": {},
   "outputs": [],
   "source": [
    "\n",
    "indices_to_concatenate = [2487 ,6861, 8508,10009]\n",
    "reviews1.loc[indices_to_concatenate, 'Comments'] += reviews1.loc[indices_to_concatenate, 'Unnamed: 3'].fillna('')"
   ]
  },
  {
   "cell_type": "code",
   "execution_count": 216,
   "id": "9c98bc7d",
   "metadata": {},
   "outputs": [
    {
     "data": {
      "text/plain": [
       "2487     Séjour du 23 au 25 Juillet 2021  L’appartement...\n",
       "6861     It was a great stay. There was a very nice ter...\n",
       "8508     To Airbnb  The bad: At 5 pm we arrived to our ...\n",
       "10009    Les + : -Situation parfaite au cœur du quartie...\n",
       "Name: Comments, dtype: object"
      ]
     },
     "execution_count": 216,
     "metadata": {},
     "output_type": "execute_result"
    }
   ],
   "source": [
    "selected_rows = reviews1.loc[indices_to_concatenate]\n",
    "selected_rows['Comments']"
   ]
  },
  {
   "cell_type": "code",
   "execution_count": 217,
   "id": "76f1f3c6",
   "metadata": {},
   "outputs": [
    {
     "data": {
      "text/plain": [
       "2487     Nous n’avons pas pu profiter du patio. Les meu...\n",
       "10009                    Grand lit confortable à l’étage -\n",
       "Name: Unnamed: 4, dtype: object"
      ]
     },
     "execution_count": 217,
     "metadata": {},
     "output_type": "execute_result"
    }
   ],
   "source": [
    "non_missing_values2 = reviews1[reviews1['Unnamed: 4'].notnull()]['Unnamed: 4']\n",
    "non_missing_values2"
   ]
  },
  {
   "cell_type": "code",
   "execution_count": 218,
   "id": "631c5120",
   "metadata": {},
   "outputs": [],
   "source": [
    "indices_to_concatenate = [2487 ,10009]\n",
    "reviews1.loc[indices_to_concatenate, 'Comments'] += reviews1.loc[indices_to_concatenate, 'Unnamed: 4'].fillna('')"
   ]
  },
  {
   "cell_type": "code",
   "execution_count": 219,
   "id": "2e3d7e50",
   "metadata": {},
   "outputs": [
    {
     "data": {
      "text/plain": [
       "2487     Il serait bien d’avoir un plan de la ville ain...\n",
       "10009                                    Salon convivial -\n",
       "Name: Unnamed: 5, dtype: object"
      ]
     },
     "execution_count": 219,
     "metadata": {},
     "output_type": "execute_result"
    }
   ],
   "source": [
    "non_missing_values3 = reviews1[reviews1['Unnamed: 5'].notnull()]['Unnamed: 5']\n",
    "non_missing_values3"
   ]
  },
  {
   "cell_type": "code",
   "execution_count": 220,
   "id": "92fa57e4",
   "metadata": {},
   "outputs": [],
   "source": [
    "indices_to_concatenate = [2487 ,10009]\n",
    "reviews1.loc[indices_to_concatenate, 'Comments'] += reviews1.loc[indices_to_concatenate, 'Unnamed: 5'].fillna('')"
   ]
  },
  {
   "cell_type": "code",
   "execution_count": 221,
   "id": "0ae40e24",
   "metadata": {},
   "outputs": [
    {
     "data": {
      "text/plain": [
       "10009    Cuisine équipée (four, micro-onde, grille-pain...\n",
       "Name: Unnamed: 6, dtype: object"
      ]
     },
     "execution_count": 221,
     "metadata": {},
     "output_type": "execute_result"
    }
   ],
   "source": [
    "non_missing_values4 = reviews1[reviews1['Unnamed: 6'].notnull()]['Unnamed: 6']\n",
    "non_missing_values4"
   ]
  },
  {
   "cell_type": "code",
   "execution_count": 222,
   "id": "5ec93aed",
   "metadata": {},
   "outputs": [],
   "source": [
    "indices_to_concatenate = [10009]\n",
    "reviews1.loc[indices_to_concatenate, 'Comments'] += reviews1.loc[indices_to_concatenate, 'Unnamed: 6'].fillna('')"
   ]
  },
  {
   "cell_type": "code",
   "execution_count": 223,
   "id": "7dfba621",
   "metadata": {},
   "outputs": [
    {
     "data": {
      "text/plain": [
       "10009    Deux salles de bain (baignoire et douche) -\n",
       "Name: Unnamed: 7, dtype: object"
      ]
     },
     "execution_count": 223,
     "metadata": {},
     "output_type": "execute_result"
    }
   ],
   "source": [
    "non_missing_values5 = reviews1[reviews1['Unnamed: 7'].notnull()]['Unnamed: 7']\n",
    "non_missing_values5"
   ]
  },
  {
   "cell_type": "code",
   "execution_count": 224,
   "id": "65f32775",
   "metadata": {},
   "outputs": [],
   "source": [
    "indices_to_concatenate = [10009]\n",
    "reviews1.loc[indices_to_concatenate, 'Comments'] += reviews1.loc[indices_to_concatenate, 'Unnamed: 7'].fillna('')"
   ]
  },
  {
   "cell_type": "code",
   "execution_count": 225,
   "id": "87885726",
   "metadata": {},
   "outputs": [
    {
     "data": {
      "text/plain": [
       "10009    Wifi fiable -\n",
       "Name: Unnamed: 8, dtype: object"
      ]
     },
     "execution_count": 225,
     "metadata": {},
     "output_type": "execute_result"
    }
   ],
   "source": [
    "non_missing_values6 = reviews1[reviews1['Unnamed: 8'].notnull()]['Unnamed: 8']\n",
    "non_missing_values6"
   ]
  },
  {
   "cell_type": "code",
   "execution_count": 226,
   "id": "2c84d36f",
   "metadata": {},
   "outputs": [],
   "source": [
    "indices_to_concatenate = [10009]\n",
    "reviews1.loc[indices_to_concatenate, 'Comments'] += reviews1.loc[indices_to_concatenate, 'Unnamed: 8'].fillna('')"
   ]
  },
  {
   "cell_type": "code",
   "execution_count": 227,
   "id": "d6b5c7a4",
   "metadata": {},
   "outputs": [
    {
     "data": {
      "text/plain": [
       "10009    Accueil chaleureux Les - : -\n",
       "Name: Unnamed: 9, dtype: object"
      ]
     },
     "execution_count": 227,
     "metadata": {},
     "output_type": "execute_result"
    }
   ],
   "source": [
    "non_missing_values7 = reviews1[reviews1['Unnamed: 9'].notnull()]['Unnamed: 9']\n",
    "non_missing_values7"
   ]
  },
  {
   "cell_type": "code",
   "execution_count": 228,
   "id": "863b01f2",
   "metadata": {},
   "outputs": [],
   "source": [
    "indices_to_concatenate = [10009]\n",
    "reviews1.loc[indices_to_concatenate, 'Comments'] += reviews1.loc[indices_to_concatenate, 'Unnamed: 9'].fillna('')"
   ]
  },
  {
   "cell_type": "code",
   "execution_count": 229,
   "id": "edf58c6a",
   "metadata": {},
   "outputs": [
    {
     "data": {
      "text/plain": [
       "10009     !!! Absence de chauffage d’appoint !!! (nous ...\n",
       "Name: Unnamed: 10, dtype: object"
      ]
     },
     "execution_count": 229,
     "metadata": {},
     "output_type": "execute_result"
    }
   ],
   "source": [
    "non_missing_values8 = reviews1[reviews1['Unnamed: 10'].notnull()]['Unnamed: 10']\n",
    "non_missing_values8"
   ]
  },
  {
   "cell_type": "code",
   "execution_count": 230,
   "id": "e32640d3",
   "metadata": {},
   "outputs": [],
   "source": [
    "indices_to_concatenate = [10009]\n",
    "reviews1.loc[indices_to_concatenate, 'Comments'] += reviews1.loc[indices_to_concatenate, 'Unnamed: 10'].fillna('')"
   ]
  },
  {
   "cell_type": "code",
   "execution_count": 231,
   "id": "e5dc73ec",
   "metadata": {},
   "outputs": [
    {
     "data": {
      "text/plain": [
       "10009    Salle de bain mansardée à l’étage et donc impr...\n",
       "Name: Unnamed: 11, dtype: object"
      ]
     },
     "execution_count": 231,
     "metadata": {},
     "output_type": "execute_result"
    }
   ],
   "source": [
    "non_missing_values9 = reviews1[reviews1['Unnamed: 11'].notnull()]['Unnamed: 11']\n",
    "non_missing_values9"
   ]
  },
  {
   "cell_type": "code",
   "execution_count": 232,
   "id": "1b96cd28",
   "metadata": {},
   "outputs": [],
   "source": [
    "indices_to_concatenate = [10009]\n",
    "reviews1.loc[indices_to_concatenate, 'Comments'] += reviews1.loc[indices_to_concatenate, 'Unnamed: 11'].fillna('')"
   ]
  },
  {
   "cell_type": "code",
   "execution_count": 233,
   "id": "b3f35d03",
   "metadata": {},
   "outputs": [
    {
     "data": {
      "text/plain": [
       "10009    Absence de porte pour l’intimité des hôtes dor...\n",
       "Name: Unnamed: 12, dtype: object"
      ]
     },
     "execution_count": 233,
     "metadata": {},
     "output_type": "execute_result"
    }
   ],
   "source": [
    "non_missing_values10 = reviews1[reviews1['Unnamed: 12'].notnull()]['Unnamed: 12']\n",
    "non_missing_values10"
   ]
  },
  {
   "cell_type": "code",
   "execution_count": 234,
   "id": "df85ddec",
   "metadata": {},
   "outputs": [],
   "source": [
    "indices_to_concatenate = [10009]\n",
    "reviews1.loc[indices_to_concatenate, 'Comments'] += reviews1.loc[indices_to_concatenate, 'Unnamed: 12'].fillna('')"
   ]
  },
  {
   "cell_type": "code",
   "execution_count": 235,
   "id": "8f0f766d",
   "metadata": {},
   "outputs": [
    {
     "data": {
      "text/plain": [
       "10009    Escaliers étroits et escarpés pour accéder à l...\n",
       "Name: Unnamed: 13, dtype: object"
      ]
     },
     "execution_count": 235,
     "metadata": {},
     "output_type": "execute_result"
    }
   ],
   "source": [
    "non_missing_values11 = reviews1[reviews1['Unnamed: 13'].notnull()]['Unnamed: 13']\n",
    "non_missing_values11"
   ]
  },
  {
   "cell_type": "code",
   "execution_count": 236,
   "id": "d77a8a44",
   "metadata": {},
   "outputs": [],
   "source": [
    "indices_to_concatenate = [10009]\n",
    "reviews1.loc[indices_to_concatenate, 'Comments'] += reviews1.loc[indices_to_concatenate, 'Unnamed: 13'].fillna('')"
   ]
  },
  {
   "cell_type": "code",
   "execution_count": 237,
   "id": "d14fcfe4",
   "metadata": {},
   "outputs": [],
   "source": [
    "columns_to_drop = ['Unnamed: 3', 'Unnamed: 4', 'Unnamed: 5', 'Unnamed: 6', 'Unnamed: 7', 'Unnamed: 8', 'Unnamed: 9', 'Unnamed: 10', 'Unnamed: 11', 'Unnamed: 12', 'Unnamed: 13']\n",
    "reviews1.drop(columns=columns_to_drop, inplace=True)"
   ]
  },
  {
   "cell_type": "code",
   "execution_count": 238,
   "id": "7ecbe207",
   "metadata": {
    "scrolled": true
   },
   "outputs": [
    {
     "data": {
      "text/plain": [
       "ReservationId     717\n",
       "RatingValue        12\n",
       "Comments         1575\n",
       "dtype: int64"
      ]
     },
     "execution_count": 238,
     "metadata": {},
     "output_type": "execute_result"
    }
   ],
   "source": [
    "reviews1.isna().sum()"
   ]
  },
  {
   "cell_type": "code",
   "execution_count": 239,
   "id": "780235f0",
   "metadata": {},
   "outputs": [
    {
     "data": {
      "text/plain": [
       "(13805, 3)"
      ]
     },
     "execution_count": 239,
     "metadata": {},
     "output_type": "execute_result"
    }
   ],
   "source": [
    "reviews1.shape"
   ]
  },
  {
   "cell_type": "code",
   "execution_count": 240,
   "id": "aeb07647",
   "metadata": {},
   "outputs": [
    {
     "data": {
      "text/html": [
       "<div>\n",
       "<style scoped>\n",
       "    .dataframe tbody tr th:only-of-type {\n",
       "        vertical-align: middle;\n",
       "    }\n",
       "\n",
       "    .dataframe tbody tr th {\n",
       "        vertical-align: top;\n",
       "    }\n",
       "\n",
       "    .dataframe thead th {\n",
       "        text-align: right;\n",
       "    }\n",
       "</style>\n",
       "<table border=\"1\" class=\"dataframe\">\n",
       "  <thead>\n",
       "    <tr style=\"text-align: right;\">\n",
       "      <th></th>\n",
       "      <th>ReservationId</th>\n",
       "      <th>RatingValue</th>\n",
       "      <th>Comments</th>\n",
       "    </tr>\n",
       "  </thead>\n",
       "  <tbody>\n",
       "    <tr>\n",
       "      <th>0</th>\n",
       "      <td>1879140693</td>\n",
       "      <td>8.0</td>\n",
       "      <td>Very nice place, it was spacious and good loca...</td>\n",
       "    </tr>\n",
       "    <tr>\n",
       "      <th>1</th>\n",
       "      <td>1879140870</td>\n",
       "      <td>8.0</td>\n",
       "      <td>Casa muito espaçosa, com ótima vista e relativ...</td>\n",
       "    </tr>\n",
       "    <tr>\n",
       "      <th>2</th>\n",
       "      <td>1879139425</td>\n",
       "      <td>10.0</td>\n",
       "      <td>We only stayed for a few days but the place is...</td>\n",
       "    </tr>\n",
       "    <tr>\n",
       "      <th>3</th>\n",
       "      <td>1879129551</td>\n",
       "      <td>8.0</td>\n",
       "      <td>Un sitio agradable, lo mejor la terraza y las ...</td>\n",
       "    </tr>\n",
       "    <tr>\n",
       "      <th>4</th>\n",
       "      <td>1879139286</td>\n",
       "      <td>10.0</td>\n",
       "      <td>Wonderful spacious apt, comfortable furniture,...</td>\n",
       "    </tr>\n",
       "    <tr>\n",
       "      <th>...</th>\n",
       "      <td>...</td>\n",
       "      <td>...</td>\n",
       "      <td>...</td>\n",
       "    </tr>\n",
       "    <tr>\n",
       "      <th>13800</th>\n",
       "      <td>1879178889</td>\n",
       "      <td>5.0</td>\n",
       "      <td>Apartamento claro e limpo, muito boas instalaç...</td>\n",
       "    </tr>\n",
       "    <tr>\n",
       "      <th>13801</th>\n",
       "      <td>1879187989</td>\n",
       "      <td>2.0</td>\n",
       "      <td>o apartamento não vale o dinheiro.esta é minha...</td>\n",
       "    </tr>\n",
       "    <tr>\n",
       "      <th>13802</th>\n",
       "      <td>1879178958</td>\n",
       "      <td>5.0</td>\n",
       "      <td>A comunicação foi muito suave, o lugar é incrí...</td>\n",
       "    </tr>\n",
       "    <tr>\n",
       "      <th>13803</th>\n",
       "      <td>1879180188</td>\n",
       "      <td>4.0</td>\n",
       "      <td>pro: melhor localização no centro da cidade, o...</td>\n",
       "    </tr>\n",
       "    <tr>\n",
       "      <th>13804</th>\n",
       "      <td>1879192291</td>\n",
       "      <td>4.0</td>\n",
       "      <td>Bom lugar para ficar</td>\n",
       "    </tr>\n",
       "  </tbody>\n",
       "</table>\n",
       "<p>13805 rows × 3 columns</p>\n",
       "</div>"
      ],
      "text/plain": [
       "      ReservationId  RatingValue  \\\n",
       "0        1879140693          8.0   \n",
       "1        1879140870          8.0   \n",
       "2        1879139425         10.0   \n",
       "3        1879129551          8.0   \n",
       "4        1879139286         10.0   \n",
       "...             ...          ...   \n",
       "13800    1879178889          5.0   \n",
       "13801    1879187989          2.0   \n",
       "13802    1879178958          5.0   \n",
       "13803    1879180188          4.0   \n",
       "13804    1879192291          4.0   \n",
       "\n",
       "                                                Comments  \n",
       "0      Very nice place, it was spacious and good loca...  \n",
       "1      Casa muito espaçosa, com ótima vista e relativ...  \n",
       "2      We only stayed for a few days but the place is...  \n",
       "3      Un sitio agradable, lo mejor la terraza y las ...  \n",
       "4      Wonderful spacious apt, comfortable furniture,...  \n",
       "...                                                  ...  \n",
       "13800  Apartamento claro e limpo, muito boas instalaç...  \n",
       "13801  o apartamento não vale o dinheiro.esta é minha...  \n",
       "13802  A comunicação foi muito suave, o lugar é incrí...  \n",
       "13803  pro: melhor localização no centro da cidade, o...  \n",
       "13804                               Bom lugar para ficar  \n",
       "\n",
       "[13805 rows x 3 columns]"
      ]
     },
     "execution_count": 240,
     "metadata": {},
     "output_type": "execute_result"
    }
   ],
   "source": [
    "reviews1"
   ]
  },
  {
   "cell_type": "markdown",
   "id": "4f01f6e9",
   "metadata": {},
   "source": [
    "with pd.ExcelWriter('PFACD\\\\FLH2.xlsx') as writer:\n",
    "    # Write each DataFrame to a separate sheet\n",
    "    res.to_excel(writer, sheet_name='Reservas', index=False)\n",
    "    prop.to_excel(writer, sheet_name='Propriedades', index=False)\n",
    "    guests.to_excel(writer, sheet_name='Hóspedes', index=False)\n",
    "    reviews1.to_excel(writer, sheet_name='Reviews - geral', index=False)\n",
    "    reviews2.to_excel(writer, sheet_name='Reviews - detalhe', index=False)"
   ]
  },
  {
   "cell_type": "markdown",
   "id": "f43196c5",
   "metadata": {},
   "source": [
    "## Exportamos os dados para fazer a tradução das reviews todas para inglês à parte\n"
   ]
  },
  {
   "cell_type": "markdown",
   "id": "8892457e",
   "metadata": {},
   "source": [
    "## Agora vamos importar os dados já traduzidos"
   ]
  },
  {
   "cell_type": "code",
   "execution_count": 7,
   "id": "57436b0f",
   "metadata": {},
   "outputs": [],
   "source": [
    "file =\"PFACD\\\\TradFinal.xlsx\"\n",
    "\n",
    "\n",
    "res = pd.read_excel(file, 'Reservas')\n",
    "prop = pd.read_excel(file, 'Propriedades')\n",
    "guests = pd.read_excel(file, 'Hóspedes')\n",
    "reviews1 = pd.read_excel(file, 'Reviews - geral')\n",
    "reviews2 = pd.read_excel(file, 'Reviews - detalhe')\n",
    "\n",
    "\n"
   ]
  },
  {
   "cell_type": "code",
   "execution_count": 8,
   "id": "616c22d9",
   "metadata": {},
   "outputs": [],
   "source": [
    "reviews1.loc[reviews1['RatingValue'] == 44, 'RatingValue'] = 4\n"
   ]
  },
  {
   "cell_type": "code",
   "execution_count": 9,
   "id": "e1def70b",
   "metadata": {},
   "outputs": [],
   "source": [
    "def assign_polarity(row):\n",
    "    if row.name <= 10631:\n",
    "        if row['RatingValue'] in [1, 2, 3, 4]:\n",
    "            return 'Negative'\n",
    "        elif row['RatingValue'] in [5, 6]:\n",
    "            return 'Neutral'\n",
    "        elif row['RatingValue'] in [7, 8, 9, 10]:\n",
    "            return 'Positive'\n",
    "    else:\n",
    "        if row['RatingValue'] in [1, 2]:\n",
    "            return 'Negative'\n",
    "        elif row['RatingValue'] == 3:\n",
    "            return 'Neutral'\n",
    "        elif row['RatingValue'] in [4, 5]:\n",
    "            return 'Positive'\n",
    "\n",
    "reviews1['Polarity'] = reviews1.apply(assign_polarity, axis=1)"
   ]
  },
  {
   "cell_type": "code",
   "execution_count": 10,
   "id": "613616a9",
   "metadata": {},
   "outputs": [],
   "source": [
    "def assign_nps(row):\n",
    "    if row.name <= 10631:\n",
    "        if row['RatingValue'] in [1, 2]:\n",
    "            return 'Awfull'\n",
    "        elif row['RatingValue'] in [3, 4]:\n",
    "            return 'Bad'\n",
    "        elif row['RatingValue'] in [5, 6]:\n",
    "            return 'Neutral'\n",
    "        elif row['RatingValue'] in [7, 8]:\n",
    "            return 'Good'\n",
    "        elif row['RatingValue'] in [9, 10]:\n",
    "            return 'Very Good'                                    \n",
    "    else:\n",
    "        if row['RatingValue'] == 1:\n",
    "            return 'Awfull'\n",
    "        elif row['RatingValue'] == 2:\n",
    "            return 'Bad'\n",
    "        elif row['RatingValue'] == 3:\n",
    "            return 'Neutral'\n",
    "        elif row['RatingValue'] == 4:\n",
    "            return 'Good'\n",
    "        elif row['RatingValue'] == 5:\n",
    "            return 'Very Good'\n",
    "\n",
    "reviews1['NetPromoterScore'] = reviews1.apply(assign_nps, axis=1)"
   ]
  },
  {
   "cell_type": "code",
   "execution_count": 11,
   "id": "6ae73be9",
   "metadata": {},
   "outputs": [
    {
     "data": {
      "text/html": [
       "<div>\n",
       "<style scoped>\n",
       "    .dataframe tbody tr th:only-of-type {\n",
       "        vertical-align: middle;\n",
       "    }\n",
       "\n",
       "    .dataframe tbody tr th {\n",
       "        vertical-align: top;\n",
       "    }\n",
       "\n",
       "    .dataframe thead th {\n",
       "        text-align: right;\n",
       "    }\n",
       "</style>\n",
       "<table border=\"1\" class=\"dataframe\">\n",
       "  <thead>\n",
       "    <tr style=\"text-align: right;\">\n",
       "      <th></th>\n",
       "      <th>ReservationId</th>\n",
       "      <th>RatingValue</th>\n",
       "      <th>Comments</th>\n",
       "      <th>Language</th>\n",
       "      <th>EngTrad</th>\n",
       "      <th>Polarity</th>\n",
       "      <th>NetPromoterScore</th>\n",
       "    </tr>\n",
       "  </thead>\n",
       "  <tbody>\n",
       "    <tr>\n",
       "      <th>0</th>\n",
       "      <td>1.879141e+09</td>\n",
       "      <td>8.0</td>\n",
       "      <td>Very nice place, it was spacious and good loca...</td>\n",
       "      <td>__label__eng_Latn</td>\n",
       "      <td>Very nice place, it was spacious and well-loca...</td>\n",
       "      <td>Positive</td>\n",
       "      <td>Good</td>\n",
       "    </tr>\n",
       "    <tr>\n",
       "      <th>1</th>\n",
       "      <td>1.879141e+09</td>\n",
       "      <td>8.0</td>\n",
       "      <td>Casa muito espaçosa, com ótima vista e relativ...</td>\n",
       "      <td>__label__por_Latn</td>\n",
       "      <td>\"Very spacious house, with great views and rel...</td>\n",
       "      <td>Positive</td>\n",
       "      <td>Good</td>\n",
       "    </tr>\n",
       "    <tr>\n",
       "      <th>2</th>\n",
       "      <td>1.879139e+09</td>\n",
       "      <td>10.0</td>\n",
       "      <td>We only stayed for a few days but the place is...</td>\n",
       "      <td>__label__eng_Latn</td>\n",
       "      <td>''We only stayed for a few days but the place ...</td>\n",
       "      <td>Positive</td>\n",
       "      <td>Very Good</td>\n",
       "    </tr>\n",
       "    <tr>\n",
       "      <th>3</th>\n",
       "      <td>1.879130e+09</td>\n",
       "      <td>8.0</td>\n",
       "      <td>Un sitio agradable, lo mejor la terraza y las ...</td>\n",
       "      <td>__label__spa_Latn</td>\n",
       "      <td>\"A pleasant site, the best part is the terrace...</td>\n",
       "      <td>Positive</td>\n",
       "      <td>Good</td>\n",
       "    </tr>\n",
       "    <tr>\n",
       "      <th>4</th>\n",
       "      <td>1.879139e+09</td>\n",
       "      <td>10.0</td>\n",
       "      <td>Wonderful spacious apt, comfortable furniture,...</td>\n",
       "      <td>__label__eng_Latn</td>\n",
       "      <td>'''Wonderful spacious apt, comfortable furnitu...</td>\n",
       "      <td>Positive</td>\n",
       "      <td>Very Good</td>\n",
       "    </tr>\n",
       "    <tr>\n",
       "      <th>5</th>\n",
       "      <td>1.879140e+09</td>\n",
       "      <td>8.0</td>\n",
       "      <td>Good and decent apartment, clean, but widows a...</td>\n",
       "      <td>__label__eng_Latn</td>\n",
       "      <td>\"Good and decent apartment, clean, but windows...</td>\n",
       "      <td>Positive</td>\n",
       "      <td>Good</td>\n",
       "    </tr>\n",
       "    <tr>\n",
       "      <th>6</th>\n",
       "      <td>1.879131e+09</td>\n",
       "      <td>8.0</td>\n",
       "      <td>Le logement est très très bien situé, propre d...</td>\n",
       "      <td>__label__fra_Latn</td>\n",
       "      <td>The accommodation is very well located, clean ...</td>\n",
       "      <td>Positive</td>\n",
       "      <td>Good</td>\n",
       "    </tr>\n",
       "    <tr>\n",
       "      <th>7</th>\n",
       "      <td>1.879138e+09</td>\n",
       "      <td>10.0</td>\n",
       "      <td>Le studio était très propre, tout est encore f...</td>\n",
       "      <td>__label__fra_Latn</td>\n",
       "      <td>The studio was very clean, everything is still...</td>\n",
       "      <td>Positive</td>\n",
       "      <td>Very Good</td>\n",
       "    </tr>\n",
       "    <tr>\n",
       "      <th>8</th>\n",
       "      <td>1.879138e+09</td>\n",
       "      <td>8.0</td>\n",
       "      <td>Apparemment idéalement placé clair et spacieux...</td>\n",
       "      <td>__label__fra_Latn</td>\n",
       "      <td>\"Apparently ideally located, bright and spacio...</td>\n",
       "      <td>Positive</td>\n",
       "      <td>Good</td>\n",
       "    </tr>\n",
       "    <tr>\n",
       "      <th>9</th>\n",
       "      <td>1.879119e+09</td>\n",
       "      <td>8.0</td>\n",
       "      <td>Ótima estadia! Perto do centro, limpo, a comun...</td>\n",
       "      <td>__label__por_Latn</td>\n",
       "      <td>\"Great stay! Close to the center, clean, and c...</td>\n",
       "      <td>Positive</td>\n",
       "      <td>Good</td>\n",
       "    </tr>\n",
       "    <tr>\n",
       "      <th>10</th>\n",
       "      <td>1.879118e+09</td>\n",
       "      <td>8.0</td>\n",
       "      <td>Apartamento bom. Devem ter mais em atenção a l...</td>\n",
       "      <td>__label__por_Latn</td>\n",
       "      <td>\"Good apartment. They should pay more attentio...</td>\n",
       "      <td>Positive</td>\n",
       "      <td>Good</td>\n",
       "    </tr>\n",
       "    <tr>\n",
       "      <th>11</th>\n",
       "      <td>1.879139e+09</td>\n",
       "      <td>10.0</td>\n",
       "      <td>Super appartement en Bairro alto . Desing, con...</td>\n",
       "      <td>__label__fra_Latn</td>\n",
       "      <td>\"Super apartment in Bairro Alto. Design, comfo...</td>\n",
       "      <td>Positive</td>\n",
       "      <td>Very Good</td>\n",
       "    </tr>\n",
       "    <tr>\n",
       "      <th>12</th>\n",
       "      <td>1.879145e+09</td>\n",
       "      <td>8.0</td>\n",
       "      <td>Right in the heart of the charming old town an...</td>\n",
       "      <td>__label__eng_Latn</td>\n",
       "      <td>''Right in the heart of the charming old town ...</td>\n",
       "      <td>Positive</td>\n",
       "      <td>Good</td>\n",
       "    </tr>\n",
       "    <tr>\n",
       "      <th>13</th>\n",
       "      <td>1.879144e+09</td>\n",
       "      <td>2.0</td>\n",
       "      <td>They cancelled 30 minutes before check-in the ...</td>\n",
       "      <td>__label__eng_Latn</td>\n",
       "      <td>\"They cancelled the apartment 30 minutes befor...</td>\n",
       "      <td>Negative</td>\n",
       "      <td>Awfull</td>\n",
       "    </tr>\n",
       "    <tr>\n",
       "      <th>14</th>\n",
       "      <td>1.879144e+09</td>\n",
       "      <td>10.0</td>\n",
       "      <td>Lovely place, more spacious than I expected an...</td>\n",
       "      <td>__label__eng_Latn</td>\n",
       "      <td>'''Lovely place, more spacious than I expected...</td>\n",
       "      <td>Positive</td>\n",
       "      <td>Very Good</td>\n",
       "    </tr>\n",
       "    <tr>\n",
       "      <th>15</th>\n",
       "      <td>1.879149e+09</td>\n",
       "      <td>4.0</td>\n",
       "      <td>Appartement en carton, on entend les voisins. ...</td>\n",
       "      <td>__label__fra_Latn</td>\n",
       "      <td>\"Cardboard apartment, you can hear the neighbo...</td>\n",
       "      <td>Negative</td>\n",
       "      <td>Bad</td>\n",
       "    </tr>\n",
       "    <tr>\n",
       "      <th>16</th>\n",
       "      <td>1.879142e+09</td>\n",
       "      <td>10.0</td>\n",
       "      <td>Nice area, in autum and wintertime good place ...</td>\n",
       "      <td>__label__eng_Latn</td>\n",
       "      <td>''Nice area, in autumn and wintertime good pla...</td>\n",
       "      <td>Positive</td>\n",
       "      <td>Very Good</td>\n",
       "    </tr>\n",
       "    <tr>\n",
       "      <th>17</th>\n",
       "      <td>1.879143e+09</td>\n",
       "      <td>10.0</td>\n",
       "      <td>Would rent it again. Nice area and apartment t...</td>\n",
       "      <td>__label__eng_Latn</td>\n",
       "      <td>Would rent it again. Nice area and apartment t...</td>\n",
       "      <td>Positive</td>\n",
       "      <td>Very Good</td>\n",
       "    </tr>\n",
       "    <tr>\n",
       "      <th>18</th>\n",
       "      <td>1.879139e+09</td>\n",
       "      <td>10.0</td>\n",
       "      <td>Fantastic place to be in the center of town. Q...</td>\n",
       "      <td>__label__eng_Latn</td>\n",
       "      <td>'''Fantastic place to be in the center of town...</td>\n",
       "      <td>Positive</td>\n",
       "      <td>Very Good</td>\n",
       "    </tr>\n",
       "    <tr>\n",
       "      <th>19</th>\n",
       "      <td>1.879098e+09</td>\n",
       "      <td>10.0</td>\n",
       "      <td>Thank you very much Feels like home Portugal f...</td>\n",
       "      <td>__label__eng_Latn</td>\n",
       "      <td>\"Thank you very much Feels like home Portugal ...</td>\n",
       "      <td>Positive</td>\n",
       "      <td>Very Good</td>\n",
       "    </tr>\n",
       "  </tbody>\n",
       "</table>\n",
       "</div>"
      ],
      "text/plain": [
       "    ReservationId  RatingValue  \\\n",
       "0    1.879141e+09          8.0   \n",
       "1    1.879141e+09          8.0   \n",
       "2    1.879139e+09         10.0   \n",
       "3    1.879130e+09          8.0   \n",
       "4    1.879139e+09         10.0   \n",
       "5    1.879140e+09          8.0   \n",
       "6    1.879131e+09          8.0   \n",
       "7    1.879138e+09         10.0   \n",
       "8    1.879138e+09          8.0   \n",
       "9    1.879119e+09          8.0   \n",
       "10   1.879118e+09          8.0   \n",
       "11   1.879139e+09         10.0   \n",
       "12   1.879145e+09          8.0   \n",
       "13   1.879144e+09          2.0   \n",
       "14   1.879144e+09         10.0   \n",
       "15   1.879149e+09          4.0   \n",
       "16   1.879142e+09         10.0   \n",
       "17   1.879143e+09         10.0   \n",
       "18   1.879139e+09         10.0   \n",
       "19   1.879098e+09         10.0   \n",
       "\n",
       "                                             Comments           Language  \\\n",
       "0   Very nice place, it was spacious and good loca...  __label__eng_Latn   \n",
       "1   Casa muito espaçosa, com ótima vista e relativ...  __label__por_Latn   \n",
       "2   We only stayed for a few days but the place is...  __label__eng_Latn   \n",
       "3   Un sitio agradable, lo mejor la terraza y las ...  __label__spa_Latn   \n",
       "4   Wonderful spacious apt, comfortable furniture,...  __label__eng_Latn   \n",
       "5   Good and decent apartment, clean, but widows a...  __label__eng_Latn   \n",
       "6   Le logement est très très bien situé, propre d...  __label__fra_Latn   \n",
       "7   Le studio était très propre, tout est encore f...  __label__fra_Latn   \n",
       "8   Apparemment idéalement placé clair et spacieux...  __label__fra_Latn   \n",
       "9   Ótima estadia! Perto do centro, limpo, a comun...  __label__por_Latn   \n",
       "10  Apartamento bom. Devem ter mais em atenção a l...  __label__por_Latn   \n",
       "11  Super appartement en Bairro alto . Desing, con...  __label__fra_Latn   \n",
       "12  Right in the heart of the charming old town an...  __label__eng_Latn   \n",
       "13  They cancelled 30 minutes before check-in the ...  __label__eng_Latn   \n",
       "14  Lovely place, more spacious than I expected an...  __label__eng_Latn   \n",
       "15  Appartement en carton, on entend les voisins. ...  __label__fra_Latn   \n",
       "16  Nice area, in autum and wintertime good place ...  __label__eng_Latn   \n",
       "17  Would rent it again. Nice area and apartment t...  __label__eng_Latn   \n",
       "18  Fantastic place to be in the center of town. Q...  __label__eng_Latn   \n",
       "19  Thank you very much Feels like home Portugal f...  __label__eng_Latn   \n",
       "\n",
       "                                              EngTrad  Polarity  \\\n",
       "0   Very nice place, it was spacious and well-loca...  Positive   \n",
       "1   \"Very spacious house, with great views and rel...  Positive   \n",
       "2   ''We only stayed for a few days but the place ...  Positive   \n",
       "3   \"A pleasant site, the best part is the terrace...  Positive   \n",
       "4   '''Wonderful spacious apt, comfortable furnitu...  Positive   \n",
       "5   \"Good and decent apartment, clean, but windows...  Positive   \n",
       "6   The accommodation is very well located, clean ...  Positive   \n",
       "7   The studio was very clean, everything is still...  Positive   \n",
       "8   \"Apparently ideally located, bright and spacio...  Positive   \n",
       "9   \"Great stay! Close to the center, clean, and c...  Positive   \n",
       "10  \"Good apartment. They should pay more attentio...  Positive   \n",
       "11  \"Super apartment in Bairro Alto. Design, comfo...  Positive   \n",
       "12  ''Right in the heart of the charming old town ...  Positive   \n",
       "13  \"They cancelled the apartment 30 minutes befor...  Negative   \n",
       "14  '''Lovely place, more spacious than I expected...  Positive   \n",
       "15  \"Cardboard apartment, you can hear the neighbo...  Negative   \n",
       "16  ''Nice area, in autumn and wintertime good pla...  Positive   \n",
       "17  Would rent it again. Nice area and apartment t...  Positive   \n",
       "18  '''Fantastic place to be in the center of town...  Positive   \n",
       "19  \"Thank you very much Feels like home Portugal ...  Positive   \n",
       "\n",
       "   NetPromoterScore  \n",
       "0              Good  \n",
       "1              Good  \n",
       "2         Very Good  \n",
       "3              Good  \n",
       "4         Very Good  \n",
       "5              Good  \n",
       "6              Good  \n",
       "7         Very Good  \n",
       "8              Good  \n",
       "9              Good  \n",
       "10             Good  \n",
       "11        Very Good  \n",
       "12             Good  \n",
       "13           Awfull  \n",
       "14        Very Good  \n",
       "15              Bad  \n",
       "16        Very Good  \n",
       "17        Very Good  \n",
       "18        Very Good  \n",
       "19        Very Good  "
      ]
     },
     "execution_count": 11,
     "metadata": {},
     "output_type": "execute_result"
    }
   ],
   "source": [
    "reviews1.head(20)"
   ]
  },
  {
   "cell_type": "code",
   "execution_count": 12,
   "id": "25ebbd22",
   "metadata": {},
   "outputs": [
    {
     "data": {
      "text/plain": [
       "(11244, 7)"
      ]
     },
     "execution_count": 12,
     "metadata": {},
     "output_type": "execute_result"
    }
   ],
   "source": [
    "reviews1.shape"
   ]
  },
  {
   "cell_type": "code",
   "execution_count": 13,
   "id": "b870c4a8",
   "metadata": {},
   "outputs": [],
   "source": [
    "reviews1.dropna(subset=[\"Comments\"], inplace= True)"
   ]
  },
  {
   "cell_type": "code",
   "execution_count": 14,
   "id": "b2c11f18",
   "metadata": {},
   "outputs": [
    {
     "data": {
      "text/html": [
       "<div>\n",
       "<style scoped>\n",
       "    .dataframe tbody tr th:only-of-type {\n",
       "        vertical-align: middle;\n",
       "    }\n",
       "\n",
       "    .dataframe tbody tr th {\n",
       "        vertical-align: top;\n",
       "    }\n",
       "\n",
       "    .dataframe thead th {\n",
       "        text-align: right;\n",
       "    }\n",
       "</style>\n",
       "<table border=\"1\" class=\"dataframe\">\n",
       "  <thead>\n",
       "    <tr style=\"text-align: right;\">\n",
       "      <th></th>\n",
       "      <th>ReservationId</th>\n",
       "      <th>RatingValue</th>\n",
       "      <th>Comments</th>\n",
       "      <th>Language</th>\n",
       "      <th>EngTrad</th>\n",
       "      <th>Polarity</th>\n",
       "      <th>NetPromoterScore</th>\n",
       "    </tr>\n",
       "  </thead>\n",
       "  <tbody>\n",
       "    <tr>\n",
       "      <th>0</th>\n",
       "      <td>1.879141e+09</td>\n",
       "      <td>8.0</td>\n",
       "      <td>Very nice place, it was spacious and good loca...</td>\n",
       "      <td>__label__eng_Latn</td>\n",
       "      <td>Very nice place, it was spacious and well-loca...</td>\n",
       "      <td>Positive</td>\n",
       "      <td>Good</td>\n",
       "    </tr>\n",
       "    <tr>\n",
       "      <th>1</th>\n",
       "      <td>1.879141e+09</td>\n",
       "      <td>8.0</td>\n",
       "      <td>Casa muito espaçosa, com ótima vista e relativ...</td>\n",
       "      <td>__label__por_Latn</td>\n",
       "      <td>\"Very spacious house, with great views and rel...</td>\n",
       "      <td>Positive</td>\n",
       "      <td>Good</td>\n",
       "    </tr>\n",
       "    <tr>\n",
       "      <th>2</th>\n",
       "      <td>1.879139e+09</td>\n",
       "      <td>10.0</td>\n",
       "      <td>We only stayed for a few days but the place is...</td>\n",
       "      <td>__label__eng_Latn</td>\n",
       "      <td>''We only stayed for a few days but the place ...</td>\n",
       "      <td>Positive</td>\n",
       "      <td>Very Good</td>\n",
       "    </tr>\n",
       "    <tr>\n",
       "      <th>3</th>\n",
       "      <td>1.879130e+09</td>\n",
       "      <td>8.0</td>\n",
       "      <td>Un sitio agradable, lo mejor la terraza y las ...</td>\n",
       "      <td>__label__spa_Latn</td>\n",
       "      <td>\"A pleasant site, the best part is the terrace...</td>\n",
       "      <td>Positive</td>\n",
       "      <td>Good</td>\n",
       "    </tr>\n",
       "    <tr>\n",
       "      <th>4</th>\n",
       "      <td>1.879139e+09</td>\n",
       "      <td>10.0</td>\n",
       "      <td>Wonderful spacious apt, comfortable furniture,...</td>\n",
       "      <td>__label__eng_Latn</td>\n",
       "      <td>'''Wonderful spacious apt, comfortable furnitu...</td>\n",
       "      <td>Positive</td>\n",
       "      <td>Very Good</td>\n",
       "    </tr>\n",
       "    <tr>\n",
       "      <th>5</th>\n",
       "      <td>1.879140e+09</td>\n",
       "      <td>8.0</td>\n",
       "      <td>Good and decent apartment, clean, but widows a...</td>\n",
       "      <td>__label__eng_Latn</td>\n",
       "      <td>\"Good and decent apartment, clean, but windows...</td>\n",
       "      <td>Positive</td>\n",
       "      <td>Good</td>\n",
       "    </tr>\n",
       "    <tr>\n",
       "      <th>6</th>\n",
       "      <td>1.879131e+09</td>\n",
       "      <td>8.0</td>\n",
       "      <td>Le logement est très très bien situé, propre d...</td>\n",
       "      <td>__label__fra_Latn</td>\n",
       "      <td>The accommodation is very well located, clean ...</td>\n",
       "      <td>Positive</td>\n",
       "      <td>Good</td>\n",
       "    </tr>\n",
       "    <tr>\n",
       "      <th>7</th>\n",
       "      <td>1.879138e+09</td>\n",
       "      <td>10.0</td>\n",
       "      <td>Le studio était très propre, tout est encore f...</td>\n",
       "      <td>__label__fra_Latn</td>\n",
       "      <td>The studio was very clean, everything is still...</td>\n",
       "      <td>Positive</td>\n",
       "      <td>Very Good</td>\n",
       "    </tr>\n",
       "    <tr>\n",
       "      <th>8</th>\n",
       "      <td>1.879138e+09</td>\n",
       "      <td>8.0</td>\n",
       "      <td>Apparemment idéalement placé clair et spacieux...</td>\n",
       "      <td>__label__fra_Latn</td>\n",
       "      <td>\"Apparently ideally located, bright and spacio...</td>\n",
       "      <td>Positive</td>\n",
       "      <td>Good</td>\n",
       "    </tr>\n",
       "    <tr>\n",
       "      <th>9</th>\n",
       "      <td>1.879119e+09</td>\n",
       "      <td>8.0</td>\n",
       "      <td>Ótima estadia! Perto do centro, limpo, a comun...</td>\n",
       "      <td>__label__por_Latn</td>\n",
       "      <td>\"Great stay! Close to the center, clean, and c...</td>\n",
       "      <td>Positive</td>\n",
       "      <td>Good</td>\n",
       "    </tr>\n",
       "    <tr>\n",
       "      <th>10</th>\n",
       "      <td>1.879118e+09</td>\n",
       "      <td>8.0</td>\n",
       "      <td>Apartamento bom. Devem ter mais em atenção a l...</td>\n",
       "      <td>__label__por_Latn</td>\n",
       "      <td>\"Good apartment. They should pay more attentio...</td>\n",
       "      <td>Positive</td>\n",
       "      <td>Good</td>\n",
       "    </tr>\n",
       "    <tr>\n",
       "      <th>11</th>\n",
       "      <td>1.879139e+09</td>\n",
       "      <td>10.0</td>\n",
       "      <td>Super appartement en Bairro alto . Desing, con...</td>\n",
       "      <td>__label__fra_Latn</td>\n",
       "      <td>\"Super apartment in Bairro Alto. Design, comfo...</td>\n",
       "      <td>Positive</td>\n",
       "      <td>Very Good</td>\n",
       "    </tr>\n",
       "    <tr>\n",
       "      <th>12</th>\n",
       "      <td>1.879145e+09</td>\n",
       "      <td>8.0</td>\n",
       "      <td>Right in the heart of the charming old town an...</td>\n",
       "      <td>__label__eng_Latn</td>\n",
       "      <td>''Right in the heart of the charming old town ...</td>\n",
       "      <td>Positive</td>\n",
       "      <td>Good</td>\n",
       "    </tr>\n",
       "    <tr>\n",
       "      <th>13</th>\n",
       "      <td>1.879144e+09</td>\n",
       "      <td>2.0</td>\n",
       "      <td>They cancelled 30 minutes before check-in the ...</td>\n",
       "      <td>__label__eng_Latn</td>\n",
       "      <td>\"They cancelled the apartment 30 minutes befor...</td>\n",
       "      <td>Negative</td>\n",
       "      <td>Awfull</td>\n",
       "    </tr>\n",
       "    <tr>\n",
       "      <th>14</th>\n",
       "      <td>1.879144e+09</td>\n",
       "      <td>10.0</td>\n",
       "      <td>Lovely place, more spacious than I expected an...</td>\n",
       "      <td>__label__eng_Latn</td>\n",
       "      <td>'''Lovely place, more spacious than I expected...</td>\n",
       "      <td>Positive</td>\n",
       "      <td>Very Good</td>\n",
       "    </tr>\n",
       "    <tr>\n",
       "      <th>15</th>\n",
       "      <td>1.879149e+09</td>\n",
       "      <td>4.0</td>\n",
       "      <td>Appartement en carton, on entend les voisins. ...</td>\n",
       "      <td>__label__fra_Latn</td>\n",
       "      <td>\"Cardboard apartment, you can hear the neighbo...</td>\n",
       "      <td>Negative</td>\n",
       "      <td>Bad</td>\n",
       "    </tr>\n",
       "    <tr>\n",
       "      <th>16</th>\n",
       "      <td>1.879142e+09</td>\n",
       "      <td>10.0</td>\n",
       "      <td>Nice area, in autum and wintertime good place ...</td>\n",
       "      <td>__label__eng_Latn</td>\n",
       "      <td>''Nice area, in autumn and wintertime good pla...</td>\n",
       "      <td>Positive</td>\n",
       "      <td>Very Good</td>\n",
       "    </tr>\n",
       "    <tr>\n",
       "      <th>17</th>\n",
       "      <td>1.879143e+09</td>\n",
       "      <td>10.0</td>\n",
       "      <td>Would rent it again. Nice area and apartment t...</td>\n",
       "      <td>__label__eng_Latn</td>\n",
       "      <td>Would rent it again. Nice area and apartment t...</td>\n",
       "      <td>Positive</td>\n",
       "      <td>Very Good</td>\n",
       "    </tr>\n",
       "    <tr>\n",
       "      <th>18</th>\n",
       "      <td>1.879139e+09</td>\n",
       "      <td>10.0</td>\n",
       "      <td>Fantastic place to be in the center of town. Q...</td>\n",
       "      <td>__label__eng_Latn</td>\n",
       "      <td>'''Fantastic place to be in the center of town...</td>\n",
       "      <td>Positive</td>\n",
       "      <td>Very Good</td>\n",
       "    </tr>\n",
       "    <tr>\n",
       "      <th>19</th>\n",
       "      <td>1.879098e+09</td>\n",
       "      <td>10.0</td>\n",
       "      <td>Thank you very much Feels like home Portugal f...</td>\n",
       "      <td>__label__eng_Latn</td>\n",
       "      <td>\"Thank you very much Feels like home Portugal ...</td>\n",
       "      <td>Positive</td>\n",
       "      <td>Very Good</td>\n",
       "    </tr>\n",
       "  </tbody>\n",
       "</table>\n",
       "</div>"
      ],
      "text/plain": [
       "    ReservationId  RatingValue  \\\n",
       "0    1.879141e+09          8.0   \n",
       "1    1.879141e+09          8.0   \n",
       "2    1.879139e+09         10.0   \n",
       "3    1.879130e+09          8.0   \n",
       "4    1.879139e+09         10.0   \n",
       "5    1.879140e+09          8.0   \n",
       "6    1.879131e+09          8.0   \n",
       "7    1.879138e+09         10.0   \n",
       "8    1.879138e+09          8.0   \n",
       "9    1.879119e+09          8.0   \n",
       "10   1.879118e+09          8.0   \n",
       "11   1.879139e+09         10.0   \n",
       "12   1.879145e+09          8.0   \n",
       "13   1.879144e+09          2.0   \n",
       "14   1.879144e+09         10.0   \n",
       "15   1.879149e+09          4.0   \n",
       "16   1.879142e+09         10.0   \n",
       "17   1.879143e+09         10.0   \n",
       "18   1.879139e+09         10.0   \n",
       "19   1.879098e+09         10.0   \n",
       "\n",
       "                                             Comments           Language  \\\n",
       "0   Very nice place, it was spacious and good loca...  __label__eng_Latn   \n",
       "1   Casa muito espaçosa, com ótima vista e relativ...  __label__por_Latn   \n",
       "2   We only stayed for a few days but the place is...  __label__eng_Latn   \n",
       "3   Un sitio agradable, lo mejor la terraza y las ...  __label__spa_Latn   \n",
       "4   Wonderful spacious apt, comfortable furniture,...  __label__eng_Latn   \n",
       "5   Good and decent apartment, clean, but widows a...  __label__eng_Latn   \n",
       "6   Le logement est très très bien situé, propre d...  __label__fra_Latn   \n",
       "7   Le studio était très propre, tout est encore f...  __label__fra_Latn   \n",
       "8   Apparemment idéalement placé clair et spacieux...  __label__fra_Latn   \n",
       "9   Ótima estadia! Perto do centro, limpo, a comun...  __label__por_Latn   \n",
       "10  Apartamento bom. Devem ter mais em atenção a l...  __label__por_Latn   \n",
       "11  Super appartement en Bairro alto . Desing, con...  __label__fra_Latn   \n",
       "12  Right in the heart of the charming old town an...  __label__eng_Latn   \n",
       "13  They cancelled 30 minutes before check-in the ...  __label__eng_Latn   \n",
       "14  Lovely place, more spacious than I expected an...  __label__eng_Latn   \n",
       "15  Appartement en carton, on entend les voisins. ...  __label__fra_Latn   \n",
       "16  Nice area, in autum and wintertime good place ...  __label__eng_Latn   \n",
       "17  Would rent it again. Nice area and apartment t...  __label__eng_Latn   \n",
       "18  Fantastic place to be in the center of town. Q...  __label__eng_Latn   \n",
       "19  Thank you very much Feels like home Portugal f...  __label__eng_Latn   \n",
       "\n",
       "                                              EngTrad  Polarity  \\\n",
       "0   Very nice place, it was spacious and well-loca...  Positive   \n",
       "1   \"Very spacious house, with great views and rel...  Positive   \n",
       "2   ''We only stayed for a few days but the place ...  Positive   \n",
       "3   \"A pleasant site, the best part is the terrace...  Positive   \n",
       "4   '''Wonderful spacious apt, comfortable furnitu...  Positive   \n",
       "5   \"Good and decent apartment, clean, but windows...  Positive   \n",
       "6   The accommodation is very well located, clean ...  Positive   \n",
       "7   The studio was very clean, everything is still...  Positive   \n",
       "8   \"Apparently ideally located, bright and spacio...  Positive   \n",
       "9   \"Great stay! Close to the center, clean, and c...  Positive   \n",
       "10  \"Good apartment. They should pay more attentio...  Positive   \n",
       "11  \"Super apartment in Bairro Alto. Design, comfo...  Positive   \n",
       "12  ''Right in the heart of the charming old town ...  Positive   \n",
       "13  \"They cancelled the apartment 30 minutes befor...  Negative   \n",
       "14  '''Lovely place, more spacious than I expected...  Positive   \n",
       "15  \"Cardboard apartment, you can hear the neighbo...  Negative   \n",
       "16  ''Nice area, in autumn and wintertime good pla...  Positive   \n",
       "17  Would rent it again. Nice area and apartment t...  Positive   \n",
       "18  '''Fantastic place to be in the center of town...  Positive   \n",
       "19  \"Thank you very much Feels like home Portugal ...  Positive   \n",
       "\n",
       "   NetPromoterScore  \n",
       "0              Good  \n",
       "1              Good  \n",
       "2         Very Good  \n",
       "3              Good  \n",
       "4         Very Good  \n",
       "5              Good  \n",
       "6              Good  \n",
       "7         Very Good  \n",
       "8              Good  \n",
       "9              Good  \n",
       "10             Good  \n",
       "11        Very Good  \n",
       "12             Good  \n",
       "13           Awfull  \n",
       "14        Very Good  \n",
       "15              Bad  \n",
       "16        Very Good  \n",
       "17        Very Good  \n",
       "18        Very Good  \n",
       "19        Very Good  "
      ]
     },
     "execution_count": 14,
     "metadata": {},
     "output_type": "execute_result"
    }
   ],
   "source": [
    "reviews1.head(20)"
   ]
  },
  {
   "cell_type": "code",
   "execution_count": 15,
   "id": "48d4dc2b",
   "metadata": {},
   "outputs": [
    {
     "data": {
      "text/plain": [
       "(11244, 7)"
      ]
     },
     "execution_count": 15,
     "metadata": {},
     "output_type": "execute_result"
    }
   ],
   "source": [
    "reviews1.shape"
   ]
  },
  {
   "cell_type": "code",
   "execution_count": 16,
   "id": "eaff2453",
   "metadata": {},
   "outputs": [],
   "source": [
    "reviews1.rename(columns={'EngTrad': 'Translated'}, inplace=True)"
   ]
  },
  {
   "cell_type": "markdown",
   "id": "15c546d2",
   "metadata": {},
   "source": [
    "## Text pre-processing"
   ]
  },
  {
   "cell_type": "markdown",
   "id": "96638df6",
   "metadata": {},
   "source": [
    "####   Lower Casing the Data"
   ]
  },
  {
   "cell_type": "code",
   "execution_count": 17,
   "id": "56a35dd9",
   "metadata": {},
   "outputs": [],
   "source": [
    "reviews1['Translated'] = reviews1['Translated'].str.lower()"
   ]
  },
  {
   "cell_type": "markdown",
   "id": "808d7747",
   "metadata": {},
   "source": [
    "#### Removing Contractions"
   ]
  },
  {
   "cell_type": "code",
   "execution_count": 18,
   "id": "ed6db1af",
   "metadata": {},
   "outputs": [],
   "source": [
    "def remove_contractions(text):\n",
    "    expanded_text = contractions.fix(text)\n",
    "    return expanded_text\n",
    "\n",
    "\n",
    "reviews1['Translated'] = reviews1['Translated'].apply(remove_contractions)\n"
   ]
  },
  {
   "cell_type": "markdown",
   "id": "5cd471a7",
   "metadata": {},
   "source": [
    "####  Removing Punctuations"
   ]
  },
  {
   "cell_type": "code",
   "execution_count": 19,
   "id": "21aacfc9",
   "metadata": {},
   "outputs": [
    {
     "data": {
      "text/plain": [
       "'!\"#$%&\\'()*+,-./:;<=>?@[\\\\]^_`{|}~'"
      ]
     },
     "execution_count": 19,
     "metadata": {},
     "output_type": "execute_result"
    }
   ],
   "source": [
    "string.punctuation"
   ]
  },
  {
   "cell_type": "code",
   "execution_count": 20,
   "id": "d68f459a",
   "metadata": {},
   "outputs": [],
   "source": [
    "def remove_punctuation(text):\n",
    "    return re.sub(f'[{string.punctuation}]', '', text)\n",
    "\n",
    "\n",
    "reviews1['Translated'] = reviews1['Translated'].apply(remove_punctuation)\n"
   ]
  },
  {
   "cell_type": "markdown",
   "id": "22cddc3f",
   "metadata": {},
   "source": [
    "####  Removing Extra Space"
   ]
  },
  {
   "cell_type": "code",
   "execution_count": 21,
   "id": "37c2cf9d",
   "metadata": {},
   "outputs": [],
   "source": [
    "reviews1['Translated'] = reviews1['Translated'].apply(lambda text: \" \".join(text.split()))\n"
   ]
  },
  {
   "cell_type": "markdown",
   "id": "09b121d6",
   "metadata": {},
   "source": [
    "#### Removing/Conversion  Emojis and Emoticons"
   ]
  },
  {
   "cell_type": "code",
   "execution_count": 22,
   "id": "575030d2",
   "metadata": {},
   "outputs": [],
   "source": [
    "def remove_emoji(string):\n",
    "    emoji_pattern = re.compile(\"[\"\n",
    "                           u\"U0001F600-U0001F64F\"  # emoticons\n",
    "                           u\"U0001F300-U0001F5FF\"  # symbols & pictographs\n",
    "                           u\"U0001F680-U0001F6FF\"  # transport & map symbols\n",
    "                           u\"U0001F1E0-U0001F1FF\"  # flags (iOS)\n",
    "                           u\"U00002702-U000027B0\"\n",
    "                           u\"U000024C2-U0001F251\"\n",
    "                           \"]+\", flags=re.UNICODE)\n",
    "    return emoji_pattern.sub(r'', string)"
   ]
  },
  {
   "cell_type": "code",
   "execution_count": 23,
   "id": "fe5e3992",
   "metadata": {},
   "outputs": [],
   "source": [
    "reviews1['Translated'] = reviews1['Translated'].apply(remove_emoji)"
   ]
  },
  {
   "cell_type": "code",
   "execution_count": 24,
   "id": "1c82e8c0",
   "metadata": {},
   "outputs": [],
   "source": [
    "EMOTICONS_EMO = {\n",
    "    u\":‑)\":\"Happy face or smiley\",\n",
    "    u\":-))\":\"Very Happy face or smiley\",\n",
    "    u\":-)))\":\"Very very Happy face or smiley\",\n",
    "    u\":)\":\"Happy face or smiley\",\n",
    "    u\":))\":\"Very Happy face or smiley\",\n",
    "    u\":)))\":\"Very very Happy face or smiley\",\n",
    "    u\":-]\":\"Happy face or smiley\",\n",
    "    u\":]\":\"Happy face or smiley\",\n",
    "    u\":-3\":\"Happy face smiley\",\n",
    "    u\":3\":\"Happy face smiley\",\n",
    "    u\":->\":\"Happy face smiley\",\n",
    "    u\":>\":\"Happy face smiley\",\n",
    "    u\"8-)\":\"Happy face smiley\",\n",
    "    u\":o)\":\"Happy face smiley\",\n",
    "    u\":-}\":\"Happy face smiley\",\n",
    "    u\":}\":\"Happy face smiley\",\n",
    "    u\":-)\":\"Happy face smiley\",\n",
    "    u\":c)\":\"Happy face smiley\",\n",
    "    u\":^)\":\"Happy face smiley\",\n",
    "    u\"=]\":\"Happy face smiley\",\n",
    "    u\"=)\":\"Happy face smiley\",\n",
    "    u\":‑D\":\"Laughing, big grin or laugh with glasses\",\n",
    "    u\":D\":\"Laughing, big grin or laugh with glasses\",\n",
    "    u\"8‑D\":\"Laughing, big grin or laugh with glasses\",\n",
    "    u\"8D\":\"Laughing, big grin or laugh with glasses\",\n",
    "    u\"X‑D\":\"Laughing, big grin or laugh with glasses\",\n",
    "    u\"XD\":\"Laughing, big grin or laugh with glasses\",\n",
    "    u\"=D\":\"Laughing, big grin or laugh with glasses\",\n",
    "    u\"=3\":\"Laughing, big grin or laugh with glasses\",\n",
    "    u\"B^D\":\"Laughing, big grin or laugh with glasses\",\n",
    "    u\":-))\":\"Very happy\",\n",
    "    u\":-(\":\"Frown, sad, angry or pouting\",\n",
    "    u\":‑(\":\"Frown, sad, angry or pouting\",\n",
    "    u\":(\":\"Frown, sad, angry or pouting\",\n",
    "    u\":‑c\":\"Frown, sad, angry or pouting\",\n",
    "    u\":c\":\"Frown, sad, angry or pouting\",\n",
    "    u\":‑<\":\"Frown, sad, angry or pouting\",\n",
    "    u\":<\":\"Frown, sad, angry or pouting\",\n",
    "    u\":‑[\":\"Frown, sad, angry or pouting\",\n",
    "    u\":[\":\"Frown, sad, angry or pouting\",\n",
    "    u\":-||\":\"Frown, sad, angry or pouting\",\n",
    "    u\">:[\":\"Frown, sad, angry or pouting\",\n",
    "    u\":{\":\"Frown, sad, angry or pouting\",\n",
    "    u\":@\":\"Frown, sad, angry or pouting\",\n",
    "    u\">:(\":\"Frown, sad, angry or pouting\",\n",
    "    u\":'‑(\":\"Crying\",\n",
    "    u\":'(\":\"Crying\",\n",
    "    u\":'‑)\":\"Tears of happiness\",\n",
    "    u\":')\":\"Tears of happiness\",\n",
    "    u\"D‑':\":\"Horror\",\n",
    "    u\"D:<\":\"Disgust\",\n",
    "    u\"D:\":\"Sadness\",\n",
    "    u\"D8\":\"Great dismay\",\n",
    "    u\"D;\":\"Great dismay\",\n",
    "    u\"D=\":\"Great dismay\",\n",
    "    u\"DX\":\"Great dismay\",\n",
    "    u\":‑O\":\"Surprise\",\n",
    "    u\":O\":\"Surprise\",\n",
    "    u\":‑o\":\"Surprise\",\n",
    "    u\":o\":\"Surprise\",\n",
    "    u\":-0\":\"Shock\",\n",
    "    u\"8‑0\":\"Yawn\",\n",
    "    u\">:O\":\"Yawn\",\n",
    "    u\":-*\":\"Kiss\",\n",
    "    u\":*\":\"Kiss\",\n",
    "    u\":X\":\"Kiss\",\n",
    "    u\";‑)\":\"Wink or smirk\",\n",
    "    u\";)\":\"Wink or smirk\",\n",
    "    u\"*-)\":\"Wink or smirk\",\n",
    "    u\"*)\":\"Wink or smirk\",\n",
    "    u\";‑]\":\"Wink or smirk\",\n",
    "    u\";]\":\"Wink or smirk\",\n",
    "    u\";^)\":\"Wink or smirk\",\n",
    "    u\":‑,\":\"Wink or smirk\",\n",
    "    u\";D\":\"Wink or smirk\",\n",
    "    u\":‑P\":\"Tongue sticking out, cheeky, playful or blowing a raspberry\",\n",
    "    u\":P\":\"Tongue sticking out, cheeky, playful or blowing a raspberry\",\n",
    "    u\"X‑P\":\"Tongue sticking out, cheeky, playful or blowing a raspberry\",\n",
    "    u\"XP\":\"Tongue sticking out, cheeky, playful or blowing a raspberry\",\n",
    "    u\":‑Þ\":\"Tongue sticking out, cheeky, playful or blowing a raspberry\",\n",
    "    u\":Þ\":\"Tongue sticking out, cheeky, playful or blowing a raspberry\",\n",
    "    u\":b\":\"Tongue sticking out, cheeky, playful or blowing a raspberry\",\n",
    "    u\"d:\":\"Tongue sticking out, cheeky, playful or blowing a raspberry\",\n",
    "    u\"=p\":\"Tongue sticking out, cheeky, playful or blowing a raspberry\",\n",
    "    u\">:P\":\"Tongue sticking out, cheeky, playful or blowing a raspberry\",\n",
    "    u\":‑/\":\"Skeptical, annoyed, undecided, uneasy or hesitant\",\n",
    "    u\":/\":\"Skeptical, annoyed, undecided, uneasy or hesitant\",\n",
    "    u\":-[.]\":\"Skeptical, annoyed, undecided, uneasy or hesitant\",\n",
    "    u\">:[(\\)]\":\"Skeptical, annoyed, undecided, uneasy or hesitant\",\n",
    "    u\">:/\":\"Skeptical, annoyed, undecided, uneasy or hesitant\",\n",
    "    u\":[(\\)]\":\"Skeptical, annoyed, undecided, uneasy or hesitant\",\n",
    "    u\"=/\":\"Skeptical, annoyed, undecided, uneasy or hesitant\",\n",
    "    u\"=[(\\)]\":\"Skeptical, annoyed, undecided, uneasy or hesitant\",\n",
    "    u\":L\":\"Skeptical, annoyed, undecided, uneasy or hesitant\",\n",
    "    u\"=L\":\"Skeptical, annoyed, undecided, uneasy or hesitant\",\n",
    "    u\":S\":\"Skeptical, annoyed, undecided, uneasy or hesitant\",\n",
    "    u\":‑|\":\"Straight face\",\n",
    "    u\":|\":\"Straight face\",\n",
    "    u\":$\":\"Embarrassed or blushing\",\n",
    "    u\":‑x\":\"Sealed lips or wearing braces or tongue-tied\",\n",
    "    u\":x\":\"Sealed lips or wearing braces or tongue-tied\",\n",
    "    u\":‑#\":\"Sealed lips or wearing braces or tongue-tied\",\n",
    "    u\":#\":\"Sealed lips or wearing braces or tongue-tied\",\n",
    "    u\":‑&\":\"Sealed lips or wearing braces or tongue-tied\",\n",
    "    u\":&\":\"Sealed lips or wearing braces or tongue-tied\",\n",
    "    u\"O:‑)\":\"Angel, saint or innocent\",\n",
    "    u\"O:)\":\"Angel, saint or innocent\",\n",
    "    u\"0:‑3\":\"Angel, saint or innocent\",\n",
    "    u\"0:3\":\"Angel, saint or innocent\",\n",
    "    u\"0:‑)\":\"Angel, saint or innocent\",\n",
    "    u\"0:)\":\"Angel, saint or innocent\",\n",
    "    u\":‑b\":\"Tongue sticking out, cheeky, playful or blowing a raspberry\",\n",
    "    u\"0;^)\":\"Angel, saint or innocent\",\n",
    "    u\">:‑)\":\"Evil or devilish\",\n",
    "    u\">:)\":\"Evil or devilish\",\n",
    "    u\"}:‑)\":\"Evil or devilish\",\n",
    "    u\"}:)\":\"Evil or devilish\",\n",
    "    u\"3:‑)\":\"Evil or devilish\",\n",
    "    u\"3:)\":\"Evil or devilish\",\n",
    "    u\">;)\":\"Evil or devilish\",\n",
    "    u\"|;‑)\":\"Cool\",\n",
    "    u\"|‑O\":\"Bored\",\n",
    "    u\":‑J\":\"Tongue-in-cheek\",\n",
    "    u\"#‑)\":\"Party all night\",\n",
    "    u\"%‑)\":\"Drunk or confused\",\n",
    "    u\"%)\":\"Drunk or confused\",\n",
    "    u\":-###..\":\"Being sick\",\n",
    "    u\":###..\":\"Being sick\",\n",
    "    u\"<:‑|\":\"Dump\",\n",
    "    u\"(>_<)\":\"Troubled\",\n",
    "    u\"(>_<)>\":\"Troubled\",\n",
    "    u\"(';')\":\"Baby\",\n",
    "    u\"(^^>``\":\"Nervous or Embarrassed or Troubled or Shy or Sweat drop\",\n",
    "    u\"(^_^;)\":\"Nervous or Embarrassed or Troubled or Shy or Sweat drop\",\n",
    "    u\"(-_-;)\":\"Nervous or Embarrassed or Troubled or Shy or Sweat drop\",\n",
    "    u\"(~_~;) (・.・;)\":\"Nervous or Embarrassed or Troubled or Shy or Sweat drop\",\n",
    "    u\"(-_-)zzz\":\"Sleeping\",\n",
    "    u\"(^_-)\":\"Wink\",\n",
    "    u\"((+_+))\":\"Confused\",\n",
    "    u\"(+o+)\":\"Confused\",\n",
    "    u\"(o|o)\":\"Ultraman\",\n",
    "    u\"^_^\":\"Joyful\",\n",
    "    u\"(^_^)/\":\"Joyful\",\n",
    "    u\"(^O^)／\":\"Joyful\",\n",
    "    u\"(^o^)／\":\"Joyful\",\n",
    "    u\"(__)\":\"Kowtow as a sign of respect, or dogeza for apology\",\n",
    "    u\"_(._.)_\":\"Kowtow as a sign of respect, or dogeza for apology\",\n",
    "    u\"<(_ _)>\":\"Kowtow as a sign of respect, or dogeza for apology\",\n",
    "    u\"<m(__)m>\":\"Kowtow as a sign of respect, or dogeza for apology\",\n",
    "    u\"m(__)m\":\"Kowtow as a sign of respect, or dogeza for apology\",\n",
    "    u\"m(_ _)m\":\"Kowtow as a sign of respect, or dogeza for apology\",\n",
    "    u\"('_')\":\"Sad or Crying\",\n",
    "    u\"(/_;)\":\"Sad or Crying\",\n",
    "    u\"(T_T) (;_;)\":\"Sad or Crying\",\n",
    "    u\"(;_;\":\"Sad of Crying\",\n",
    "    u\"(;_:)\":\"Sad or Crying\",\n",
    "    u\"(;O;)\":\"Sad or Crying\",\n",
    "    u\"(:_;)\":\"Sad or Crying\",\n",
    "    u\"(ToT)\":\"Sad or Crying\",\n",
    "    u\";_;\":\"Sad or Crying\",\n",
    "    u\";-;\":\"Sad or Crying\",\n",
    "    u\";n;\":\"Sad or Crying\",\n",
    "    u\";;\":\"Sad or Crying\",\n",
    "    u\"Q.Q\":\"Sad or Crying\",\n",
    "    u\"T.T\":\"Sad or Crying\",\n",
    "    u\"QQ\":\"Sad or Crying\",\n",
    "    u\"Q_Q\":\"Sad or Crying\",\n",
    "    u\"(-.-)\":\"Shame\",\n",
    "    u\"(-_-)\":\"Shame\",\n",
    "    u\"(一一)\":\"Shame\",\n",
    "    u\"(；一_一)\":\"Shame\",\n",
    "    u\"(=_=)\":\"Tired\",\n",
    "    u\"(=^·^=)\":\"cat\",\n",
    "    u\"(=^··^=)\":\"cat\",\n",
    "    u\"=_^= \":\"cat\",\n",
    "    u\"(..)\":\"Looking down\",\n",
    "    u\"(._.)\":\"Looking down\",\n",
    "    u\"^m^\":\"Giggling with hand covering mouth\",\n",
    "    u\"(・・?\":\"Confusion\",\n",
    "    u\"(?_?)\":\"Confusion\",\n",
    "    u\">^_^<\":\"Normal Laugh\",\n",
    "    u\"<^!^>\":\"Normal Laugh\",\n",
    "    u\"^/^\":\"Normal Laugh\",\n",
    "    u\"（*^_^*）\" :\"Normal Laugh\",\n",
    "    u\"(^<^) (^.^)\":\"Normal Laugh\",\n",
    "    u\"(^^)\":\"Normal Laugh\",\n",
    "    u\"(^.^)\":\"Normal Laugh\",\n",
    "    u\"(^_^.)\":\"Normal Laugh\",\n",
    "    u\"(^_^)\":\"Normal Laugh\",\n",
    "    u\"(^^)\":\"Normal Laugh\",\n",
    "    u\"(^J^)\":\"Normal Laugh\",\n",
    "    u\"(*^.^*)\":\"Normal Laugh\",\n",
    "    u\"(^—^）\":\"Normal Laugh\",\n",
    "    u\"(#^.^#)\":\"Normal Laugh\",\n",
    "    u\"（^—^）\":\"Waving\",\n",
    "    u\"(;_;)/~~~\":\"Waving\",\n",
    "    u\"(^.^)/~~~\":\"Waving\",\n",
    "    u\"(-_-)/~~~ ($··)/~~~\":\"Waving\",\n",
    "    u\"(T_T)/~~~\":\"Waving\",\n",
    "    u\"(ToT)/~~~\":\"Waving\",\n",
    "    u\"(*^0^*)\":\"Excited\",\n",
    "    u\"(*_*)\":\"Amazed\",\n",
    "    u\"(*_*;\":\"Amazed\",\n",
    "    u\"(+_+) (@_@)\":\"Amazed\",\n",
    "    u\"(*^^)v\":\"Laughing,Cheerful\",\n",
    "    u\"(^_^)v\":\"Laughing,Cheerful\",\n",
    "    u\"((d[-_-]b))\":\"Headphones,Listening to music\",\n",
    "    u'(-\"-)':\"Worried\",\n",
    "    u\"(ーー;)\":\"Worried\",\n",
    "    u\"(^0_0^)\":\"Eyeglasses\",\n",
    "    u\"(＾ｖ＾)\":\"Happy\",\n",
    "    u\"(＾ｕ＾)\":\"Happy\",\n",
    "    u\"(^)o(^)\":\"Happy\",\n",
    "    u\"(^O^)\":\"Happy\",\n",
    "    u\"(^o^)\":\"Happy\",\n",
    "    u\")^o^(\":\"Happy\",\n",
    "    u\":O o_O\":\"Surprised\",\n",
    "    u\"o_0\":\"Surprised\",\n",
    "    u\"o.O\":\"Surpised\",\n",
    "    u\"(o.o)\":\"Surprised\",\n",
    "    u\"oO\":\"Surprised\",\n",
    "    u\"(*￣m￣)\":\"Dissatisfied\",\n",
    "    u\"(‘A`)\":\"Snubbed or Deflated\"\n",
    "\n",
    "}"
   ]
  },
  {
   "cell_type": "code",
   "execution_count": 25,
   "id": "4d15f2f9",
   "metadata": {},
   "outputs": [],
   "source": [
    "def replace_emoticons(text):\n",
    "    emoticons_pattern = re.compile(u'(' + u'|'.join(re.escape(k) for k in EMOTICONS_EMO) + u')')\n",
    "    return emoticons_pattern.sub(lambda x: EMOTICONS_EMO[x.group()], text)\n",
    "\n",
    "# Apply emoticons replacement to the 'translated_reviews' column\n",
    "reviews1['Translated'] = reviews1['Translated'].apply(replace_emoticons)"
   ]
  },
  {
   "cell_type": "markdown",
   "id": "6fad5718",
   "metadata": {},
   "source": [
    "#### Removal of stopwords"
   ]
  },
  {
   "cell_type": "code",
   "execution_count": 26,
   "id": "06fdc80d",
   "metadata": {},
   "outputs": [
    {
     "name": "stderr",
     "output_type": "stream",
     "text": [
      "[nltk_data] Downloading package stopwords to\n",
      "[nltk_data]     C:\\Users\\asus\\AppData\\Roaming\\nltk_data...\n",
      "[nltk_data]   Package stopwords is already up-to-date!\n",
      "[nltk_data] Downloading package punkt to\n",
      "[nltk_data]     C:\\Users\\asus\\AppData\\Roaming\\nltk_data...\n",
      "[nltk_data]   Package punkt is already up-to-date!\n"
     ]
    }
   ],
   "source": [
    "nltk.download('stopwords')\n",
    "nltk.download('punkt')\n",
    "\n",
    "\n",
    "# Set of English stopwords\n",
    "stop_words = set(stopwords.words('english'))\n",
    "\n",
    "# Function to remove stop words\n",
    "def remove_stopwords(text):\n",
    "    word_tokens = word_tokenize(text)\n",
    "    filtered_text = [word for word in word_tokens if word.lower() not in stop_words]\n",
    "    return ' '.join(filtered_text)\n",
    "\n",
    "# Apply the function to the 'translated_reviews' column\n",
    "reviews1['Translated'] = reviews1['Translated'].apply(remove_stopwords)\n"
   ]
  },
  {
   "cell_type": "markdown",
   "id": "57b927e5",
   "metadata": {},
   "source": [
    "#### Lemmatization"
   ]
  },
  {
   "cell_type": "code",
   "execution_count": 27,
   "id": "c11a364b",
   "metadata": {},
   "outputs": [
    {
     "name": "stderr",
     "output_type": "stream",
     "text": [
      "[nltk_data] Downloading collection 'all'\n",
      "[nltk_data]    | \n",
      "[nltk_data]    | Downloading package abc to\n",
      "[nltk_data]    |     C:\\Users\\asus\\AppData\\Roaming\\nltk_data...\n",
      "[nltk_data]    |   Package abc is already up-to-date!\n",
      "[nltk_data]    | Downloading package alpino to\n",
      "[nltk_data]    |     C:\\Users\\asus\\AppData\\Roaming\\nltk_data...\n",
      "[nltk_data]    |   Package alpino is already up-to-date!\n",
      "[nltk_data]    | Downloading package averaged_perceptron_tagger to\n",
      "[nltk_data]    |     C:\\Users\\asus\\AppData\\Roaming\\nltk_data...\n",
      "[nltk_data]    |   Package averaged_perceptron_tagger is already up-\n",
      "[nltk_data]    |       to-date!\n",
      "[nltk_data]    | Downloading package averaged_perceptron_tagger_ru to\n",
      "[nltk_data]    |     C:\\Users\\asus\\AppData\\Roaming\\nltk_data...\n",
      "[nltk_data]    |   Package averaged_perceptron_tagger_ru is already\n",
      "[nltk_data]    |       up-to-date!\n",
      "[nltk_data]    | Downloading package basque_grammars to\n",
      "[nltk_data]    |     C:\\Users\\asus\\AppData\\Roaming\\nltk_data...\n",
      "[nltk_data]    |   Package basque_grammars is already up-to-date!\n",
      "[nltk_data]    | Downloading package bcp47 to\n",
      "[nltk_data]    |     C:\\Users\\asus\\AppData\\Roaming\\nltk_data...\n",
      "[nltk_data]    |   Package bcp47 is already up-to-date!\n",
      "[nltk_data]    | Downloading package biocreative_ppi to\n",
      "[nltk_data]    |     C:\\Users\\asus\\AppData\\Roaming\\nltk_data...\n",
      "[nltk_data]    |   Package biocreative_ppi is already up-to-date!\n",
      "[nltk_data]    | Downloading package bllip_wsj_no_aux to\n",
      "[nltk_data]    |     C:\\Users\\asus\\AppData\\Roaming\\nltk_data...\n",
      "[nltk_data]    |   Package bllip_wsj_no_aux is already up-to-date!\n",
      "[nltk_data]    | Downloading package book_grammars to\n",
      "[nltk_data]    |     C:\\Users\\asus\\AppData\\Roaming\\nltk_data...\n",
      "[nltk_data]    |   Package book_grammars is already up-to-date!\n",
      "[nltk_data]    | Downloading package brown to\n",
      "[nltk_data]    |     C:\\Users\\asus\\AppData\\Roaming\\nltk_data...\n",
      "[nltk_data]    |   Package brown is already up-to-date!\n",
      "[nltk_data]    | Downloading package brown_tei to\n",
      "[nltk_data]    |     C:\\Users\\asus\\AppData\\Roaming\\nltk_data...\n",
      "[nltk_data]    |   Package brown_tei is already up-to-date!\n",
      "[nltk_data]    | Downloading package cess_cat to\n",
      "[nltk_data]    |     C:\\Users\\asus\\AppData\\Roaming\\nltk_data...\n",
      "[nltk_data]    |   Package cess_cat is already up-to-date!\n",
      "[nltk_data]    | Downloading package cess_esp to\n",
      "[nltk_data]    |     C:\\Users\\asus\\AppData\\Roaming\\nltk_data...\n",
      "[nltk_data]    |   Package cess_esp is already up-to-date!\n",
      "[nltk_data]    | Downloading package chat80 to\n",
      "[nltk_data]    |     C:\\Users\\asus\\AppData\\Roaming\\nltk_data...\n",
      "[nltk_data]    |   Package chat80 is already up-to-date!\n",
      "[nltk_data]    | Downloading package city_database to\n",
      "[nltk_data]    |     C:\\Users\\asus\\AppData\\Roaming\\nltk_data...\n",
      "[nltk_data]    |   Package city_database is already up-to-date!\n",
      "[nltk_data]    | Downloading package cmudict to\n",
      "[nltk_data]    |     C:\\Users\\asus\\AppData\\Roaming\\nltk_data...\n",
      "[nltk_data]    |   Package cmudict is already up-to-date!\n",
      "[nltk_data]    | Downloading package comparative_sentences to\n",
      "[nltk_data]    |     C:\\Users\\asus\\AppData\\Roaming\\nltk_data...\n",
      "[nltk_data]    |   Package comparative_sentences is already up-to-\n",
      "[nltk_data]    |       date!\n",
      "[nltk_data]    | Downloading package comtrans to\n",
      "[nltk_data]    |     C:\\Users\\asus\\AppData\\Roaming\\nltk_data...\n",
      "[nltk_data]    |   Package comtrans is already up-to-date!\n",
      "[nltk_data]    | Downloading package conll2000 to\n",
      "[nltk_data]    |     C:\\Users\\asus\\AppData\\Roaming\\nltk_data...\n",
      "[nltk_data]    |   Package conll2000 is already up-to-date!\n",
      "[nltk_data]    | Downloading package conll2002 to\n",
      "[nltk_data]    |     C:\\Users\\asus\\AppData\\Roaming\\nltk_data...\n",
      "[nltk_data]    |   Package conll2002 is already up-to-date!\n",
      "[nltk_data]    | Downloading package conll2007 to\n",
      "[nltk_data]    |     C:\\Users\\asus\\AppData\\Roaming\\nltk_data...\n",
      "[nltk_data]    |   Package conll2007 is already up-to-date!\n",
      "[nltk_data]    | Downloading package crubadan to\n",
      "[nltk_data]    |     C:\\Users\\asus\\AppData\\Roaming\\nltk_data...\n",
      "[nltk_data]    |   Package crubadan is already up-to-date!\n",
      "[nltk_data]    | Downloading package dependency_treebank to\n",
      "[nltk_data]    |     C:\\Users\\asus\\AppData\\Roaming\\nltk_data...\n",
      "[nltk_data]    |   Package dependency_treebank is already up-to-date!\n",
      "[nltk_data]    | Downloading package dolch to\n",
      "[nltk_data]    |     C:\\Users\\asus\\AppData\\Roaming\\nltk_data...\n",
      "[nltk_data]    |   Package dolch is already up-to-date!\n",
      "[nltk_data]    | Downloading package europarl_raw to\n",
      "[nltk_data]    |     C:\\Users\\asus\\AppData\\Roaming\\nltk_data...\n",
      "[nltk_data]    |   Package europarl_raw is already up-to-date!\n",
      "[nltk_data]    | Downloading package extended_omw to\n",
      "[nltk_data]    |     C:\\Users\\asus\\AppData\\Roaming\\nltk_data...\n",
      "[nltk_data]    |   Package extended_omw is already up-to-date!\n",
      "[nltk_data]    | Downloading package floresta to\n",
      "[nltk_data]    |     C:\\Users\\asus\\AppData\\Roaming\\nltk_data...\n",
      "[nltk_data]    |   Package floresta is already up-to-date!\n",
      "[nltk_data]    | Downloading package framenet_v15 to\n",
      "[nltk_data]    |     C:\\Users\\asus\\AppData\\Roaming\\nltk_data...\n",
      "[nltk_data]    |   Package framenet_v15 is already up-to-date!\n",
      "[nltk_data]    | Downloading package framenet_v17 to\n",
      "[nltk_data]    |     C:\\Users\\asus\\AppData\\Roaming\\nltk_data...\n",
      "[nltk_data]    |   Package framenet_v17 is already up-to-date!\n",
      "[nltk_data]    | Downloading package gazetteers to\n",
      "[nltk_data]    |     C:\\Users\\asus\\AppData\\Roaming\\nltk_data...\n",
      "[nltk_data]    |   Package gazetteers is already up-to-date!\n",
      "[nltk_data]    | Downloading package genesis to\n",
      "[nltk_data]    |     C:\\Users\\asus\\AppData\\Roaming\\nltk_data...\n",
      "[nltk_data]    |   Package genesis is already up-to-date!\n",
      "[nltk_data]    | Downloading package gutenberg to\n",
      "[nltk_data]    |     C:\\Users\\asus\\AppData\\Roaming\\nltk_data...\n",
      "[nltk_data]    |   Package gutenberg is already up-to-date!\n",
      "[nltk_data]    | Downloading package ieer to\n",
      "[nltk_data]    |     C:\\Users\\asus\\AppData\\Roaming\\nltk_data...\n",
      "[nltk_data]    |   Package ieer is already up-to-date!\n",
      "[nltk_data]    | Downloading package inaugural to\n",
      "[nltk_data]    |     C:\\Users\\asus\\AppData\\Roaming\\nltk_data...\n",
      "[nltk_data]    |   Package inaugural is already up-to-date!\n",
      "[nltk_data]    | Downloading package indian to\n",
      "[nltk_data]    |     C:\\Users\\asus\\AppData\\Roaming\\nltk_data...\n",
      "[nltk_data]    |   Package indian is already up-to-date!\n",
      "[nltk_data]    | Downloading package jeita to\n",
      "[nltk_data]    |     C:\\Users\\asus\\AppData\\Roaming\\nltk_data...\n",
      "[nltk_data]    |   Package jeita is already up-to-date!\n",
      "[nltk_data]    | Downloading package kimmo to\n",
      "[nltk_data]    |     C:\\Users\\asus\\AppData\\Roaming\\nltk_data...\n",
      "[nltk_data]    |   Package kimmo is already up-to-date!\n",
      "[nltk_data]    | Downloading package knbc to\n",
      "[nltk_data]    |     C:\\Users\\asus\\AppData\\Roaming\\nltk_data...\n",
      "[nltk_data]    |   Package knbc is already up-to-date!\n",
      "[nltk_data]    | Downloading package large_grammars to\n",
      "[nltk_data]    |     C:\\Users\\asus\\AppData\\Roaming\\nltk_data...\n",
      "[nltk_data]    |   Package large_grammars is already up-to-date!\n",
      "[nltk_data]    | Downloading package lin_thesaurus to\n",
      "[nltk_data]    |     C:\\Users\\asus\\AppData\\Roaming\\nltk_data...\n",
      "[nltk_data]    |   Package lin_thesaurus is already up-to-date!\n",
      "[nltk_data]    | Downloading package mac_morpho to\n",
      "[nltk_data]    |     C:\\Users\\asus\\AppData\\Roaming\\nltk_data...\n",
      "[nltk_data]    |   Package mac_morpho is already up-to-date!\n",
      "[nltk_data]    | Downloading package machado to\n",
      "[nltk_data]    |     C:\\Users\\asus\\AppData\\Roaming\\nltk_data...\n",
      "[nltk_data]    |   Package machado is already up-to-date!\n",
      "[nltk_data]    | Downloading package masc_tagged to\n",
      "[nltk_data]    |     C:\\Users\\asus\\AppData\\Roaming\\nltk_data...\n",
      "[nltk_data]    |   Package masc_tagged is already up-to-date!\n",
      "[nltk_data]    | Downloading package maxent_ne_chunker to\n",
      "[nltk_data]    |     C:\\Users\\asus\\AppData\\Roaming\\nltk_data...\n",
      "[nltk_data]    |   Package maxent_ne_chunker is already up-to-date!\n",
      "[nltk_data]    | Downloading package maxent_treebank_pos_tagger to\n",
      "[nltk_data]    |     C:\\Users\\asus\\AppData\\Roaming\\nltk_data...\n",
      "[nltk_data]    |   Package maxent_treebank_pos_tagger is already up-\n",
      "[nltk_data]    |       to-date!\n",
      "[nltk_data]    | Downloading package moses_sample to\n",
      "[nltk_data]    |     C:\\Users\\asus\\AppData\\Roaming\\nltk_data...\n",
      "[nltk_data]    |   Package moses_sample is already up-to-date!\n",
      "[nltk_data]    | Downloading package movie_reviews to\n",
      "[nltk_data]    |     C:\\Users\\asus\\AppData\\Roaming\\nltk_data...\n",
      "[nltk_data]    |   Package movie_reviews is already up-to-date!\n",
      "[nltk_data]    | Downloading package mte_teip5 to\n",
      "[nltk_data]    |     C:\\Users\\asus\\AppData\\Roaming\\nltk_data...\n",
      "[nltk_data]    |   Package mte_teip5 is already up-to-date!\n",
      "[nltk_data]    | Downloading package mwa_ppdb to\n",
      "[nltk_data]    |     C:\\Users\\asus\\AppData\\Roaming\\nltk_data...\n",
      "[nltk_data]    |   Package mwa_ppdb is already up-to-date!\n",
      "[nltk_data]    | Downloading package names to\n",
      "[nltk_data]    |     C:\\Users\\asus\\AppData\\Roaming\\nltk_data...\n",
      "[nltk_data]    |   Package names is already up-to-date!\n",
      "[nltk_data]    | Downloading package nombank.1.0 to\n",
      "[nltk_data]    |     C:\\Users\\asus\\AppData\\Roaming\\nltk_data...\n",
      "[nltk_data]    |   Package nombank.1.0 is already up-to-date!\n",
      "[nltk_data]    | Downloading package nonbreaking_prefixes to\n",
      "[nltk_data]    |     C:\\Users\\asus\\AppData\\Roaming\\nltk_data...\n",
      "[nltk_data]    |   Package nonbreaking_prefixes is already up-to-date!\n",
      "[nltk_data]    | Downloading package nps_chat to\n",
      "[nltk_data]    |     C:\\Users\\asus\\AppData\\Roaming\\nltk_data...\n",
      "[nltk_data]    |   Package nps_chat is already up-to-date!\n",
      "[nltk_data]    | Downloading package omw to\n",
      "[nltk_data]    |     C:\\Users\\asus\\AppData\\Roaming\\nltk_data...\n",
      "[nltk_data]    |   Package omw is already up-to-date!\n",
      "[nltk_data]    | Downloading package omw-1.4 to\n",
      "[nltk_data]    |     C:\\Users\\asus\\AppData\\Roaming\\nltk_data...\n",
      "[nltk_data]    |   Package omw-1.4 is already up-to-date!\n",
      "[nltk_data]    | Downloading package opinion_lexicon to\n",
      "[nltk_data]    |     C:\\Users\\asus\\AppData\\Roaming\\nltk_data...\n",
      "[nltk_data]    |   Package opinion_lexicon is already up-to-date!\n",
      "[nltk_data]    | Downloading package panlex_swadesh to\n",
      "[nltk_data]    |     C:\\Users\\asus\\AppData\\Roaming\\nltk_data...\n",
      "[nltk_data]    |   Package panlex_swadesh is already up-to-date!\n",
      "[nltk_data]    | Downloading package paradigms to\n",
      "[nltk_data]    |     C:\\Users\\asus\\AppData\\Roaming\\nltk_data...\n",
      "[nltk_data]    |   Package paradigms is already up-to-date!\n",
      "[nltk_data]    | Downloading package pe08 to\n",
      "[nltk_data]    |     C:\\Users\\asus\\AppData\\Roaming\\nltk_data...\n",
      "[nltk_data]    |   Package pe08 is already up-to-date!\n",
      "[nltk_data]    | Downloading package perluniprops to\n",
      "[nltk_data]    |     C:\\Users\\asus\\AppData\\Roaming\\nltk_data...\n",
      "[nltk_data]    |   Package perluniprops is already up-to-date!\n",
      "[nltk_data]    | Downloading package pil to\n",
      "[nltk_data]    |     C:\\Users\\asus\\AppData\\Roaming\\nltk_data...\n",
      "[nltk_data]    |   Package pil is already up-to-date!\n",
      "[nltk_data]    | Downloading package pl196x to\n",
      "[nltk_data]    |     C:\\Users\\asus\\AppData\\Roaming\\nltk_data...\n",
      "[nltk_data]    |   Package pl196x is already up-to-date!\n",
      "[nltk_data]    | Downloading package porter_test to\n",
      "[nltk_data]    |     C:\\Users\\asus\\AppData\\Roaming\\nltk_data...\n",
      "[nltk_data]    |   Package porter_test is already up-to-date!\n",
      "[nltk_data]    | Downloading package ppattach to\n",
      "[nltk_data]    |     C:\\Users\\asus\\AppData\\Roaming\\nltk_data...\n",
      "[nltk_data]    |   Package ppattach is already up-to-date!\n",
      "[nltk_data]    | Downloading package problem_reports to\n",
      "[nltk_data]    |     C:\\Users\\asus\\AppData\\Roaming\\nltk_data...\n",
      "[nltk_data]    |   Package problem_reports is already up-to-date!\n",
      "[nltk_data]    | Downloading package product_reviews_1 to\n",
      "[nltk_data]    |     C:\\Users\\asus\\AppData\\Roaming\\nltk_data...\n",
      "[nltk_data]    |   Package product_reviews_1 is already up-to-date!\n",
      "[nltk_data]    | Downloading package product_reviews_2 to\n",
      "[nltk_data]    |     C:\\Users\\asus\\AppData\\Roaming\\nltk_data...\n",
      "[nltk_data]    |   Package product_reviews_2 is already up-to-date!\n",
      "[nltk_data]    | Downloading package propbank to\n",
      "[nltk_data]    |     C:\\Users\\asus\\AppData\\Roaming\\nltk_data...\n",
      "[nltk_data]    |   Package propbank is already up-to-date!\n",
      "[nltk_data]    | Downloading package pros_cons to\n",
      "[nltk_data]    |     C:\\Users\\asus\\AppData\\Roaming\\nltk_data...\n",
      "[nltk_data]    |   Package pros_cons is already up-to-date!\n",
      "[nltk_data]    | Downloading package ptb to\n",
      "[nltk_data]    |     C:\\Users\\asus\\AppData\\Roaming\\nltk_data...\n",
      "[nltk_data]    |   Package ptb is already up-to-date!\n",
      "[nltk_data]    | Downloading package punkt to\n",
      "[nltk_data]    |     C:\\Users\\asus\\AppData\\Roaming\\nltk_data...\n",
      "[nltk_data]    |   Package punkt is already up-to-date!\n",
      "[nltk_data]    | Downloading package qc to\n",
      "[nltk_data]    |     C:\\Users\\asus\\AppData\\Roaming\\nltk_data...\n",
      "[nltk_data]    |   Package qc is already up-to-date!\n",
      "[nltk_data]    | Downloading package reuters to\n",
      "[nltk_data]    |     C:\\Users\\asus\\AppData\\Roaming\\nltk_data...\n",
      "[nltk_data]    |   Package reuters is already up-to-date!\n",
      "[nltk_data]    | Downloading package rslp to\n",
      "[nltk_data]    |     C:\\Users\\asus\\AppData\\Roaming\\nltk_data...\n",
      "[nltk_data]    |   Package rslp is already up-to-date!\n",
      "[nltk_data]    | Downloading package rte to\n",
      "[nltk_data]    |     C:\\Users\\asus\\AppData\\Roaming\\nltk_data...\n",
      "[nltk_data]    |   Package rte is already up-to-date!\n",
      "[nltk_data]    | Downloading package sample_grammars to\n",
      "[nltk_data]    |     C:\\Users\\asus\\AppData\\Roaming\\nltk_data...\n",
      "[nltk_data]    |   Package sample_grammars is already up-to-date!\n",
      "[nltk_data]    | Downloading package semcor to\n",
      "[nltk_data]    |     C:\\Users\\asus\\AppData\\Roaming\\nltk_data...\n",
      "[nltk_data]    |   Package semcor is already up-to-date!\n",
      "[nltk_data]    | Downloading package senseval to\n",
      "[nltk_data]    |     C:\\Users\\asus\\AppData\\Roaming\\nltk_data...\n",
      "[nltk_data]    |   Package senseval is already up-to-date!\n",
      "[nltk_data]    | Downloading package sentence_polarity to\n",
      "[nltk_data]    |     C:\\Users\\asus\\AppData\\Roaming\\nltk_data...\n",
      "[nltk_data]    |   Package sentence_polarity is already up-to-date!\n",
      "[nltk_data]    | Downloading package sentiwordnet to\n",
      "[nltk_data]    |     C:\\Users\\asus\\AppData\\Roaming\\nltk_data...\n",
      "[nltk_data]    |   Package sentiwordnet is already up-to-date!\n",
      "[nltk_data]    | Downloading package shakespeare to\n",
      "[nltk_data]    |     C:\\Users\\asus\\AppData\\Roaming\\nltk_data...\n",
      "[nltk_data]    |   Package shakespeare is already up-to-date!\n",
      "[nltk_data]    | Downloading package sinica_treebank to\n",
      "[nltk_data]    |     C:\\Users\\asus\\AppData\\Roaming\\nltk_data...\n",
      "[nltk_data]    |   Package sinica_treebank is already up-to-date!\n",
      "[nltk_data]    | Downloading package smultron to\n",
      "[nltk_data]    |     C:\\Users\\asus\\AppData\\Roaming\\nltk_data...\n",
      "[nltk_data]    |   Package smultron is already up-to-date!\n",
      "[nltk_data]    | Downloading package snowball_data to\n",
      "[nltk_data]    |     C:\\Users\\asus\\AppData\\Roaming\\nltk_data...\n",
      "[nltk_data]    |   Package snowball_data is already up-to-date!\n",
      "[nltk_data]    | Downloading package spanish_grammars to\n",
      "[nltk_data]    |     C:\\Users\\asus\\AppData\\Roaming\\nltk_data...\n",
      "[nltk_data]    |   Package spanish_grammars is already up-to-date!\n",
      "[nltk_data]    | Downloading package state_union to\n",
      "[nltk_data]    |     C:\\Users\\asus\\AppData\\Roaming\\nltk_data...\n",
      "[nltk_data]    |   Package state_union is already up-to-date!\n",
      "[nltk_data]    | Downloading package stopwords to\n",
      "[nltk_data]    |     C:\\Users\\asus\\AppData\\Roaming\\nltk_data...\n",
      "[nltk_data]    |   Package stopwords is already up-to-date!\n",
      "[nltk_data]    | Downloading package subjectivity to\n",
      "[nltk_data]    |     C:\\Users\\asus\\AppData\\Roaming\\nltk_data...\n",
      "[nltk_data]    |   Package subjectivity is already up-to-date!\n",
      "[nltk_data]    | Downloading package swadesh to\n",
      "[nltk_data]    |     C:\\Users\\asus\\AppData\\Roaming\\nltk_data...\n",
      "[nltk_data]    |   Package swadesh is already up-to-date!\n",
      "[nltk_data]    | Downloading package switchboard to\n",
      "[nltk_data]    |     C:\\Users\\asus\\AppData\\Roaming\\nltk_data...\n",
      "[nltk_data]    |   Package switchboard is already up-to-date!\n",
      "[nltk_data]    | Downloading package tagsets to\n",
      "[nltk_data]    |     C:\\Users\\asus\\AppData\\Roaming\\nltk_data...\n",
      "[nltk_data]    |   Package tagsets is already up-to-date!\n",
      "[nltk_data]    | Downloading package timit to\n",
      "[nltk_data]    |     C:\\Users\\asus\\AppData\\Roaming\\nltk_data...\n",
      "[nltk_data]    |   Package timit is already up-to-date!\n",
      "[nltk_data]    | Downloading package toolbox to\n",
      "[nltk_data]    |     C:\\Users\\asus\\AppData\\Roaming\\nltk_data...\n",
      "[nltk_data]    |   Package toolbox is already up-to-date!\n",
      "[nltk_data]    | Downloading package treebank to\n",
      "[nltk_data]    |     C:\\Users\\asus\\AppData\\Roaming\\nltk_data...\n",
      "[nltk_data]    |   Package treebank is already up-to-date!\n",
      "[nltk_data]    | Downloading package twitter_samples to\n",
      "[nltk_data]    |     C:\\Users\\asus\\AppData\\Roaming\\nltk_data...\n",
      "[nltk_data]    |   Package twitter_samples is already up-to-date!\n",
      "[nltk_data]    | Downloading package udhr to\n",
      "[nltk_data]    |     C:\\Users\\asus\\AppData\\Roaming\\nltk_data...\n",
      "[nltk_data]    |   Package udhr is already up-to-date!\n",
      "[nltk_data]    | Downloading package udhr2 to\n",
      "[nltk_data]    |     C:\\Users\\asus\\AppData\\Roaming\\nltk_data...\n",
      "[nltk_data]    |   Package udhr2 is already up-to-date!\n",
      "[nltk_data]    | Downloading package unicode_samples to\n",
      "[nltk_data]    |     C:\\Users\\asus\\AppData\\Roaming\\nltk_data...\n",
      "[nltk_data]    |   Package unicode_samples is already up-to-date!\n",
      "[nltk_data]    | Downloading package universal_tagset to\n",
      "[nltk_data]    |     C:\\Users\\asus\\AppData\\Roaming\\nltk_data...\n",
      "[nltk_data]    |   Package universal_tagset is already up-to-date!\n",
      "[nltk_data]    | Downloading package universal_treebanks_v20 to\n",
      "[nltk_data]    |     C:\\Users\\asus\\AppData\\Roaming\\nltk_data...\n",
      "[nltk_data]    |   Package universal_treebanks_v20 is already up-to-\n",
      "[nltk_data]    |       date!\n",
      "[nltk_data]    | Downloading package vader_lexicon to\n",
      "[nltk_data]    |     C:\\Users\\asus\\AppData\\Roaming\\nltk_data...\n",
      "[nltk_data]    |   Package vader_lexicon is already up-to-date!\n",
      "[nltk_data]    | Downloading package verbnet to\n",
      "[nltk_data]    |     C:\\Users\\asus\\AppData\\Roaming\\nltk_data...\n",
      "[nltk_data]    |   Package verbnet is already up-to-date!\n",
      "[nltk_data]    | Downloading package verbnet3 to\n",
      "[nltk_data]    |     C:\\Users\\asus\\AppData\\Roaming\\nltk_data...\n",
      "[nltk_data]    |   Package verbnet3 is already up-to-date!\n",
      "[nltk_data]    | Downloading package webtext to\n",
      "[nltk_data]    |     C:\\Users\\asus\\AppData\\Roaming\\nltk_data...\n",
      "[nltk_data]    |   Package webtext is already up-to-date!\n",
      "[nltk_data]    | Downloading package wmt15_eval to\n",
      "[nltk_data]    |     C:\\Users\\asus\\AppData\\Roaming\\nltk_data...\n",
      "[nltk_data]    |   Package wmt15_eval is already up-to-date!\n",
      "[nltk_data]    | Downloading package word2vec_sample to\n",
      "[nltk_data]    |     C:\\Users\\asus\\AppData\\Roaming\\nltk_data...\n",
      "[nltk_data]    |   Package word2vec_sample is already up-to-date!\n",
      "[nltk_data]    | Downloading package wordnet to\n",
      "[nltk_data]    |     C:\\Users\\asus\\AppData\\Roaming\\nltk_data...\n",
      "[nltk_data]    |   Package wordnet is already up-to-date!\n",
      "[nltk_data]    | Downloading package wordnet2021 to\n",
      "[nltk_data]    |     C:\\Users\\asus\\AppData\\Roaming\\nltk_data...\n",
      "[nltk_data]    |   Package wordnet2021 is already up-to-date!\n",
      "[nltk_data]    | Downloading package wordnet2022 to\n",
      "[nltk_data]    |     C:\\Users\\asus\\AppData\\Roaming\\nltk_data...\n",
      "[nltk_data]    |   Package wordnet2022 is already up-to-date!\n",
      "[nltk_data]    | Downloading package wordnet31 to\n",
      "[nltk_data]    |     C:\\Users\\asus\\AppData\\Roaming\\nltk_data...\n",
      "[nltk_data]    |   Package wordnet31 is already up-to-date!\n",
      "[nltk_data]    | Downloading package wordnet_ic to\n",
      "[nltk_data]    |     C:\\Users\\asus\\AppData\\Roaming\\nltk_data...\n",
      "[nltk_data]    |   Package wordnet_ic is already up-to-date!\n",
      "[nltk_data]    | Downloading package words to\n",
      "[nltk_data]    |     C:\\Users\\asus\\AppData\\Roaming\\nltk_data...\n",
      "[nltk_data]    |   Package words is already up-to-date!\n",
      "[nltk_data]    | Downloading package ycoe to\n",
      "[nltk_data]    |     C:\\Users\\asus\\AppData\\Roaming\\nltk_data...\n",
      "[nltk_data]    |   Package ycoe is already up-to-date!\n",
      "[nltk_data]    | \n",
      "[nltk_data]  Done downloading collection all\n"
     ]
    },
    {
     "data": {
      "text/plain": [
       "True"
      ]
     },
     "execution_count": 27,
     "metadata": {},
     "output_type": "execute_result"
    }
   ],
   "source": [
    "nltk.download('all')"
   ]
  },
  {
   "cell_type": "code",
   "execution_count": 28,
   "id": "c7268843",
   "metadata": {},
   "outputs": [],
   "source": [
    "lemmatizer = WordNetLemmatizer()\n"
   ]
  },
  {
   "cell_type": "code",
   "execution_count": 29,
   "id": "db69876f",
   "metadata": {},
   "outputs": [],
   "source": [
    "def lemmatize_words(text):\n",
    "    return \" \".join([lemmatizer.lemmatize(word) for word in text.split()])\n",
    "\n",
    "reviews1['Translated'] = reviews1['Translated'].apply(lambda text: lemmatize_words(text))"
   ]
  },
  {
   "cell_type": "markdown",
   "id": "84d9ae55",
   "metadata": {},
   "source": [
    "#### Spelling Correction"
   ]
  },
  {
   "cell_type": "code",
   "execution_count": 30,
   "id": "d69edee0",
   "metadata": {},
   "outputs": [
    {
     "data": {
      "text/plain": [
       "ReservationId       679\n",
       "RatingValue           9\n",
       "Comments              0\n",
       "Language              0\n",
       "Translated            0\n",
       "Polarity              9\n",
       "NetPromoterScore      9\n",
       "dtype: int64"
      ]
     },
     "execution_count": 30,
     "metadata": {},
     "output_type": "execute_result"
    }
   ],
   "source": [
    "reviews1.isna().sum()"
   ]
  },
  {
   "cell_type": "code",
   "execution_count": 31,
   "id": "ec94d696",
   "metadata": {},
   "outputs": [
    {
     "data": {
      "text/plain": [
       "(11244, 7)"
      ]
     },
     "execution_count": 31,
     "metadata": {},
     "output_type": "execute_result"
    }
   ],
   "source": [
    "reviews1.shape"
   ]
  },
  {
   "cell_type": "code",
   "execution_count": 32,
   "id": "05485c36",
   "metadata": {},
   "outputs": [],
   "source": [
    "mask = np.array(Image.open(r\"C:\\Users\\asus\\Pictures\\85c18d553c73c597f739e6f2f38c6d78.jpg\"))"
   ]
  },
  {
   "cell_type": "code",
   "execution_count": 33,
   "id": "9f877c2e",
   "metadata": {},
   "outputs": [],
   "source": [
    "comments = reviews1['Translated']"
   ]
  },
  {
   "cell_type": "code",
   "execution_count": 34,
   "id": "05131858",
   "metadata": {},
   "outputs": [],
   "source": [
    "comments = reviews1['Translated'].dropna().astype(str)"
   ]
  },
  {
   "cell_type": "code",
   "execution_count": 35,
   "id": "06205254",
   "metadata": {},
   "outputs": [],
   "source": [
    "all_comments = ' '.join(comments)"
   ]
  },
  {
   "cell_type": "code",
   "execution_count": 36,
   "id": "156994c7",
   "metadata": {},
   "outputs": [
    {
     "data": {
      "image/png": "[encoded data removed]",
      "text/plain": [
       "<Figure size 1200x800 with 1 Axes>"
      ]
     },
     "metadata": {},
     "output_type": "display_data"
    }
   ],
   "source": [
    "wc = WordCloud(mask=mask, background_color=\"white\",\n",
    "               max_words=3000, max_font_size=300,\n",
    "               random_state=42, width=mask.shape[1]*2,\n",
    "               height=mask.shape[0]*2,\n",
    "               colormap='Dark2')  # Change to a darker colormap, e.g., 'Dark2'\n",
    "\n",
    "wc.generate(all_comments)\n",
    "plt.figure(figsize=(12, 8))\n",
    "plt.imshow(wc, interpolation=\"bilinear\")\n",
    "plt.axis('off')\n",
    "plt.show()"
   ]
  },
  {
   "cell_type": "markdown",
   "id": "96162953",
   "metadata": {},
   "source": [
    "with pd.ExcelWriter('C:\\\\Users\\\\asus\\\\Desktop\\\\PFACD\\\\DadosFinais.xlsx') as writer:\n",
    "    # Write each DataFrame to a separate sheet\n",
    "    res.to_excel(writer, sheet_name='Reservas', index=False)\n",
    "    prop.to_excel(writer, sheet_name='Propriedades', index=False)\n",
    "    guests.to_excel(writer, sheet_name='Hóspedes', index=False)\n",
    "    reviews1.to_excel(writer, sheet_name='Reviews - geral', index=False)\n",
    "    reviews2.to_excel(writer, sheet_name='Reviews - detalhe', index=False)"
   ]
  },
  {
   "cell_type": "code",
   "execution_count": null,
   "id": "0a374292",
   "metadata": {},
   "outputs": [],
   "source": []
  },
  {
   "cell_type": "code",
   "execution_count": null,
   "id": "cf1577c6",
   "metadata": {},
   "outputs": [],
   "source": []
  },
  {
   "cell_type": "code",
   "execution_count": null,
   "id": "e52eed5d",
   "metadata": {},
   "outputs": [],
   "source": []
  },
  {
   "cell_type": "code",
   "execution_count": null,
   "id": "93c99b87",
   "metadata": {},
   "outputs": [],
   "source": []
  },
  {
   "cell_type": "code",
   "execution_count": null,
   "id": "6201757c",
   "metadata": {},
   "outputs": [],
   "source": []
  },
  {
   "cell_type": "code",
   "execution_count": null,
   "id": "50801db7",
   "metadata": {},
   "outputs": [],
   "source": []
  },
  {
   "cell_type": "code",
   "execution_count": null,
   "id": "026ca051",
   "metadata": {},
   "outputs": [],
   "source": []
  },
  {
   "cell_type": "code",
   "execution_count": null,
   "id": "aa28e1a4",
   "metadata": {},
   "outputs": [],
   "source": []
  },
  {
   "cell_type": "code",
   "execution_count": null,
   "id": "089e9b12",
   "metadata": {},
   "outputs": [],
   "source": []
  },
  {
   "cell_type": "code",
   "execution_count": null,
   "id": "7c8074a9",
   "metadata": {},
   "outputs": [],
   "source": []
  },
  {
   "cell_type": "code",
   "execution_count": null,
   "id": "a12e05cb",
   "metadata": {},
   "outputs": [],
   "source": []
  }
 ],
 "metadata": {
  "kernelspec": {
   "display_name": "Python 3 (ipykernel)",
   "language": "python",
   "name": "python3"
  },
  "language_info": {
   "codemirror_mode": {
    "name": "ipython",
    "version": 3
   },
   "file_extension": ".py",
   "mimetype": "text/x-python",
   "name": "python",
   "nbconvert_exporter": "python",
   "pygments_lexer": "ipython3",
   "version": "3.10.9"
  }
 },
 "nbformat": 4,
 "nbformat_minor": 5
}
