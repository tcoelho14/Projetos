{
 "cells": [
  {
   "cell_type": "markdown",
   "metadata": {},
   "source": [
    "# Risk Based Authentication \n",
    "\n",
    "Trabalho Realizado por:\n",
    "\n",
    "- Bernardo Coelho nº 98445\n",
    "- Francisco Camilo nº99234\n",
    "- Simão Miguel nº 99064\n",
    "- Tiago Coelho nº 105176\n",
    "\n",
    "\n",
    "A nossa base de dados escolhida é relativa a histórico de tentativas de login.\n",
    "Foi definido ao longo do projeto que o objetivo seria determinar se um login poderia ser ou não um ataque de IP\n",
    "\n",
    "Para tal fizemos 4 notebooks , cada um com objetivos diferente:\n",
    "- Extract, transform and load (ETL)- neste notebook irá ser feita uma limpeza e tratamento, serão escolhidas as variáveis a utiizar para o modelo\n",
    "- Análise exploratória-> neste notebook iremos verificar e analisar os dados\n",
    "- Treino e afinação do modelo -> nestenotebook irá ser criado o modelo para o objetivo final de determinar se se um login pode ser ou não um ataque de IP\n",
    "- Deployment do modelo -> iremos ver os resultados do modelo\n"
   ]
  },
  {
   "cell_type": "code",
   "execution_count": 1,
   "metadata": {},
   "outputs": [],
   "source": [
    "\n",
    "from pyspark.sql import SparkSession\n",
    "import pyspark.sql.functions as F \n",
    "from pyspark.ml.evaluation import BinaryClassificationEvaluator\n",
    "import matplotlib.pyplot as plt\n",
    "import seaborn as sns\n",
    "from sklearn.metrics import confusion_matrix\n",
    "from pyspark.ml import PipelineModel"
   ]
  },
  {
   "cell_type": "code",
   "execution_count": 2,
   "metadata": {},
   "outputs": [],
   "source": [
    "spark = SparkSession\\\n",
    "        .builder\\\n",
    "        .appName(\"BigData\")\\\n",
    "        .config(\"spark.sql.shuffle.partitions\",6)\\\n",
    "        .config(\"spark.sql.repl.eagereval.enabled\",True)\\\n",
    "        .getOrCreate()"
   ]
  },
  {
   "cell_type": "code",
   "execution_count": 3,
   "metadata": {},
   "outputs": [],
   "source": [
    "test = spark.read.parquet('/home/jovyan/code/Projeto/test.parquet')"
   ]
  },
  {
   "cell_type": "code",
   "execution_count": 4,
   "metadata": {},
   "outputs": [],
   "source": [
    "pipelineModel = PipelineModel.load('/home/jovyan/code/Projeto/pipeline')\n",
    "\n",
    "# Make predictions on the test data\n",
    "predictions = pipelineModel.transform(test)"
   ]
  },
  {
   "cell_type": "code",
   "execution_count": 5,
   "metadata": {},
   "outputs": [
    {
     "name": "stdout",
     "output_type": "stream",
     "text": [
      "+----------+-------+---------+--------------+------------+--------------+------------+----------------+--------------------+--------------------+--------------------+----------+\n",
      "|hashed_ASN|dtIndex|hashed_OS|hashed_browser|Dangerous IP|ip_class_index|Is Attack IP|Login Successful|            features|       rawPrediction|         probability|prediction|\n",
      "+----------+-------+---------+--------------+------------+--------------+------------+----------------+--------------------+--------------------+--------------------+----------+\n",
      "|         0|    0.0|        3|           434|       false|           0.0|           0|            true|(7,[2,3,6],[3.0,4...|[4.20356399037743...|[0.98527775528202...|       0.0|\n",
      "|         0|    0.0|        4|           419|       false|           0.0|           0|           false|(7,[2,3],[4.0,419...|[3.44006328285084...|[0.96893342080223...|       0.0|\n",
      "|         0|    0.0|        6|           190|       false|           1.0|           0|           false|(7,[2,3,5],[6.0,1...|[3.36615835088420...|[0.96662999510008...|       0.0|\n",
      "|         0|    0.0|        6|           261|       false|           0.0|           0|           false|(7,[2,3],[6.0,261...|[3.40637681077829...|[0.96790323309197...|       0.0|\n",
      "|         0|    0.0|        6|           261|       false|           0.0|           0|           false|(7,[2,3],[6.0,261...|[3.40637681077829...|[0.96790323309197...|       0.0|\n",
      "+----------+-------+---------+--------------+------------+--------------+------------+----------------+--------------------+--------------------+--------------------+----------+\n",
      "only showing top 5 rows\n",
      "\n"
     ]
    }
   ],
   "source": [
    "predictions.show(5)"
   ]
  },
  {
   "cell_type": "code",
   "execution_count": 6,
   "metadata": {},
   "outputs": [
    {
     "name": "stdout",
     "output_type": "stream",
     "text": [
      "Testing AUC: 0.9610717509516026\n"
     ]
    }
   ],
   "source": [
    "\n",
    "evaluator = BinaryClassificationEvaluator(labelCol='Is Attack IP')\n",
    "\n",
    "# Evaluate model on testing data\n",
    "test_auc = evaluator.evaluate(predictions)\n",
    "\n",
    "print(\"Testing AUC:\", test_auc)"
   ]
  },
  {
   "cell_type": "code",
   "execution_count": 7,
   "metadata": {},
   "outputs": [
    {
     "name": "stdout",
     "output_type": "stream",
     "text": [
      "Accuracy: 0.9892240207072857\n",
      "Precision: 1.0\n",
      "Recall: 0.8908902423221459\n",
      "F1 measure: 0.942297149122807\n"
     ]
    }
   ],
   "source": [
    "tp = predictions.filter((F.col('Is Attack IP') == 1) & (F.col('prediction') == 1)).count()\n",
    "tn = predictions.filter((F.col('Is Attack IP') == 0) & (F.col('prediction') == 0)).count()\n",
    "fp = predictions.filter((F.col('Is Attack IP') == 0) & (F.col('prediction') == 1)).count()\n",
    "fn = predictions.filter((F.col('Is Attack IP') == 1) & (F.col('prediction') == 0)).count()\n",
    "\n",
    "# Calculate accuracy\n",
    "accuracy = (tp + tn) / (tp + tn + fp + fn)\n",
    "print(f\"Accuracy: {accuracy}\")\n",
    "\n",
    "# Calculate precision\n",
    "precision = tp / (tp + fp) if (tp + fp) != 0 else 0  \n",
    "print(f\"Precision: {precision}\")\n",
    "\n",
    "# Calculate recall\n",
    "recall = tp / (tp + fn) if (tp + fn) != 0 else 0.0  \n",
    "print(f\"Recall: {recall}\")\n",
    "\n",
    "# Calculate F1 measure\n",
    "f1_measure = 2 * (precision * recall) / (precision + recall) if (precision + recall) != 0 else 0.0  \n",
    "print(f\"F1 measure: {f1_measure}\")"
   ]
  },
  {
   "cell_type": "markdown",
   "metadata": {},
   "source": [
    "- Accuracy (98.91%): O modelo é altamente eficaz na classificação correta da maioria das instâncias.\n",
    "- Precision (100%): O modelo não cometeu nenhum erro ao prever positivos, todos os positivos previstos eram realmente positivos.\n",
    "- Recall (88.90%): O modelo conseguiu identificar a maioria das instâncias positivas, embora algumas tenham sido perdidas.\n",
    "- F1 score (94.12%): A medida F1 indica que há um bom equilíbrio entre precisão e recall, sugerindo que o modelo é robusto tanto em evitar falsos positivos quanto em identificar verdadeiros positivos.\n"
   ]
  },
  {
   "cell_type": "markdown",
   "metadata": {},
   "source": [
    "Temos um modelo robusto e eficaz, capaz de classificar um verdadeiro \"Attack IP\", sem classificar Negativos como Positivos. No entanto alguns Positivos não foram corretamente classificados como Positivos, apesar de ser um valor reduzido."
   ]
  },
  {
   "cell_type": "code",
   "execution_count": 8,
   "metadata": {},
   "outputs": [
    {
     "data": {
      "image/png": "[encoded data removed]",
      "text/plain": [
       "<Figure size 640x480 with 2 Axes>"
      ]
     },
     "metadata": {},
     "output_type": "display_data"
    }
   ],
   "source": [
    "true_labels_and_preds = predictions.select('Is Attack IP', 'prediction').rdd.map(lambda row: (row[0], row[1]))\n",
    "\n",
    "# Calculate confusion matrix\n",
    "cm = confusion_matrix(true_labels_and_preds.map(lambda x: x[0]).collect(), \n",
    "                      true_labels_and_preds.map(lambda x: x[1]).collect())\n",
    "\n",
    "# Plot confusion matrix\n",
    "sns.heatmap(cm, annot=True, fmt='d', cmap='Blues', xticklabels=['Not Attack', 'Attack'], yticklabels=['Not Attack', 'Attack'])\n",
    "plt.xlabel('Predicted Label')\n",
    "plt.ylabel('True Label')\n",
    "plt.title('Confusion Matrix')\n",
    "plt.show()"
   ]
  },
  {
   "cell_type": "markdown",
   "metadata": {},
   "source": [
    "- True Positives (TP): Previsões corretas de ataques (canto inferior direito: 27218).\n",
    "- True Negatives (TN): Previsões corretas de não ataques (canto superior esquerdo: 281981).\n",
    "- False Positives (FP): Previsões incorretas de ataques (canto superior direito: 0).\n",
    "- False Negatives (FN): Previsões incorretas de não ataques (canto inferior esquerdo: 3399)."
   ]
  }
 ],
 "metadata": {
  "kernelspec": {
   "display_name": "vscode_pyspark",
   "language": "python",
   "name": "python3"
  },
  "language_info": {
   "codemirror_mode": {
    "name": "ipython",
    "version": 3
   },
   "file_extension": ".py",
   "mimetype": "text/x-python",
   "name": "python",
   "nbconvert_exporter": "python",
   "pygments_lexer": "ipython3",
   "version": "3.11.8"
  }
 },
 "nbformat": 4,
 "nbformat_minor": 2
}
