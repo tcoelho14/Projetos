{
 "cells": [
  {
   "cell_type": "markdown",
   "metadata": {},
   "source": [
    "# Risk Based Authentication \n",
    "\n",
    "Trabalho Realizado por:\n",
    "\n",
    "- Bernardo Coelho nº 98445\n",
    "- Francisco Camilo nº99234\n",
    "- Simão Miguel nº 99064\n",
    "- Tiago Coelho nº 105176\n",
    "\n",
    "\n",
    "A nossa base de dados escolhida é relativa a histórico de tentativas de login.\n",
    "Foi definido ao longo do projeto que o objetivo seria determinar se um login poderia ser ou não um ataque de IP\n",
    "\n",
    "Para tal fizemos 4 notebooks , cada um com objetivos diferente:\n",
    "- Extract, transform and load (ETL)- neste notebook irá ser feita uma limpeza e tratamento, serão escolhidas as variáveis a utiizar para o modelo\n",
    "- Análise exploratória-> neste notebook iremos verificar e analisar os dados\n",
    "- Treino e afinação do modelo -> nestenotebook irá ser criado o modelo para o objetivo final de determinar se se um login pode ser ou não um ataque de IP\n",
    "- Deployment do modelo -> iremos ver os resultados do modelo\n"
   ]
  },
  {
   "cell_type": "code",
   "execution_count": 14,
   "metadata": {},
   "outputs": [],
   "source": [
    "\n",
    "from pyspark.sql import SparkSession\n",
    "from pyspark.ml.classification import LogisticRegression\n",
    "from pyspark.ml.evaluation import BinaryClassificationEvaluator\n",
    "from pyspark.ml import Pipeline\n",
    "import matplotlib.pyplot as plt"
   ]
  },
  {
   "cell_type": "code",
   "execution_count": 2,
   "metadata": {},
   "outputs": [],
   "source": [
    "# build our SparkSession\n",
    "\n",
    "spark = SparkSession\\\n",
    "        .builder\\\n",
    "        .appName(\"BigData\")\\\n",
    "        .config(\"spark.sql.shuffle.partitions\",6)\\\n",
    "        .config(\"spark.sql.repl.eagereval.enabled\",True)\\\n",
    "        .getOrCreate()"
   ]
  },
  {
   "cell_type": "code",
   "execution_count": 3,
   "metadata": {},
   "outputs": [],
   "source": [
    "output = spark.read.parquet('/home/jovyan/code/Projeto/model_db.parquet')"
   ]
  },
  {
   "cell_type": "code",
   "execution_count": 4,
   "metadata": {},
   "outputs": [
    {
     "name": "stdout",
     "output_type": "stream",
     "text": [
      "+----------+-------+---------+--------------+------------+--------------+------------+----------------+--------------------+\n",
      "|hashed_ASN|dtIndex|hashed_OS|hashed_browser|Dangerous IP|ip_class_index|Is Attack IP|Login Successful|            features|\n",
      "+----------+-------+---------+--------------+------------+--------------+------------+----------------+--------------------+\n",
      "|        53|    0.0|       22|            61|       false|           0.0|           0|            true|[53.0,0.0,22.0,61...|\n",
      "|         0|    0.0|       60|           345|       false|           0.0|           0|           false|(7,[2,3],[60.0,34...|\n",
      "|        43|    0.0|       36|           286|       false|           0.0|           0|           false|(7,[0,2,3],[43.0,...|\n",
      "|        53|    1.0|       37|            31|       false|           0.0|           0|           false|[53.0,1.0,37.0,31...|\n",
      "|        53|    1.0|       37|            97|       false|           0.0|           0|           false|[53.0,1.0,37.0,97...|\n",
      "|        23|    0.0|       60|            20|       false|           0.0|           0|           false|(7,[0,2,3],[23.0,...|\n",
      "|        53|    1.0|       37|           239|       false|           1.0|           0|            true|[53.0,1.0,37.0,23...|\n",
      "|        53|    1.0|       97|            13|       false|           0.0|           0|            true|[53.0,1.0,97.0,13...|\n",
      "|        53|    0.0|       83|           113|       false|           0.0|           0|            true|[53.0,0.0,83.0,11...|\n",
      "|        84|    0.0|       36|           353|        true|           0.0|           1|           false|[84.0,0.0,36.0,35...|\n",
      "|        89|    1.0|       52|           480|       false|           1.0|           0|           false|[89.0,1.0,52.0,48...|\n",
      "|         0|    1.0|       37|            83|       false|           0.0|           0|            true|[0.0,1.0,37.0,83....|\n",
      "|        53|    0.0|       83|           113|       false|           1.0|           0|            true|[53.0,0.0,83.0,11...|\n",
      "|        91|    1.0|       37|           131|       false|           0.0|           0|            true|[91.0,1.0,37.0,13...|\n",
      "|        81|    2.0|        4|           256|       false|           1.0|           0|           false|[81.0,2.0,4.0,256...|\n",
      "|        81|    2.0|        4|           256|       false|           1.0|           0|           false|[81.0,2.0,4.0,256...|\n",
      "|        53|    0.0|       60|            22|       false|           0.0|           0|           false|(7,[0,2,3],[53.0,...|\n",
      "|        81|    2.0|        4|           256|       false|           1.0|           0|           false|[81.0,2.0,4.0,256...|\n",
      "|        53|    1.0|       37|           181|       false|           0.0|           0|            true|[53.0,1.0,37.0,18...|\n",
      "|        84|    0.0|       36|           387|        true|           0.0|           1|           false|[84.0,0.0,36.0,38...|\n",
      "+----------+-------+---------+--------------+------------+--------------+------------+----------------+--------------------+\n",
      "only showing top 20 rows\n",
      "\n"
     ]
    }
   ],
   "source": [
    "output.show()"
   ]
  },
  {
   "cell_type": "markdown",
   "metadata": {},
   "source": [
    "# Modelo de classificação"
   ]
  },
  {
   "cell_type": "markdown",
   "metadata": {},
   "source": [
    "### Iremos agora então criar o modelo para prever se o login pode ser considerado ataque ou não"
   ]
  },
  {
   "cell_type": "markdown",
   "metadata": {},
   "source": [
    "## Regressão Logística"
   ]
  },
  {
   "cell_type": "code",
   "execution_count": 5,
   "metadata": {},
   "outputs": [],
   "source": [
    "train, test = output.randomSplit([0.8, 0.2], seed=17)"
   ]
  },
  {
   "cell_type": "code",
   "execution_count": 6,
   "metadata": {},
   "outputs": [
    {
     "name": "stdout",
     "output_type": "stream",
     "text": [
      "Size of trainning data: 1251060\n",
      "Size of test data: 312547\n"
     ]
    }
   ],
   "source": [
    "print(\"Size of trainning data:\",train.count())\n",
    "print(\"Size of test data:\",test.count())"
   ]
  },
  {
   "cell_type": "code",
   "execution_count": 7,
   "metadata": {},
   "outputs": [],
   "source": [
    "lr = LogisticRegression(featuresCol = 'features', labelCol = 'Is Attack IP', maxIter=10)"
   ]
  },
  {
   "cell_type": "code",
   "execution_count": 9,
   "metadata": {},
   "outputs": [],
   "source": [
    "pipeline = Pipeline(stages=[lr])\n",
    "\n",
    "# Train the model\n",
    "pipelineModel = pipeline.fit(train)\n",
    "\n",
    "# Save the trained pipeline model\n",
    "pipelineModel.write().overwrite().save('/home/jovyan/code/Projeto/pipeline')\n"
   ]
  },
  {
   "cell_type": "code",
   "execution_count": 10,
   "metadata": {},
   "outputs": [],
   "source": [
    "output_logins = \"test.parquet\"\n",
    "test.write.mode(\"overwrite\").parquet(output_logins)"
   ]
  },
  {
   "cell_type": "code",
   "execution_count": 11,
   "metadata": {},
   "outputs": [],
   "source": [
    "lrModel = lr.fit(train)"
   ]
  },
  {
   "cell_type": "code",
   "execution_count": 12,
   "metadata": {},
   "outputs": [
    {
     "data": {
      "text/plain": [
       "LogisticRegressionModel: uid=LogisticRegression_22425f42297a, numClasses=2, numFeatures=7"
      ]
     },
     "execution_count": 12,
     "metadata": {},
     "output_type": "execute_result"
    }
   ],
   "source": [
    "lrModel"
   ]
  },
  {
   "cell_type": "code",
   "execution_count": 15,
   "metadata": {},
   "outputs": [
    {
     "data": {
      "image/png": "[encoded data removed]",
      "text/plain": [
       "<Figure size 640x480 with 1 Axes>"
      ]
     },
     "metadata": {},
     "output_type": "display_data"
    },
    {
     "name": "stdout",
     "output_type": "stream",
     "text": [
      "Training set areaUnderROC: 0.960926496064776\n"
     ]
    }
   ],
   "source": [
    "trainingSummary = lrModel.summary\n",
    "lrROC = trainingSummary.roc.toPandas()\n",
    "\n",
    "plt.plot(lrROC['FPR'],lrROC['TPR'])\n",
    "plt.ylabel('False Positive Rate')\n",
    "plt.xlabel('True Positive Rate')\n",
    "plt.title('ROC Curve')\n",
    "plt.show()\n",
    "\n",
    "print('Training set areaUnderROC: ' + str(trainingSummary.areaUnderROC))"
   ]
  },
  {
   "cell_type": "markdown",
   "metadata": {},
   "source": [
    "A ROC indica que o seu classificador tem um bom desempenho, pois atinge uma alta taxa de True Positive com uma taxa de False Positive relativamente baixa em grande parte dos limiares.\n",
    "A área sob a curva, como é 0.96, indica que temos um classificar quase perfeito (perto de 1)."
   ]
  },
  {
   "cell_type": "code",
   "execution_count": 17,
   "metadata": {},
   "outputs": [
    {
     "data": {
      "image/png": "[encoded data removed]",
      "text/plain": [
       "<Figure size 640x480 with 1 Axes>"
      ]
     },
     "metadata": {},
     "output_type": "display_data"
    }
   ],
   "source": [
    "pr = trainingSummary.pr.toPandas()\n",
    "plt.plot(pr['recall'],pr['precision'])\n",
    "plt.ylabel('Precision')\n",
    "plt.xlabel('Recall')\n",
    "plt.show()"
   ]
  },
  {
   "cell_type": "markdown",
   "metadata": {},
   "source": [
    "A curva PR (Precision-Recall) mostra que o modelo mantém uma alta precisão (próxima de 1) até que o recall atinja cerca de 0.8. Após esse ponto, a precisão começa a diminuir rapidamente, indicando que a maioria das previsões adicionais feitas para aumentar o recall são False Positive."
   ]
  }
 ],
 "metadata": {
  "kernelspec": {
   "display_name": "vscode_pyspark",
   "language": "python",
   "name": "python3"
  },
  "language_info": {
   "codemirror_mode": {
    "name": "ipython",
    "version": 3
   },
   "file_extension": ".py",
   "mimetype": "text/x-python",
   "name": "python",
   "nbconvert_exporter": "python",
   "pygments_lexer": "ipython3",
   "version": "3.11.8"
  }
 },
 "nbformat": 4,
 "nbformat_minor": 2
}
